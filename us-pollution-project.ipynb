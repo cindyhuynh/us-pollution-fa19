{
 "cells": [
  {
   "cell_type": "code",
   "execution_count": 1,
   "metadata": {
    "slideshow": {
     "slide_type": "skip"
    }
   },
   "outputs": [],
   "source": [
    "import pandas as pd\n",
    "import numpy as np\n",
    "import seaborn as sns\n",
    "import matplotlib.pyplot as plt\n",
    "import folium\n",
    "import plotly.figure_factory as ff\n",
    "import plotly.graph_objects as go"
   ]
  },
  {
   "cell_type": "code",
   "execution_count": 2,
   "metadata": {
    "slideshow": {
     "slide_type": "skip"
    }
   },
   "outputs": [],
   "source": [
    "raw_data_copy = pd.read_csv(r'pollution_us_2000_2016.csv')\n",
    "raw_data_copy['State County Site Code'] = raw_data_copy['State Code'].astype(str) + '-' + raw_data_copy['County Code'].astype(str) + '-' + raw_data_copy['Site Num'].astype(str)\n",
    "raw_data_copy['SO2 AQI'] = raw_data_copy['SO2 AQI'].fillna(raw_data_copy.groupby(['State County Site Code', 'Date Local'])['SO2 AQI'].transform('mean'))\n",
    "raw_data_copy['CO AQI'] = raw_data_copy['CO AQI'].fillna(raw_data_copy.groupby(['State County Site Code', 'Date Local'])['CO AQI'].transform('mean'))\n",
    "raw_data_copy = raw_data_copy.drop(['Unnamed: 0', 'State Code', 'County Code', 'Site Num'], axis = 1)\n",
    "new_data = raw_data_copy.groupby(['Address', 'Date Local'])[['NO2 Mean','NO2 AQI','O3 Mean','O3 AQI','SO2 Mean','SO2 AQI','CO Mean','CO AQI',]].transform('mean')\n",
    "new_data['Address'] = raw_data_copy['Address']\n",
    "new_data['State'] = raw_data_copy['State']\n",
    "new_data['County'] = raw_data_copy['County']\n",
    "new_data['City'] = raw_data_copy['City']\n",
    "new_data['Date Local'] = raw_data_copy['Date Local']\n",
    "new_data['NO2 Units'] = raw_data_copy['NO2 Units']\n",
    "new_data['O3 Units'] = raw_data_copy['O3 Units']\n",
    "new_data['SO2 Units'] = raw_data_copy['SO2 Units']\n",
    "new_data['CO Units'] = raw_data_copy['CO Units']\n",
    "raw_data_copy = new_data\n",
    "data_with_site = raw_data_copy.drop_duplicates()\n",
    "new_data = data_with_site.groupby(['City', 'Date Local'])[['NO2 Mean','NO2 AQI','O3 Mean','O3 AQI','SO2 Mean','SO2 AQI','CO Mean','CO AQI']].transform('mean')\n",
    "new_data['State'] = raw_data_copy['State']\n",
    "new_data['County'] = raw_data_copy['County']\n",
    "new_data['City'] = raw_data_copy['City']\n",
    "new_data['Date Local'] = raw_data_copy['Date Local']\n",
    "new_data['NO2 Units'] = raw_data_copy['NO2 Units']\n",
    "new_data['O3 Units'] = raw_data_copy['O3 Units']\n",
    "new_data['SO2 Units'] = raw_data_copy['SO2 Units']\n",
    "new_data['CO Units'] = raw_data_copy['CO Units']\n",
    "\n",
    "data_with_city = new_data\n",
    "data_with_city = data_with_city.drop_duplicates()\n",
    "cols_to_include = ['city', 'county_name', 'state_name', 'lat', 'lng', \"county_fips\", \"state_id\"]\n",
    "coordinates = pd.read_csv('uscities.csv')[cols_to_include]\n",
    "combined = pd.merge(data_with_city, coordinates, how = 'left', \n",
    "                   left_on = ['County', 'State'], right_on = ['county_name', 'state_name']).drop(['city', 'county_name', 'state_name'], axis = 1)\n",
    "\n"
   ]
  },
  {
   "cell_type": "code",
   "execution_count": 15,
   "metadata": {
    "slideshow": {
     "slide_type": "skip"
    }
   },
   "outputs": [],
   "source": [
    "map_data = combined[np.isfinite(combined['county_fips'])]\n",
    "map_data = map_data[map_data[\"State\"] == \"California\"]\n",
    "\n",
    "data_2005 = map_data[map_data[\"Date Local\"].str.contains(\"2005\")]\n",
    "fips_2005 = data_2005[\"county_fips\"].unique()\n",
    "fips_2005 = fips_2005.astype(np.int)\n",
    "\n",
    "co_aqi_2005 = data_2005.groupby(\"county_fips\").mean()[\"CO AQI\"]\n",
    "leg_range = list(range(1, 10))\n",
    "aqi_2005_fig = ff.create_choropleth(fips=fips_2005, values=co_aqi_2005, binning_endpoints=leg_range, \n",
    "                           legend_title='CO AQI', title='Mean CO AQI for County in 2005', \n",
    "                           scope=['CA'])\n",
    "aqi_2005_fig.layout.template = None\n",
    "\n",
    "data_2015 = map_data[map_data[\"Date Local\"].str.contains(\"2015\")]\n",
    "fips_2015 = data_2015[\"county_fips\"].unique()\n",
    "fips_2015 = fips_2015.astype(np.int)\n",
    "\n",
    "co_aqi_2015 = data_2015.groupby(\"county_fips\").mean()[\"CO AQI\"]\n",
    "aqi_2015_fig = ff.create_choropleth(fips=fips_2015, values=co_aqi_2015, binning_endpoints=leg_range, \n",
    "                           legend_title='CO AQI', title='Mean CO AQI for County in 2015', \n",
    "                           scope=['CA'])\n",
    "aqi_2015_fig.layout.template = None"
   ]
  },
  {
   "cell_type": "code",
   "execution_count": 20,
   "metadata": {
    "slideshow": {
     "slide_type": "skip"
    }
   },
   "outputs": [],
   "source": [
    "co_us_fig = go.Figure(data=go.Choropleth(\n",
    "    locations=list(combined.groupby('state_id').groups.keys()), # Spatial coordinates\n",
    "    z = list(combined.groupby('state_id').mean()[\"CO AQI\"]), # Data to be color-coded\n",
    "    locationmode = 'USA-states', # set of locations match entries in `locations`\n",
    "    colorscale = 'Reds',\n",
    "    colorbar_title = \"CO AQI\",\n",
    "    marker_line_color = \"white\"\n",
    "))\n",
    "\n",
    "co_us_fig.update_layout(\n",
    "    title_text = 'US Mean CO AQI by State',\n",
    "    geo_scope='usa', # limite map scope to USA\n",
    ")\n",
    "\n",
    "so2_us_fig = go.Figure(data=go.Choropleth(\n",
    "    locations=list(combined.groupby('state_id').groups.keys()), # Spatial coordinates\n",
    "    z = list(combined.groupby('state_id').mean()[\"SO2 AQI\"]), # Data to be color-coded\n",
    "    locationmode = 'USA-states', # set of locations match entries in `locations`\n",
    "    colorscale = 'Blues',\n",
    "    colorbar_title = \"SO2 AQI\",\n",
    "    marker_line_color = \"white\"\n",
    "))\n",
    "\n",
    "so2_us_fig.update_layout(\n",
    "    title_text = 'US Mean SO2 AQI by State',\n",
    "    geo_scope='usa', # limite map scope to USA\n",
    ")\n",
    "\n",
    "no2_us_fig = go.Figure(data=go.Choropleth(\n",
    "    locations=list(combined.groupby('state_id').groups.keys()), # Spatial coordinates\n",
    "    z = list(combined.groupby('state_id').mean()[\"NO2 AQI\"]), # Data to be color-coded\n",
    "    locationmode = 'USA-states', # set of locations match entries in `locations`\n",
    "    colorscale = 'Greens',\n",
    "    colorbar_title = \"NO2 AQI\",\n",
    "    marker_line_color = \"white\"\n",
    "))\n",
    "\n",
    "no2_us_fig.update_layout(\n",
    "    title_text = 'US Mean NO2 AQI by State',\n",
    "    geo_scope='usa', # limite map scope to USA\n",
    ")\n",
    "\n",
    "o3_us_fig = go.Figure(data=go.Choropleth(\n",
    "    locations=list(combined.groupby('state_id').groups.keys()), # Spatial coordinates\n",
    "    z = list(combined.groupby('state_id').mean()[\"O3 AQI\"]), # Data to be color-coded\n",
    "    locationmode = 'USA-states', # set of locations match entries in `locations`\n",
    "    colorscale = 'Purples',\n",
    "    colorbar_title = \"O3 AQI\",\n",
    "    marker_line_color = \"white\"\n",
    "))\n",
    "\n",
    "o3_us_fig.update_layout(\n",
    "    title_text = 'US Mean O3 AQI by State',\n",
    "    geo_scope='usa', # limite map scope to USA\n",
    ");"
   ]
  },
  {
   "cell_type": "markdown",
   "metadata": {
    "slideshow": {
     "slide_type": "slide"
    }
   },
   "source": [
    "# US Pollution Analysis from 2000 - 2016\n",
    "Charles Elliot, Cindy Huynh, Lily Moon, Shubham Kaushal\n",
    "\n",
    "Fall 2019"
   ]
  },
  {
   "cell_type": "markdown",
   "metadata": {
    "slideshow": {
     "slide_type": "slide"
    }
   },
   "source": [
    "# Introduction"
   ]
  },
  {
   "cell_type": "markdown",
   "metadata": {
    "slideshow": {
     "slide_type": "slide"
    }
   },
   "source": [
    "### Why is it important to study pollution trends?\n",
    "* Climate change\n",
    "* Environmental issues\n",
    "* Health issues"
   ]
  },
  {
   "cell_type": "markdown",
   "metadata": {
    "slideshow": {
     "slide_type": "slide"
    }
   },
   "source": [
    "### Why focus on data visualization?\n",
    "* Eaisest for general public to understand\n",
    "* We want to educate about the severity of our carbon footprint on the enviroment"
   ]
  },
  {
   "cell_type": "markdown",
   "metadata": {
    "slideshow": {
     "slide_type": "slide"
    }
   },
   "source": [
    "### We want to explore questions like:\n",
    "* How population density contributes to pollution?\n",
    "* How daily activities of society affects the environment more than we realize?"
   ]
  },
  {
   "cell_type": "markdown",
   "metadata": {
    "slideshow": {
     "slide_type": "slide"
    }
   },
   "source": [
    "# Datasets"
   ]
  },
  {
   "cell_type": "markdown",
   "metadata": {
    "slideshow": {
     "slide_type": "slide"
    }
   },
   "source": [
    "## The US Pollution 2000 - 2016 Dataset\n",
    "<div class=\"image-txt-container\">\n",
    "    \n",
    "xlfansldkfnalsdnfla    \n",
    "    \n",
    "    \n",
    "<img src=\"dataset_info.png\" width=\"70%\">\n",
    "\n",
    "</div>"
   ]
  },
  {
   "cell_type": "markdown",
   "metadata": {
    "slideshow": {
     "slide_type": "slide"
    }
   },
   "source": [
    "## Other dataset\n",
    "\n",
    "describe and explain the dataset and cleaning process for each data set"
   ]
  },
  {
   "cell_type": "markdown",
   "metadata": {
    "slideshow": {
     "slide_type": "slide"
    }
   },
   "source": [
    "# Exploratory Data Analysis and Visualization"
   ]
  },
  {
   "cell_type": "markdown",
   "metadata": {
    "slideshow": {
     "slide_type": "slide"
    }
   },
   "source": [
    "## Our data vis \n",
    "\n",
    "explain what this vis is telling us, how we produced it, and analysis"
   ]
  },
  {
   "cell_type": "code",
   "execution_count": 26,
   "metadata": {
    "scrolled": false,
    "slideshow": {
     "slide_type": "-"
    }
   },
   "outputs": [
    {
     "data": {
      "application/vnd.plotly.v1+json": {
       "config": {
        "plotlyServerURL": "https://plot.ly"
       },
       "data": [
        {
         "colorbar": {
          "title": {
           "text": "CO AQI"
          }
         },
         "colorscale": [
          [
           0,
           "rgb(255,245,240)"
          ],
          [
           0.125,
           "rgb(254,224,210)"
          ],
          [
           0.25,
           "rgb(252,187,161)"
          ],
          [
           0.375,
           "rgb(252,146,114)"
          ],
          [
           0.5,
           "rgb(251,106,74)"
          ],
          [
           0.625,
           "rgb(239,59,44)"
          ],
          [
           0.75,
           "rgb(203,24,29)"
          ],
          [
           0.875,
           "rgb(165,15,21)"
          ],
          [
           1,
           "rgb(103,0,13)"
          ]
         ],
         "locationmode": "USA-states",
         "locations": [
          "AL",
          "AR",
          "AZ",
          "CA",
          "CO",
          "CT",
          "DE",
          "FL",
          "GA",
          "HI",
          "IA",
          "ID",
          "IL",
          "IN",
          "KS",
          "KY",
          "LA",
          "MA",
          "MD",
          "ME",
          "MI",
          "MN",
          "NC",
          "ND",
          "NH",
          "NJ",
          "NM",
          "NV",
          "NY",
          "OH",
          "OK",
          "OR",
          "PA",
          "RI",
          "SC",
          "SD",
          "TN",
          "TX",
          "UT",
          "VA",
          "WA",
          "WI",
          "WY"
         ],
         "marker": {
          "line": {
           "color": "white"
          }
         },
         "type": "choropleth",
         "z": [
          3.8516624040920715,
          6.0413210900473935,
          8.65258410014223,
          8.44193810917669,
          8.21854356859133,
          3.672428923881907,
          3.8393839383938393,
          6.031498250285408,
          3.0208376488866127,
          3.129226132881929,
          3.2221979938944614,
          2.619538018992171,
          6.565543724908361,
          5.478788810328927,
          6.681591634652216,
          5.128634662820355,
          6.349262878913367,
          5.143867023309133,
          4.117136468070253,
          4.327489782748978,
          6.654860507599809,
          3.4561797752808987,
          5.569566685662425,
          2.914336415752072,
          5.415612808049941,
          6.3310337497216205,
          3.4798432250839864,
          3.3668771777003483,
          3.296695929800672,
          3.8166003371708226,
          2.354577252619667,
          5.128687690742624,
          3.940274477333158,
          3.162025316455696,
          3.572174939987896,
          2.540582084893882,
          3.247030596027792,
          4.2514375903894965,
          5.410886668711245,
          6.509448875837925,
          2.7302904564315353,
          5.24802110817942,
          2.7399264438752167
         ]
        }
       ],
       "layout": {
        "geo": {
         "scope": "usa"
        },
        "template": {
         "data": {
          "bar": [
           {
            "error_x": {
             "color": "#2a3f5f"
            },
            "error_y": {
             "color": "#2a3f5f"
            },
            "marker": {
             "line": {
              "color": "#E5ECF6",
              "width": 0.5
             }
            },
            "type": "bar"
           }
          ],
          "barpolar": [
           {
            "marker": {
             "line": {
              "color": "#E5ECF6",
              "width": 0.5
             }
            },
            "type": "barpolar"
           }
          ],
          "carpet": [
           {
            "aaxis": {
             "endlinecolor": "#2a3f5f",
             "gridcolor": "white",
             "linecolor": "white",
             "minorgridcolor": "white",
             "startlinecolor": "#2a3f5f"
            },
            "baxis": {
             "endlinecolor": "#2a3f5f",
             "gridcolor": "white",
             "linecolor": "white",
             "minorgridcolor": "white",
             "startlinecolor": "#2a3f5f"
            },
            "type": "carpet"
           }
          ],
          "choropleth": [
           {
            "colorbar": {
             "outlinewidth": 0,
             "ticks": ""
            },
            "type": "choropleth"
           }
          ],
          "contour": [
           {
            "colorbar": {
             "outlinewidth": 0,
             "ticks": ""
            },
            "colorscale": [
             [
              0,
              "#0d0887"
             ],
             [
              0.1111111111111111,
              "#46039f"
             ],
             [
              0.2222222222222222,
              "#7201a8"
             ],
             [
              0.3333333333333333,
              "#9c179e"
             ],
             [
              0.4444444444444444,
              "#bd3786"
             ],
             [
              0.5555555555555556,
              "#d8576b"
             ],
             [
              0.6666666666666666,
              "#ed7953"
             ],
             [
              0.7777777777777778,
              "#fb9f3a"
             ],
             [
              0.8888888888888888,
              "#fdca26"
             ],
             [
              1,
              "#f0f921"
             ]
            ],
            "type": "contour"
           }
          ],
          "contourcarpet": [
           {
            "colorbar": {
             "outlinewidth": 0,
             "ticks": ""
            },
            "type": "contourcarpet"
           }
          ],
          "heatmap": [
           {
            "colorbar": {
             "outlinewidth": 0,
             "ticks": ""
            },
            "colorscale": [
             [
              0,
              "#0d0887"
             ],
             [
              0.1111111111111111,
              "#46039f"
             ],
             [
              0.2222222222222222,
              "#7201a8"
             ],
             [
              0.3333333333333333,
              "#9c179e"
             ],
             [
              0.4444444444444444,
              "#bd3786"
             ],
             [
              0.5555555555555556,
              "#d8576b"
             ],
             [
              0.6666666666666666,
              "#ed7953"
             ],
             [
              0.7777777777777778,
              "#fb9f3a"
             ],
             [
              0.8888888888888888,
              "#fdca26"
             ],
             [
              1,
              "#f0f921"
             ]
            ],
            "type": "heatmap"
           }
          ],
          "heatmapgl": [
           {
            "colorbar": {
             "outlinewidth": 0,
             "ticks": ""
            },
            "colorscale": [
             [
              0,
              "#0d0887"
             ],
             [
              0.1111111111111111,
              "#46039f"
             ],
             [
              0.2222222222222222,
              "#7201a8"
             ],
             [
              0.3333333333333333,
              "#9c179e"
             ],
             [
              0.4444444444444444,
              "#bd3786"
             ],
             [
              0.5555555555555556,
              "#d8576b"
             ],
             [
              0.6666666666666666,
              "#ed7953"
             ],
             [
              0.7777777777777778,
              "#fb9f3a"
             ],
             [
              0.8888888888888888,
              "#fdca26"
             ],
             [
              1,
              "#f0f921"
             ]
            ],
            "type": "heatmapgl"
           }
          ],
          "histogram": [
           {
            "marker": {
             "colorbar": {
              "outlinewidth": 0,
              "ticks": ""
             }
            },
            "type": "histogram"
           }
          ],
          "histogram2d": [
           {
            "colorbar": {
             "outlinewidth": 0,
             "ticks": ""
            },
            "colorscale": [
             [
              0,
              "#0d0887"
             ],
             [
              0.1111111111111111,
              "#46039f"
             ],
             [
              0.2222222222222222,
              "#7201a8"
             ],
             [
              0.3333333333333333,
              "#9c179e"
             ],
             [
              0.4444444444444444,
              "#bd3786"
             ],
             [
              0.5555555555555556,
              "#d8576b"
             ],
             [
              0.6666666666666666,
              "#ed7953"
             ],
             [
              0.7777777777777778,
              "#fb9f3a"
             ],
             [
              0.8888888888888888,
              "#fdca26"
             ],
             [
              1,
              "#f0f921"
             ]
            ],
            "type": "histogram2d"
           }
          ],
          "histogram2dcontour": [
           {
            "colorbar": {
             "outlinewidth": 0,
             "ticks": ""
            },
            "colorscale": [
             [
              0,
              "#0d0887"
             ],
             [
              0.1111111111111111,
              "#46039f"
             ],
             [
              0.2222222222222222,
              "#7201a8"
             ],
             [
              0.3333333333333333,
              "#9c179e"
             ],
             [
              0.4444444444444444,
              "#bd3786"
             ],
             [
              0.5555555555555556,
              "#d8576b"
             ],
             [
              0.6666666666666666,
              "#ed7953"
             ],
             [
              0.7777777777777778,
              "#fb9f3a"
             ],
             [
              0.8888888888888888,
              "#fdca26"
             ],
             [
              1,
              "#f0f921"
             ]
            ],
            "type": "histogram2dcontour"
           }
          ],
          "mesh3d": [
           {
            "colorbar": {
             "outlinewidth": 0,
             "ticks": ""
            },
            "type": "mesh3d"
           }
          ],
          "parcoords": [
           {
            "line": {
             "colorbar": {
              "outlinewidth": 0,
              "ticks": ""
             }
            },
            "type": "parcoords"
           }
          ],
          "pie": [
           {
            "automargin": true,
            "type": "pie"
           }
          ],
          "scatter": [
           {
            "marker": {
             "colorbar": {
              "outlinewidth": 0,
              "ticks": ""
             }
            },
            "type": "scatter"
           }
          ],
          "scatter3d": [
           {
            "line": {
             "colorbar": {
              "outlinewidth": 0,
              "ticks": ""
             }
            },
            "marker": {
             "colorbar": {
              "outlinewidth": 0,
              "ticks": ""
             }
            },
            "type": "scatter3d"
           }
          ],
          "scattercarpet": [
           {
            "marker": {
             "colorbar": {
              "outlinewidth": 0,
              "ticks": ""
             }
            },
            "type": "scattercarpet"
           }
          ],
          "scattergeo": [
           {
            "marker": {
             "colorbar": {
              "outlinewidth": 0,
              "ticks": ""
             }
            },
            "type": "scattergeo"
           }
          ],
          "scattergl": [
           {
            "marker": {
             "colorbar": {
              "outlinewidth": 0,
              "ticks": ""
             }
            },
            "type": "scattergl"
           }
          ],
          "scattermapbox": [
           {
            "marker": {
             "colorbar": {
              "outlinewidth": 0,
              "ticks": ""
             }
            },
            "type": "scattermapbox"
           }
          ],
          "scatterpolar": [
           {
            "marker": {
             "colorbar": {
              "outlinewidth": 0,
              "ticks": ""
             }
            },
            "type": "scatterpolar"
           }
          ],
          "scatterpolargl": [
           {
            "marker": {
             "colorbar": {
              "outlinewidth": 0,
              "ticks": ""
             }
            },
            "type": "scatterpolargl"
           }
          ],
          "scatterternary": [
           {
            "marker": {
             "colorbar": {
              "outlinewidth": 0,
              "ticks": ""
             }
            },
            "type": "scatterternary"
           }
          ],
          "surface": [
           {
            "colorbar": {
             "outlinewidth": 0,
             "ticks": ""
            },
            "colorscale": [
             [
              0,
              "#0d0887"
             ],
             [
              0.1111111111111111,
              "#46039f"
             ],
             [
              0.2222222222222222,
              "#7201a8"
             ],
             [
              0.3333333333333333,
              "#9c179e"
             ],
             [
              0.4444444444444444,
              "#bd3786"
             ],
             [
              0.5555555555555556,
              "#d8576b"
             ],
             [
              0.6666666666666666,
              "#ed7953"
             ],
             [
              0.7777777777777778,
              "#fb9f3a"
             ],
             [
              0.8888888888888888,
              "#fdca26"
             ],
             [
              1,
              "#f0f921"
             ]
            ],
            "type": "surface"
           }
          ],
          "table": [
           {
            "cells": {
             "fill": {
              "color": "#EBF0F8"
             },
             "line": {
              "color": "white"
             }
            },
            "header": {
             "fill": {
              "color": "#C8D4E3"
             },
             "line": {
              "color": "white"
             }
            },
            "type": "table"
           }
          ]
         },
         "layout": {
          "annotationdefaults": {
           "arrowcolor": "#2a3f5f",
           "arrowhead": 0,
           "arrowwidth": 1
          },
          "coloraxis": {
           "colorbar": {
            "outlinewidth": 0,
            "ticks": ""
           }
          },
          "colorscale": {
           "diverging": [
            [
             0,
             "#8e0152"
            ],
            [
             0.1,
             "#c51b7d"
            ],
            [
             0.2,
             "#de77ae"
            ],
            [
             0.3,
             "#f1b6da"
            ],
            [
             0.4,
             "#fde0ef"
            ],
            [
             0.5,
             "#f7f7f7"
            ],
            [
             0.6,
             "#e6f5d0"
            ],
            [
             0.7,
             "#b8e186"
            ],
            [
             0.8,
             "#7fbc41"
            ],
            [
             0.9,
             "#4d9221"
            ],
            [
             1,
             "#276419"
            ]
           ],
           "sequential": [
            [
             0,
             "#0d0887"
            ],
            [
             0.1111111111111111,
             "#46039f"
            ],
            [
             0.2222222222222222,
             "#7201a8"
            ],
            [
             0.3333333333333333,
             "#9c179e"
            ],
            [
             0.4444444444444444,
             "#bd3786"
            ],
            [
             0.5555555555555556,
             "#d8576b"
            ],
            [
             0.6666666666666666,
             "#ed7953"
            ],
            [
             0.7777777777777778,
             "#fb9f3a"
            ],
            [
             0.8888888888888888,
             "#fdca26"
            ],
            [
             1,
             "#f0f921"
            ]
           ],
           "sequentialminus": [
            [
             0,
             "#0d0887"
            ],
            [
             0.1111111111111111,
             "#46039f"
            ],
            [
             0.2222222222222222,
             "#7201a8"
            ],
            [
             0.3333333333333333,
             "#9c179e"
            ],
            [
             0.4444444444444444,
             "#bd3786"
            ],
            [
             0.5555555555555556,
             "#d8576b"
            ],
            [
             0.6666666666666666,
             "#ed7953"
            ],
            [
             0.7777777777777778,
             "#fb9f3a"
            ],
            [
             0.8888888888888888,
             "#fdca26"
            ],
            [
             1,
             "#f0f921"
            ]
           ]
          },
          "colorway": [
           "#636efa",
           "#EF553B",
           "#00cc96",
           "#ab63fa",
           "#FFA15A",
           "#19d3f3",
           "#FF6692",
           "#B6E880",
           "#FF97FF",
           "#FECB52"
          ],
          "font": {
           "color": "#2a3f5f"
          },
          "geo": {
           "bgcolor": "white",
           "lakecolor": "white",
           "landcolor": "#E5ECF6",
           "showlakes": true,
           "showland": true,
           "subunitcolor": "white"
          },
          "hoverlabel": {
           "align": "left"
          },
          "hovermode": "closest",
          "mapbox": {
           "style": "light"
          },
          "paper_bgcolor": "white",
          "plot_bgcolor": "#E5ECF6",
          "polar": {
           "angularaxis": {
            "gridcolor": "white",
            "linecolor": "white",
            "ticks": ""
           },
           "bgcolor": "#E5ECF6",
           "radialaxis": {
            "gridcolor": "white",
            "linecolor": "white",
            "ticks": ""
           }
          },
          "scene": {
           "xaxis": {
            "backgroundcolor": "#E5ECF6",
            "gridcolor": "white",
            "gridwidth": 2,
            "linecolor": "white",
            "showbackground": true,
            "ticks": "",
            "zerolinecolor": "white"
           },
           "yaxis": {
            "backgroundcolor": "#E5ECF6",
            "gridcolor": "white",
            "gridwidth": 2,
            "linecolor": "white",
            "showbackground": true,
            "ticks": "",
            "zerolinecolor": "white"
           },
           "zaxis": {
            "backgroundcolor": "#E5ECF6",
            "gridcolor": "white",
            "gridwidth": 2,
            "linecolor": "white",
            "showbackground": true,
            "ticks": "",
            "zerolinecolor": "white"
           }
          },
          "shapedefaults": {
           "line": {
            "color": "#2a3f5f"
           }
          },
          "ternary": {
           "aaxis": {
            "gridcolor": "white",
            "linecolor": "white",
            "ticks": ""
           },
           "baxis": {
            "gridcolor": "white",
            "linecolor": "white",
            "ticks": ""
           },
           "bgcolor": "#E5ECF6",
           "caxis": {
            "gridcolor": "white",
            "linecolor": "white",
            "ticks": ""
           }
          },
          "title": {
           "x": 0.05
          },
          "xaxis": {
           "automargin": true,
           "gridcolor": "white",
           "linecolor": "white",
           "ticks": "",
           "title": {
            "standoff": 15
           },
           "zerolinecolor": "white",
           "zerolinewidth": 2
          },
          "yaxis": {
           "automargin": true,
           "gridcolor": "white",
           "linecolor": "white",
           "ticks": "",
           "title": {
            "standoff": 15
           },
           "zerolinecolor": "white",
           "zerolinewidth": 2
          }
         }
        },
        "title": {
         "text": "US Mean CO AQI by State"
        }
       }
      },
      "text/html": [
       "<div>\n",
       "        \n",
       "        \n",
       "            <div id=\"03cacc76-7aaa-4a27-b040-7b22b9bd6b79\" class=\"plotly-graph-div\" style=\"height:525px; width:100%;\"></div>\n",
       "            <script type=\"text/javascript\">\n",
       "                require([\"plotly\"], function(Plotly) {\n",
       "                    window.PLOTLYENV=window.PLOTLYENV || {};\n",
       "                    \n",
       "                if (document.getElementById(\"03cacc76-7aaa-4a27-b040-7b22b9bd6b79\")) {\n",
       "                    Plotly.newPlot(\n",
       "                        '03cacc76-7aaa-4a27-b040-7b22b9bd6b79',\n",
       "                        [{\"colorbar\": {\"title\": {\"text\": \"CO AQI\"}}, \"colorscale\": [[0.0, \"rgb(255,245,240)\"], [0.125, \"rgb(254,224,210)\"], [0.25, \"rgb(252,187,161)\"], [0.375, \"rgb(252,146,114)\"], [0.5, \"rgb(251,106,74)\"], [0.625, \"rgb(239,59,44)\"], [0.75, \"rgb(203,24,29)\"], [0.875, \"rgb(165,15,21)\"], [1.0, \"rgb(103,0,13)\"]], \"locationmode\": \"USA-states\", \"locations\": [\"AL\", \"AR\", \"AZ\", \"CA\", \"CO\", \"CT\", \"DE\", \"FL\", \"GA\", \"HI\", \"IA\", \"ID\", \"IL\", \"IN\", \"KS\", \"KY\", \"LA\", \"MA\", \"MD\", \"ME\", \"MI\", \"MN\", \"NC\", \"ND\", \"NH\", \"NJ\", \"NM\", \"NV\", \"NY\", \"OH\", \"OK\", \"OR\", \"PA\", \"RI\", \"SC\", \"SD\", \"TN\", \"TX\", \"UT\", \"VA\", \"WA\", \"WI\", \"WY\"], \"marker\": {\"line\": {\"color\": \"white\"}}, \"type\": \"choropleth\", \"z\": [3.8516624040920715, 6.0413210900473935, 8.65258410014223, 8.44193810917669, 8.21854356859133, 3.672428923881907, 3.8393839383938393, 6.031498250285408, 3.0208376488866127, 3.129226132881929, 3.2221979938944614, 2.619538018992171, 6.565543724908361, 5.478788810328927, 6.681591634652216, 5.128634662820355, 6.349262878913367, 5.143867023309133, 4.117136468070253, 4.327489782748978, 6.654860507599809, 3.4561797752808987, 5.569566685662425, 2.914336415752072, 5.415612808049941, 6.3310337497216205, 3.4798432250839864, 3.3668771777003483, 3.296695929800672, 3.8166003371708226, 2.354577252619667, 5.128687690742624, 3.940274477333158, 3.162025316455696, 3.572174939987896, 2.540582084893882, 3.247030596027792, 4.2514375903894965, 5.410886668711245, 6.509448875837925, 2.7302904564315353, 5.24802110817942, 2.7399264438752167]}],\n",
       "                        {\"geo\": {\"scope\": \"usa\"}, \"template\": {\"data\": {\"bar\": [{\"error_x\": {\"color\": \"#2a3f5f\"}, \"error_y\": {\"color\": \"#2a3f5f\"}, \"marker\": {\"line\": {\"color\": \"#E5ECF6\", \"width\": 0.5}}, \"type\": \"bar\"}], \"barpolar\": [{\"marker\": {\"line\": {\"color\": \"#E5ECF6\", \"width\": 0.5}}, \"type\": \"barpolar\"}], \"carpet\": [{\"aaxis\": {\"endlinecolor\": \"#2a3f5f\", \"gridcolor\": \"white\", \"linecolor\": \"white\", \"minorgridcolor\": \"white\", \"startlinecolor\": \"#2a3f5f\"}, \"baxis\": {\"endlinecolor\": \"#2a3f5f\", \"gridcolor\": \"white\", \"linecolor\": \"white\", \"minorgridcolor\": \"white\", \"startlinecolor\": \"#2a3f5f\"}, \"type\": \"carpet\"}], \"choropleth\": [{\"colorbar\": {\"outlinewidth\": 0, \"ticks\": \"\"}, \"type\": \"choropleth\"}], \"contour\": [{\"colorbar\": {\"outlinewidth\": 0, \"ticks\": \"\"}, \"colorscale\": [[0.0, \"#0d0887\"], [0.1111111111111111, \"#46039f\"], [0.2222222222222222, \"#7201a8\"], [0.3333333333333333, \"#9c179e\"], [0.4444444444444444, \"#bd3786\"], [0.5555555555555556, \"#d8576b\"], [0.6666666666666666, \"#ed7953\"], [0.7777777777777778, \"#fb9f3a\"], [0.8888888888888888, \"#fdca26\"], [1.0, \"#f0f921\"]], \"type\": \"contour\"}], \"contourcarpet\": [{\"colorbar\": {\"outlinewidth\": 0, \"ticks\": \"\"}, \"type\": \"contourcarpet\"}], \"heatmap\": [{\"colorbar\": {\"outlinewidth\": 0, \"ticks\": \"\"}, \"colorscale\": [[0.0, \"#0d0887\"], [0.1111111111111111, \"#46039f\"], [0.2222222222222222, \"#7201a8\"], [0.3333333333333333, \"#9c179e\"], [0.4444444444444444, \"#bd3786\"], [0.5555555555555556, \"#d8576b\"], [0.6666666666666666, \"#ed7953\"], [0.7777777777777778, \"#fb9f3a\"], [0.8888888888888888, \"#fdca26\"], [1.0, \"#f0f921\"]], \"type\": \"heatmap\"}], \"heatmapgl\": [{\"colorbar\": {\"outlinewidth\": 0, \"ticks\": \"\"}, \"colorscale\": [[0.0, \"#0d0887\"], [0.1111111111111111, \"#46039f\"], [0.2222222222222222, \"#7201a8\"], [0.3333333333333333, \"#9c179e\"], [0.4444444444444444, \"#bd3786\"], [0.5555555555555556, \"#d8576b\"], [0.6666666666666666, \"#ed7953\"], [0.7777777777777778, \"#fb9f3a\"], [0.8888888888888888, \"#fdca26\"], [1.0, \"#f0f921\"]], \"type\": \"heatmapgl\"}], \"histogram\": [{\"marker\": {\"colorbar\": {\"outlinewidth\": 0, \"ticks\": \"\"}}, \"type\": \"histogram\"}], \"histogram2d\": [{\"colorbar\": {\"outlinewidth\": 0, \"ticks\": \"\"}, \"colorscale\": [[0.0, \"#0d0887\"], [0.1111111111111111, \"#46039f\"], [0.2222222222222222, \"#7201a8\"], [0.3333333333333333, \"#9c179e\"], [0.4444444444444444, \"#bd3786\"], [0.5555555555555556, \"#d8576b\"], [0.6666666666666666, \"#ed7953\"], [0.7777777777777778, \"#fb9f3a\"], [0.8888888888888888, \"#fdca26\"], [1.0, \"#f0f921\"]], \"type\": \"histogram2d\"}], \"histogram2dcontour\": [{\"colorbar\": {\"outlinewidth\": 0, \"ticks\": \"\"}, \"colorscale\": [[0.0, \"#0d0887\"], [0.1111111111111111, \"#46039f\"], [0.2222222222222222, \"#7201a8\"], [0.3333333333333333, \"#9c179e\"], [0.4444444444444444, \"#bd3786\"], [0.5555555555555556, \"#d8576b\"], [0.6666666666666666, \"#ed7953\"], [0.7777777777777778, \"#fb9f3a\"], [0.8888888888888888, \"#fdca26\"], [1.0, \"#f0f921\"]], \"type\": \"histogram2dcontour\"}], \"mesh3d\": [{\"colorbar\": {\"outlinewidth\": 0, \"ticks\": \"\"}, \"type\": \"mesh3d\"}], \"parcoords\": [{\"line\": {\"colorbar\": {\"outlinewidth\": 0, \"ticks\": \"\"}}, \"type\": \"parcoords\"}], \"pie\": [{\"automargin\": true, \"type\": \"pie\"}], \"scatter\": [{\"marker\": {\"colorbar\": {\"outlinewidth\": 0, \"ticks\": \"\"}}, \"type\": \"scatter\"}], \"scatter3d\": [{\"line\": {\"colorbar\": {\"outlinewidth\": 0, \"ticks\": \"\"}}, \"marker\": {\"colorbar\": {\"outlinewidth\": 0, \"ticks\": \"\"}}, \"type\": \"scatter3d\"}], \"scattercarpet\": [{\"marker\": {\"colorbar\": {\"outlinewidth\": 0, \"ticks\": \"\"}}, \"type\": \"scattercarpet\"}], \"scattergeo\": [{\"marker\": {\"colorbar\": {\"outlinewidth\": 0, \"ticks\": \"\"}}, \"type\": \"scattergeo\"}], \"scattergl\": [{\"marker\": {\"colorbar\": {\"outlinewidth\": 0, \"ticks\": \"\"}}, \"type\": \"scattergl\"}], \"scattermapbox\": [{\"marker\": {\"colorbar\": {\"outlinewidth\": 0, \"ticks\": \"\"}}, \"type\": \"scattermapbox\"}], \"scatterpolar\": [{\"marker\": {\"colorbar\": {\"outlinewidth\": 0, \"ticks\": \"\"}}, \"type\": \"scatterpolar\"}], \"scatterpolargl\": [{\"marker\": {\"colorbar\": {\"outlinewidth\": 0, \"ticks\": \"\"}}, \"type\": \"scatterpolargl\"}], \"scatterternary\": [{\"marker\": {\"colorbar\": {\"outlinewidth\": 0, \"ticks\": \"\"}}, \"type\": \"scatterternary\"}], \"surface\": [{\"colorbar\": {\"outlinewidth\": 0, \"ticks\": \"\"}, \"colorscale\": [[0.0, \"#0d0887\"], [0.1111111111111111, \"#46039f\"], [0.2222222222222222, \"#7201a8\"], [0.3333333333333333, \"#9c179e\"], [0.4444444444444444, \"#bd3786\"], [0.5555555555555556, \"#d8576b\"], [0.6666666666666666, \"#ed7953\"], [0.7777777777777778, \"#fb9f3a\"], [0.8888888888888888, \"#fdca26\"], [1.0, \"#f0f921\"]], \"type\": \"surface\"}], \"table\": [{\"cells\": {\"fill\": {\"color\": \"#EBF0F8\"}, \"line\": {\"color\": \"white\"}}, \"header\": {\"fill\": {\"color\": \"#C8D4E3\"}, \"line\": {\"color\": \"white\"}}, \"type\": \"table\"}]}, \"layout\": {\"annotationdefaults\": {\"arrowcolor\": \"#2a3f5f\", \"arrowhead\": 0, \"arrowwidth\": 1}, \"coloraxis\": {\"colorbar\": {\"outlinewidth\": 0, \"ticks\": \"\"}}, \"colorscale\": {\"diverging\": [[0, \"#8e0152\"], [0.1, \"#c51b7d\"], [0.2, \"#de77ae\"], [0.3, \"#f1b6da\"], [0.4, \"#fde0ef\"], [0.5, \"#f7f7f7\"], [0.6, \"#e6f5d0\"], [0.7, \"#b8e186\"], [0.8, \"#7fbc41\"], [0.9, \"#4d9221\"], [1, \"#276419\"]], \"sequential\": [[0.0, \"#0d0887\"], [0.1111111111111111, \"#46039f\"], [0.2222222222222222, \"#7201a8\"], [0.3333333333333333, \"#9c179e\"], [0.4444444444444444, \"#bd3786\"], [0.5555555555555556, \"#d8576b\"], [0.6666666666666666, \"#ed7953\"], [0.7777777777777778, \"#fb9f3a\"], [0.8888888888888888, \"#fdca26\"], [1.0, \"#f0f921\"]], \"sequentialminus\": [[0.0, \"#0d0887\"], [0.1111111111111111, \"#46039f\"], [0.2222222222222222, \"#7201a8\"], [0.3333333333333333, \"#9c179e\"], [0.4444444444444444, \"#bd3786\"], [0.5555555555555556, \"#d8576b\"], [0.6666666666666666, \"#ed7953\"], [0.7777777777777778, \"#fb9f3a\"], [0.8888888888888888, \"#fdca26\"], [1.0, \"#f0f921\"]]}, \"colorway\": [\"#636efa\", \"#EF553B\", \"#00cc96\", \"#ab63fa\", \"#FFA15A\", \"#19d3f3\", \"#FF6692\", \"#B6E880\", \"#FF97FF\", \"#FECB52\"], \"font\": {\"color\": \"#2a3f5f\"}, \"geo\": {\"bgcolor\": \"white\", \"lakecolor\": \"white\", \"landcolor\": \"#E5ECF6\", \"showlakes\": true, \"showland\": true, \"subunitcolor\": \"white\"}, \"hoverlabel\": {\"align\": \"left\"}, \"hovermode\": \"closest\", \"mapbox\": {\"style\": \"light\"}, \"paper_bgcolor\": \"white\", \"plot_bgcolor\": \"#E5ECF6\", \"polar\": {\"angularaxis\": {\"gridcolor\": \"white\", \"linecolor\": \"white\", \"ticks\": \"\"}, \"bgcolor\": \"#E5ECF6\", \"radialaxis\": {\"gridcolor\": \"white\", \"linecolor\": \"white\", \"ticks\": \"\"}}, \"scene\": {\"xaxis\": {\"backgroundcolor\": \"#E5ECF6\", \"gridcolor\": \"white\", \"gridwidth\": 2, \"linecolor\": \"white\", \"showbackground\": true, \"ticks\": \"\", \"zerolinecolor\": \"white\"}, \"yaxis\": {\"backgroundcolor\": \"#E5ECF6\", \"gridcolor\": \"white\", \"gridwidth\": 2, \"linecolor\": \"white\", \"showbackground\": true, \"ticks\": \"\", \"zerolinecolor\": \"white\"}, \"zaxis\": {\"backgroundcolor\": \"#E5ECF6\", \"gridcolor\": \"white\", \"gridwidth\": 2, \"linecolor\": \"white\", \"showbackground\": true, \"ticks\": \"\", \"zerolinecolor\": \"white\"}}, \"shapedefaults\": {\"line\": {\"color\": \"#2a3f5f\"}}, \"ternary\": {\"aaxis\": {\"gridcolor\": \"white\", \"linecolor\": \"white\", \"ticks\": \"\"}, \"baxis\": {\"gridcolor\": \"white\", \"linecolor\": \"white\", \"ticks\": \"\"}, \"bgcolor\": \"#E5ECF6\", \"caxis\": {\"gridcolor\": \"white\", \"linecolor\": \"white\", \"ticks\": \"\"}}, \"title\": {\"x\": 0.05}, \"xaxis\": {\"automargin\": true, \"gridcolor\": \"white\", \"linecolor\": \"white\", \"ticks\": \"\", \"title\": {\"standoff\": 15}, \"zerolinecolor\": \"white\", \"zerolinewidth\": 2}, \"yaxis\": {\"automargin\": true, \"gridcolor\": \"white\", \"linecolor\": \"white\", \"ticks\": \"\", \"title\": {\"standoff\": 15}, \"zerolinecolor\": \"white\", \"zerolinewidth\": 2}}}, \"title\": {\"text\": \"US Mean CO AQI by State\"}},\n",
       "                        {\"responsive\": true}\n",
       "                    ).then(function(){\n",
       "                            \n",
       "var gd = document.getElementById('03cacc76-7aaa-4a27-b040-7b22b9bd6b79');\n",
       "var x = new MutationObserver(function (mutations, observer) {{\n",
       "        var display = window.getComputedStyle(gd).display;\n",
       "        if (!display || display === 'none') {{\n",
       "            console.log([gd, 'removed!']);\n",
       "            Plotly.purge(gd);\n",
       "            observer.disconnect();\n",
       "        }}\n",
       "}});\n",
       "\n",
       "// Listen for the removal of the full notebook cells\n",
       "var notebookContainer = gd.closest('#notebook-container');\n",
       "if (notebookContainer) {{\n",
       "    x.observe(notebookContainer, {childList: true});\n",
       "}}\n",
       "\n",
       "// Listen for the clearing of the current output cell\n",
       "var outputEl = gd.closest('.output');\n",
       "if (outputEl) {{\n",
       "    x.observe(outputEl, {childList: true});\n",
       "}}\n",
       "\n",
       "                        })\n",
       "                };\n",
       "                });\n",
       "            </script>\n",
       "        </div>"
      ]
     },
     "metadata": {},
     "output_type": "display_data"
    },
    {
     "data": {
      "application/vnd.plotly.v1+json": {
       "config": {
        "plotlyServerURL": "https://plot.ly"
       },
       "data": [
        {
         "colorbar": {
          "title": {
           "text": "NO2 AQI"
          }
         },
         "colorscale": [
          [
           0,
           "rgb(247,252,245)"
          ],
          [
           0.125,
           "rgb(229,245,224)"
          ],
          [
           0.25,
           "rgb(199,233,192)"
          ],
          [
           0.375,
           "rgb(161,217,155)"
          ],
          [
           0.5,
           "rgb(116,196,118)"
          ],
          [
           0.625,
           "rgb(65,171,93)"
          ],
          [
           0.75,
           "rgb(35,139,69)"
          ],
          [
           0.875,
           "rgb(0,109,44)"
          ],
          [
           1,
           "rgb(0,68,27)"
          ]
         ],
         "locationmode": "USA-states",
         "locations": [
          "AL",
          "AR",
          "AZ",
          "CA",
          "CO",
          "CT",
          "DE",
          "FL",
          "GA",
          "HI",
          "IA",
          "ID",
          "IL",
          "IN",
          "KS",
          "KY",
          "LA",
          "MA",
          "MD",
          "ME",
          "MI",
          "MN",
          "NC",
          "ND",
          "NH",
          "NJ",
          "NM",
          "NV",
          "NY",
          "OH",
          "OK",
          "OR",
          "PA",
          "RI",
          "SC",
          "SD",
          "TN",
          "TX",
          "UT",
          "VA",
          "WA",
          "WI",
          "WY"
         ],
         "marker": {
          "line": {
           "color": "white"
          }
         },
         "type": "choropleth",
         "z": [
          21.228900255754475,
          21.058649289099527,
          34.85277512841343,
          28.88370711769666,
          37.16383632208844,
          18.59943391073335,
          21.557755775577558,
          16.531974203862646,
          12.119692280502738,
          11.625792498906097,
          14.280296425457715,
          12.83385579122488,
          32.571565718275444,
          24.395545314900154,
          21.90927936139657,
          23.501019536287046,
          26.702881748923485,
          29.313658070678127,
          19.726757387008682,
          15.92962743938498,
          32.87178759555185,
          15.812021857923497,
          21.349818626623925,
          12.128574021260212,
          16.018381429004712,
          30.43582222402039,
          24.462786793508673,
          22.72095451480281,
          24.751205482826748,
          22.39176664444116,
          14.335880776713283,
          18.18023058663954,
          23.049279975525433,
          14.368520859671301,
          13.672232216592295,
          12.025134009154462,
          11.797560190120713,
          22.510359285539558,
          27.819006447090466,
          23.10804049512069,
          21.717842323651453,
          26.16622691292876,
          11.406408871312085
         ]
        }
       ],
       "layout": {
        "geo": {
         "scope": "usa"
        },
        "template": {
         "data": {
          "bar": [
           {
            "error_x": {
             "color": "#2a3f5f"
            },
            "error_y": {
             "color": "#2a3f5f"
            },
            "marker": {
             "line": {
              "color": "#E5ECF6",
              "width": 0.5
             }
            },
            "type": "bar"
           }
          ],
          "barpolar": [
           {
            "marker": {
             "line": {
              "color": "#E5ECF6",
              "width": 0.5
             }
            },
            "type": "barpolar"
           }
          ],
          "carpet": [
           {
            "aaxis": {
             "endlinecolor": "#2a3f5f",
             "gridcolor": "white",
             "linecolor": "white",
             "minorgridcolor": "white",
             "startlinecolor": "#2a3f5f"
            },
            "baxis": {
             "endlinecolor": "#2a3f5f",
             "gridcolor": "white",
             "linecolor": "white",
             "minorgridcolor": "white",
             "startlinecolor": "#2a3f5f"
            },
            "type": "carpet"
           }
          ],
          "choropleth": [
           {
            "colorbar": {
             "outlinewidth": 0,
             "ticks": ""
            },
            "type": "choropleth"
           }
          ],
          "contour": [
           {
            "colorbar": {
             "outlinewidth": 0,
             "ticks": ""
            },
            "colorscale": [
             [
              0,
              "#0d0887"
             ],
             [
              0.1111111111111111,
              "#46039f"
             ],
             [
              0.2222222222222222,
              "#7201a8"
             ],
             [
              0.3333333333333333,
              "#9c179e"
             ],
             [
              0.4444444444444444,
              "#bd3786"
             ],
             [
              0.5555555555555556,
              "#d8576b"
             ],
             [
              0.6666666666666666,
              "#ed7953"
             ],
             [
              0.7777777777777778,
              "#fb9f3a"
             ],
             [
              0.8888888888888888,
              "#fdca26"
             ],
             [
              1,
              "#f0f921"
             ]
            ],
            "type": "contour"
           }
          ],
          "contourcarpet": [
           {
            "colorbar": {
             "outlinewidth": 0,
             "ticks": ""
            },
            "type": "contourcarpet"
           }
          ],
          "heatmap": [
           {
            "colorbar": {
             "outlinewidth": 0,
             "ticks": ""
            },
            "colorscale": [
             [
              0,
              "#0d0887"
             ],
             [
              0.1111111111111111,
              "#46039f"
             ],
             [
              0.2222222222222222,
              "#7201a8"
             ],
             [
              0.3333333333333333,
              "#9c179e"
             ],
             [
              0.4444444444444444,
              "#bd3786"
             ],
             [
              0.5555555555555556,
              "#d8576b"
             ],
             [
              0.6666666666666666,
              "#ed7953"
             ],
             [
              0.7777777777777778,
              "#fb9f3a"
             ],
             [
              0.8888888888888888,
              "#fdca26"
             ],
             [
              1,
              "#f0f921"
             ]
            ],
            "type": "heatmap"
           }
          ],
          "heatmapgl": [
           {
            "colorbar": {
             "outlinewidth": 0,
             "ticks": ""
            },
            "colorscale": [
             [
              0,
              "#0d0887"
             ],
             [
              0.1111111111111111,
              "#46039f"
             ],
             [
              0.2222222222222222,
              "#7201a8"
             ],
             [
              0.3333333333333333,
              "#9c179e"
             ],
             [
              0.4444444444444444,
              "#bd3786"
             ],
             [
              0.5555555555555556,
              "#d8576b"
             ],
             [
              0.6666666666666666,
              "#ed7953"
             ],
             [
              0.7777777777777778,
              "#fb9f3a"
             ],
             [
              0.8888888888888888,
              "#fdca26"
             ],
             [
              1,
              "#f0f921"
             ]
            ],
            "type": "heatmapgl"
           }
          ],
          "histogram": [
           {
            "marker": {
             "colorbar": {
              "outlinewidth": 0,
              "ticks": ""
             }
            },
            "type": "histogram"
           }
          ],
          "histogram2d": [
           {
            "colorbar": {
             "outlinewidth": 0,
             "ticks": ""
            },
            "colorscale": [
             [
              0,
              "#0d0887"
             ],
             [
              0.1111111111111111,
              "#46039f"
             ],
             [
              0.2222222222222222,
              "#7201a8"
             ],
             [
              0.3333333333333333,
              "#9c179e"
             ],
             [
              0.4444444444444444,
              "#bd3786"
             ],
             [
              0.5555555555555556,
              "#d8576b"
             ],
             [
              0.6666666666666666,
              "#ed7953"
             ],
             [
              0.7777777777777778,
              "#fb9f3a"
             ],
             [
              0.8888888888888888,
              "#fdca26"
             ],
             [
              1,
              "#f0f921"
             ]
            ],
            "type": "histogram2d"
           }
          ],
          "histogram2dcontour": [
           {
            "colorbar": {
             "outlinewidth": 0,
             "ticks": ""
            },
            "colorscale": [
             [
              0,
              "#0d0887"
             ],
             [
              0.1111111111111111,
              "#46039f"
             ],
             [
              0.2222222222222222,
              "#7201a8"
             ],
             [
              0.3333333333333333,
              "#9c179e"
             ],
             [
              0.4444444444444444,
              "#bd3786"
             ],
             [
              0.5555555555555556,
              "#d8576b"
             ],
             [
              0.6666666666666666,
              "#ed7953"
             ],
             [
              0.7777777777777778,
              "#fb9f3a"
             ],
             [
              0.8888888888888888,
              "#fdca26"
             ],
             [
              1,
              "#f0f921"
             ]
            ],
            "type": "histogram2dcontour"
           }
          ],
          "mesh3d": [
           {
            "colorbar": {
             "outlinewidth": 0,
             "ticks": ""
            },
            "type": "mesh3d"
           }
          ],
          "parcoords": [
           {
            "line": {
             "colorbar": {
              "outlinewidth": 0,
              "ticks": ""
             }
            },
            "type": "parcoords"
           }
          ],
          "pie": [
           {
            "automargin": true,
            "type": "pie"
           }
          ],
          "scatter": [
           {
            "marker": {
             "colorbar": {
              "outlinewidth": 0,
              "ticks": ""
             }
            },
            "type": "scatter"
           }
          ],
          "scatter3d": [
           {
            "line": {
             "colorbar": {
              "outlinewidth": 0,
              "ticks": ""
             }
            },
            "marker": {
             "colorbar": {
              "outlinewidth": 0,
              "ticks": ""
             }
            },
            "type": "scatter3d"
           }
          ],
          "scattercarpet": [
           {
            "marker": {
             "colorbar": {
              "outlinewidth": 0,
              "ticks": ""
             }
            },
            "type": "scattercarpet"
           }
          ],
          "scattergeo": [
           {
            "marker": {
             "colorbar": {
              "outlinewidth": 0,
              "ticks": ""
             }
            },
            "type": "scattergeo"
           }
          ],
          "scattergl": [
           {
            "marker": {
             "colorbar": {
              "outlinewidth": 0,
              "ticks": ""
             }
            },
            "type": "scattergl"
           }
          ],
          "scattermapbox": [
           {
            "marker": {
             "colorbar": {
              "outlinewidth": 0,
              "ticks": ""
             }
            },
            "type": "scattermapbox"
           }
          ],
          "scatterpolar": [
           {
            "marker": {
             "colorbar": {
              "outlinewidth": 0,
              "ticks": ""
             }
            },
            "type": "scatterpolar"
           }
          ],
          "scatterpolargl": [
           {
            "marker": {
             "colorbar": {
              "outlinewidth": 0,
              "ticks": ""
             }
            },
            "type": "scatterpolargl"
           }
          ],
          "scatterternary": [
           {
            "marker": {
             "colorbar": {
              "outlinewidth": 0,
              "ticks": ""
             }
            },
            "type": "scatterternary"
           }
          ],
          "surface": [
           {
            "colorbar": {
             "outlinewidth": 0,
             "ticks": ""
            },
            "colorscale": [
             [
              0,
              "#0d0887"
             ],
             [
              0.1111111111111111,
              "#46039f"
             ],
             [
              0.2222222222222222,
              "#7201a8"
             ],
             [
              0.3333333333333333,
              "#9c179e"
             ],
             [
              0.4444444444444444,
              "#bd3786"
             ],
             [
              0.5555555555555556,
              "#d8576b"
             ],
             [
              0.6666666666666666,
              "#ed7953"
             ],
             [
              0.7777777777777778,
              "#fb9f3a"
             ],
             [
              0.8888888888888888,
              "#fdca26"
             ],
             [
              1,
              "#f0f921"
             ]
            ],
            "type": "surface"
           }
          ],
          "table": [
           {
            "cells": {
             "fill": {
              "color": "#EBF0F8"
             },
             "line": {
              "color": "white"
             }
            },
            "header": {
             "fill": {
              "color": "#C8D4E3"
             },
             "line": {
              "color": "white"
             }
            },
            "type": "table"
           }
          ]
         },
         "layout": {
          "annotationdefaults": {
           "arrowcolor": "#2a3f5f",
           "arrowhead": 0,
           "arrowwidth": 1
          },
          "coloraxis": {
           "colorbar": {
            "outlinewidth": 0,
            "ticks": ""
           }
          },
          "colorscale": {
           "diverging": [
            [
             0,
             "#8e0152"
            ],
            [
             0.1,
             "#c51b7d"
            ],
            [
             0.2,
             "#de77ae"
            ],
            [
             0.3,
             "#f1b6da"
            ],
            [
             0.4,
             "#fde0ef"
            ],
            [
             0.5,
             "#f7f7f7"
            ],
            [
             0.6,
             "#e6f5d0"
            ],
            [
             0.7,
             "#b8e186"
            ],
            [
             0.8,
             "#7fbc41"
            ],
            [
             0.9,
             "#4d9221"
            ],
            [
             1,
             "#276419"
            ]
           ],
           "sequential": [
            [
             0,
             "#0d0887"
            ],
            [
             0.1111111111111111,
             "#46039f"
            ],
            [
             0.2222222222222222,
             "#7201a8"
            ],
            [
             0.3333333333333333,
             "#9c179e"
            ],
            [
             0.4444444444444444,
             "#bd3786"
            ],
            [
             0.5555555555555556,
             "#d8576b"
            ],
            [
             0.6666666666666666,
             "#ed7953"
            ],
            [
             0.7777777777777778,
             "#fb9f3a"
            ],
            [
             0.8888888888888888,
             "#fdca26"
            ],
            [
             1,
             "#f0f921"
            ]
           ],
           "sequentialminus": [
            [
             0,
             "#0d0887"
            ],
            [
             0.1111111111111111,
             "#46039f"
            ],
            [
             0.2222222222222222,
             "#7201a8"
            ],
            [
             0.3333333333333333,
             "#9c179e"
            ],
            [
             0.4444444444444444,
             "#bd3786"
            ],
            [
             0.5555555555555556,
             "#d8576b"
            ],
            [
             0.6666666666666666,
             "#ed7953"
            ],
            [
             0.7777777777777778,
             "#fb9f3a"
            ],
            [
             0.8888888888888888,
             "#fdca26"
            ],
            [
             1,
             "#f0f921"
            ]
           ]
          },
          "colorway": [
           "#636efa",
           "#EF553B",
           "#00cc96",
           "#ab63fa",
           "#FFA15A",
           "#19d3f3",
           "#FF6692",
           "#B6E880",
           "#FF97FF",
           "#FECB52"
          ],
          "font": {
           "color": "#2a3f5f"
          },
          "geo": {
           "bgcolor": "white",
           "lakecolor": "white",
           "landcolor": "#E5ECF6",
           "showlakes": true,
           "showland": true,
           "subunitcolor": "white"
          },
          "hoverlabel": {
           "align": "left"
          },
          "hovermode": "closest",
          "mapbox": {
           "style": "light"
          },
          "paper_bgcolor": "white",
          "plot_bgcolor": "#E5ECF6",
          "polar": {
           "angularaxis": {
            "gridcolor": "white",
            "linecolor": "white",
            "ticks": ""
           },
           "bgcolor": "#E5ECF6",
           "radialaxis": {
            "gridcolor": "white",
            "linecolor": "white",
            "ticks": ""
           }
          },
          "scene": {
           "xaxis": {
            "backgroundcolor": "#E5ECF6",
            "gridcolor": "white",
            "gridwidth": 2,
            "linecolor": "white",
            "showbackground": true,
            "ticks": "",
            "zerolinecolor": "white"
           },
           "yaxis": {
            "backgroundcolor": "#E5ECF6",
            "gridcolor": "white",
            "gridwidth": 2,
            "linecolor": "white",
            "showbackground": true,
            "ticks": "",
            "zerolinecolor": "white"
           },
           "zaxis": {
            "backgroundcolor": "#E5ECF6",
            "gridcolor": "white",
            "gridwidth": 2,
            "linecolor": "white",
            "showbackground": true,
            "ticks": "",
            "zerolinecolor": "white"
           }
          },
          "shapedefaults": {
           "line": {
            "color": "#2a3f5f"
           }
          },
          "ternary": {
           "aaxis": {
            "gridcolor": "white",
            "linecolor": "white",
            "ticks": ""
           },
           "baxis": {
            "gridcolor": "white",
            "linecolor": "white",
            "ticks": ""
           },
           "bgcolor": "#E5ECF6",
           "caxis": {
            "gridcolor": "white",
            "linecolor": "white",
            "ticks": ""
           }
          },
          "title": {
           "x": 0.05
          },
          "xaxis": {
           "automargin": true,
           "gridcolor": "white",
           "linecolor": "white",
           "ticks": "",
           "title": {
            "standoff": 15
           },
           "zerolinecolor": "white",
           "zerolinewidth": 2
          },
          "yaxis": {
           "automargin": true,
           "gridcolor": "white",
           "linecolor": "white",
           "ticks": "",
           "title": {
            "standoff": 15
           },
           "zerolinecolor": "white",
           "zerolinewidth": 2
          }
         }
        },
        "title": {
         "text": "US Mean NO2 AQI by State"
        }
       }
      },
      "text/html": [
       "<div>\n",
       "        \n",
       "        \n",
       "            <div id=\"2523770e-113c-4ed0-9511-27dcd7ae407a\" class=\"plotly-graph-div\" style=\"height:525px; width:100%;\"></div>\n",
       "            <script type=\"text/javascript\">\n",
       "                require([\"plotly\"], function(Plotly) {\n",
       "                    window.PLOTLYENV=window.PLOTLYENV || {};\n",
       "                    \n",
       "                if (document.getElementById(\"2523770e-113c-4ed0-9511-27dcd7ae407a\")) {\n",
       "                    Plotly.newPlot(\n",
       "                        '2523770e-113c-4ed0-9511-27dcd7ae407a',\n",
       "                        [{\"colorbar\": {\"title\": {\"text\": \"NO2 AQI\"}}, \"colorscale\": [[0.0, \"rgb(247,252,245)\"], [0.125, \"rgb(229,245,224)\"], [0.25, \"rgb(199,233,192)\"], [0.375, \"rgb(161,217,155)\"], [0.5, \"rgb(116,196,118)\"], [0.625, \"rgb(65,171,93)\"], [0.75, \"rgb(35,139,69)\"], [0.875, \"rgb(0,109,44)\"], [1.0, \"rgb(0,68,27)\"]], \"locationmode\": \"USA-states\", \"locations\": [\"AL\", \"AR\", \"AZ\", \"CA\", \"CO\", \"CT\", \"DE\", \"FL\", \"GA\", \"HI\", \"IA\", \"ID\", \"IL\", \"IN\", \"KS\", \"KY\", \"LA\", \"MA\", \"MD\", \"ME\", \"MI\", \"MN\", \"NC\", \"ND\", \"NH\", \"NJ\", \"NM\", \"NV\", \"NY\", \"OH\", \"OK\", \"OR\", \"PA\", \"RI\", \"SC\", \"SD\", \"TN\", \"TX\", \"UT\", \"VA\", \"WA\", \"WI\", \"WY\"], \"marker\": {\"line\": {\"color\": \"white\"}}, \"type\": \"choropleth\", \"z\": [21.228900255754475, 21.058649289099527, 34.85277512841343, 28.88370711769666, 37.16383632208844, 18.59943391073335, 21.557755775577558, 16.531974203862646, 12.119692280502738, 11.625792498906097, 14.280296425457715, 12.83385579122488, 32.571565718275444, 24.395545314900154, 21.90927936139657, 23.501019536287046, 26.702881748923485, 29.313658070678127, 19.726757387008682, 15.92962743938498, 32.87178759555185, 15.812021857923497, 21.349818626623925, 12.128574021260212, 16.018381429004712, 30.43582222402039, 24.462786793508673, 22.72095451480281, 24.751205482826748, 22.39176664444116, 14.335880776713283, 18.18023058663954, 23.049279975525433, 14.368520859671301, 13.672232216592295, 12.025134009154462, 11.797560190120713, 22.510359285539558, 27.819006447090466, 23.10804049512069, 21.717842323651453, 26.16622691292876, 11.406408871312085]}],\n",
       "                        {\"geo\": {\"scope\": \"usa\"}, \"template\": {\"data\": {\"bar\": [{\"error_x\": {\"color\": \"#2a3f5f\"}, \"error_y\": {\"color\": \"#2a3f5f\"}, \"marker\": {\"line\": {\"color\": \"#E5ECF6\", \"width\": 0.5}}, \"type\": \"bar\"}], \"barpolar\": [{\"marker\": {\"line\": {\"color\": \"#E5ECF6\", \"width\": 0.5}}, \"type\": \"barpolar\"}], \"carpet\": [{\"aaxis\": {\"endlinecolor\": \"#2a3f5f\", \"gridcolor\": \"white\", \"linecolor\": \"white\", \"minorgridcolor\": \"white\", \"startlinecolor\": \"#2a3f5f\"}, \"baxis\": {\"endlinecolor\": \"#2a3f5f\", \"gridcolor\": \"white\", \"linecolor\": \"white\", \"minorgridcolor\": \"white\", \"startlinecolor\": \"#2a3f5f\"}, \"type\": \"carpet\"}], \"choropleth\": [{\"colorbar\": {\"outlinewidth\": 0, \"ticks\": \"\"}, \"type\": \"choropleth\"}], \"contour\": [{\"colorbar\": {\"outlinewidth\": 0, \"ticks\": \"\"}, \"colorscale\": [[0.0, \"#0d0887\"], [0.1111111111111111, \"#46039f\"], [0.2222222222222222, \"#7201a8\"], [0.3333333333333333, \"#9c179e\"], [0.4444444444444444, \"#bd3786\"], [0.5555555555555556, \"#d8576b\"], [0.6666666666666666, \"#ed7953\"], [0.7777777777777778, \"#fb9f3a\"], [0.8888888888888888, \"#fdca26\"], [1.0, \"#f0f921\"]], \"type\": \"contour\"}], \"contourcarpet\": [{\"colorbar\": {\"outlinewidth\": 0, \"ticks\": \"\"}, \"type\": \"contourcarpet\"}], \"heatmap\": [{\"colorbar\": {\"outlinewidth\": 0, \"ticks\": \"\"}, \"colorscale\": [[0.0, \"#0d0887\"], [0.1111111111111111, \"#46039f\"], [0.2222222222222222, \"#7201a8\"], [0.3333333333333333, \"#9c179e\"], [0.4444444444444444, \"#bd3786\"], [0.5555555555555556, \"#d8576b\"], [0.6666666666666666, \"#ed7953\"], [0.7777777777777778, \"#fb9f3a\"], [0.8888888888888888, \"#fdca26\"], [1.0, \"#f0f921\"]], \"type\": \"heatmap\"}], \"heatmapgl\": [{\"colorbar\": {\"outlinewidth\": 0, \"ticks\": \"\"}, \"colorscale\": [[0.0, \"#0d0887\"], [0.1111111111111111, \"#46039f\"], [0.2222222222222222, \"#7201a8\"], [0.3333333333333333, \"#9c179e\"], [0.4444444444444444, \"#bd3786\"], [0.5555555555555556, \"#d8576b\"], [0.6666666666666666, \"#ed7953\"], [0.7777777777777778, \"#fb9f3a\"], [0.8888888888888888, \"#fdca26\"], [1.0, \"#f0f921\"]], \"type\": \"heatmapgl\"}], \"histogram\": [{\"marker\": {\"colorbar\": {\"outlinewidth\": 0, \"ticks\": \"\"}}, \"type\": \"histogram\"}], \"histogram2d\": [{\"colorbar\": {\"outlinewidth\": 0, \"ticks\": \"\"}, \"colorscale\": [[0.0, \"#0d0887\"], [0.1111111111111111, \"#46039f\"], [0.2222222222222222, \"#7201a8\"], [0.3333333333333333, \"#9c179e\"], [0.4444444444444444, \"#bd3786\"], [0.5555555555555556, \"#d8576b\"], [0.6666666666666666, \"#ed7953\"], [0.7777777777777778, \"#fb9f3a\"], [0.8888888888888888, \"#fdca26\"], [1.0, \"#f0f921\"]], \"type\": \"histogram2d\"}], \"histogram2dcontour\": [{\"colorbar\": {\"outlinewidth\": 0, \"ticks\": \"\"}, \"colorscale\": [[0.0, \"#0d0887\"], [0.1111111111111111, \"#46039f\"], [0.2222222222222222, \"#7201a8\"], [0.3333333333333333, \"#9c179e\"], [0.4444444444444444, \"#bd3786\"], [0.5555555555555556, \"#d8576b\"], [0.6666666666666666, \"#ed7953\"], [0.7777777777777778, \"#fb9f3a\"], [0.8888888888888888, \"#fdca26\"], [1.0, \"#f0f921\"]], \"type\": \"histogram2dcontour\"}], \"mesh3d\": [{\"colorbar\": {\"outlinewidth\": 0, \"ticks\": \"\"}, \"type\": \"mesh3d\"}], \"parcoords\": [{\"line\": {\"colorbar\": {\"outlinewidth\": 0, \"ticks\": \"\"}}, \"type\": \"parcoords\"}], \"pie\": [{\"automargin\": true, \"type\": \"pie\"}], \"scatter\": [{\"marker\": {\"colorbar\": {\"outlinewidth\": 0, \"ticks\": \"\"}}, \"type\": \"scatter\"}], \"scatter3d\": [{\"line\": {\"colorbar\": {\"outlinewidth\": 0, \"ticks\": \"\"}}, \"marker\": {\"colorbar\": {\"outlinewidth\": 0, \"ticks\": \"\"}}, \"type\": \"scatter3d\"}], \"scattercarpet\": [{\"marker\": {\"colorbar\": {\"outlinewidth\": 0, \"ticks\": \"\"}}, \"type\": \"scattercarpet\"}], \"scattergeo\": [{\"marker\": {\"colorbar\": {\"outlinewidth\": 0, \"ticks\": \"\"}}, \"type\": \"scattergeo\"}], \"scattergl\": [{\"marker\": {\"colorbar\": {\"outlinewidth\": 0, \"ticks\": \"\"}}, \"type\": \"scattergl\"}], \"scattermapbox\": [{\"marker\": {\"colorbar\": {\"outlinewidth\": 0, \"ticks\": \"\"}}, \"type\": \"scattermapbox\"}], \"scatterpolar\": [{\"marker\": {\"colorbar\": {\"outlinewidth\": 0, \"ticks\": \"\"}}, \"type\": \"scatterpolar\"}], \"scatterpolargl\": [{\"marker\": {\"colorbar\": {\"outlinewidth\": 0, \"ticks\": \"\"}}, \"type\": \"scatterpolargl\"}], \"scatterternary\": [{\"marker\": {\"colorbar\": {\"outlinewidth\": 0, \"ticks\": \"\"}}, \"type\": \"scatterternary\"}], \"surface\": [{\"colorbar\": {\"outlinewidth\": 0, \"ticks\": \"\"}, \"colorscale\": [[0.0, \"#0d0887\"], [0.1111111111111111, \"#46039f\"], [0.2222222222222222, \"#7201a8\"], [0.3333333333333333, \"#9c179e\"], [0.4444444444444444, \"#bd3786\"], [0.5555555555555556, \"#d8576b\"], [0.6666666666666666, \"#ed7953\"], [0.7777777777777778, \"#fb9f3a\"], [0.8888888888888888, \"#fdca26\"], [1.0, \"#f0f921\"]], \"type\": \"surface\"}], \"table\": [{\"cells\": {\"fill\": {\"color\": \"#EBF0F8\"}, \"line\": {\"color\": \"white\"}}, \"header\": {\"fill\": {\"color\": \"#C8D4E3\"}, \"line\": {\"color\": \"white\"}}, \"type\": \"table\"}]}, \"layout\": {\"annotationdefaults\": {\"arrowcolor\": \"#2a3f5f\", \"arrowhead\": 0, \"arrowwidth\": 1}, \"coloraxis\": {\"colorbar\": {\"outlinewidth\": 0, \"ticks\": \"\"}}, \"colorscale\": {\"diverging\": [[0, \"#8e0152\"], [0.1, \"#c51b7d\"], [0.2, \"#de77ae\"], [0.3, \"#f1b6da\"], [0.4, \"#fde0ef\"], [0.5, \"#f7f7f7\"], [0.6, \"#e6f5d0\"], [0.7, \"#b8e186\"], [0.8, \"#7fbc41\"], [0.9, \"#4d9221\"], [1, \"#276419\"]], \"sequential\": [[0.0, \"#0d0887\"], [0.1111111111111111, \"#46039f\"], [0.2222222222222222, \"#7201a8\"], [0.3333333333333333, \"#9c179e\"], [0.4444444444444444, \"#bd3786\"], [0.5555555555555556, \"#d8576b\"], [0.6666666666666666, \"#ed7953\"], [0.7777777777777778, \"#fb9f3a\"], [0.8888888888888888, \"#fdca26\"], [1.0, \"#f0f921\"]], \"sequentialminus\": [[0.0, \"#0d0887\"], [0.1111111111111111, \"#46039f\"], [0.2222222222222222, \"#7201a8\"], [0.3333333333333333, \"#9c179e\"], [0.4444444444444444, \"#bd3786\"], [0.5555555555555556, \"#d8576b\"], [0.6666666666666666, \"#ed7953\"], [0.7777777777777778, \"#fb9f3a\"], [0.8888888888888888, \"#fdca26\"], [1.0, \"#f0f921\"]]}, \"colorway\": [\"#636efa\", \"#EF553B\", \"#00cc96\", \"#ab63fa\", \"#FFA15A\", \"#19d3f3\", \"#FF6692\", \"#B6E880\", \"#FF97FF\", \"#FECB52\"], \"font\": {\"color\": \"#2a3f5f\"}, \"geo\": {\"bgcolor\": \"white\", \"lakecolor\": \"white\", \"landcolor\": \"#E5ECF6\", \"showlakes\": true, \"showland\": true, \"subunitcolor\": \"white\"}, \"hoverlabel\": {\"align\": \"left\"}, \"hovermode\": \"closest\", \"mapbox\": {\"style\": \"light\"}, \"paper_bgcolor\": \"white\", \"plot_bgcolor\": \"#E5ECF6\", \"polar\": {\"angularaxis\": {\"gridcolor\": \"white\", \"linecolor\": \"white\", \"ticks\": \"\"}, \"bgcolor\": \"#E5ECF6\", \"radialaxis\": {\"gridcolor\": \"white\", \"linecolor\": \"white\", \"ticks\": \"\"}}, \"scene\": {\"xaxis\": {\"backgroundcolor\": \"#E5ECF6\", \"gridcolor\": \"white\", \"gridwidth\": 2, \"linecolor\": \"white\", \"showbackground\": true, \"ticks\": \"\", \"zerolinecolor\": \"white\"}, \"yaxis\": {\"backgroundcolor\": \"#E5ECF6\", \"gridcolor\": \"white\", \"gridwidth\": 2, \"linecolor\": \"white\", \"showbackground\": true, \"ticks\": \"\", \"zerolinecolor\": \"white\"}, \"zaxis\": {\"backgroundcolor\": \"#E5ECF6\", \"gridcolor\": \"white\", \"gridwidth\": 2, \"linecolor\": \"white\", \"showbackground\": true, \"ticks\": \"\", \"zerolinecolor\": \"white\"}}, \"shapedefaults\": {\"line\": {\"color\": \"#2a3f5f\"}}, \"ternary\": {\"aaxis\": {\"gridcolor\": \"white\", \"linecolor\": \"white\", \"ticks\": \"\"}, \"baxis\": {\"gridcolor\": \"white\", \"linecolor\": \"white\", \"ticks\": \"\"}, \"bgcolor\": \"#E5ECF6\", \"caxis\": {\"gridcolor\": \"white\", \"linecolor\": \"white\", \"ticks\": \"\"}}, \"title\": {\"x\": 0.05}, \"xaxis\": {\"automargin\": true, \"gridcolor\": \"white\", \"linecolor\": \"white\", \"ticks\": \"\", \"title\": {\"standoff\": 15}, \"zerolinecolor\": \"white\", \"zerolinewidth\": 2}, \"yaxis\": {\"automargin\": true, \"gridcolor\": \"white\", \"linecolor\": \"white\", \"ticks\": \"\", \"title\": {\"standoff\": 15}, \"zerolinecolor\": \"white\", \"zerolinewidth\": 2}}}, \"title\": {\"text\": \"US Mean NO2 AQI by State\"}},\n",
       "                        {\"responsive\": true}\n",
       "                    ).then(function(){\n",
       "                            \n",
       "var gd = document.getElementById('2523770e-113c-4ed0-9511-27dcd7ae407a');\n",
       "var x = new MutationObserver(function (mutations, observer) {{\n",
       "        var display = window.getComputedStyle(gd).display;\n",
       "        if (!display || display === 'none') {{\n",
       "            console.log([gd, 'removed!']);\n",
       "            Plotly.purge(gd);\n",
       "            observer.disconnect();\n",
       "        }}\n",
       "}});\n",
       "\n",
       "// Listen for the removal of the full notebook cells\n",
       "var notebookContainer = gd.closest('#notebook-container');\n",
       "if (notebookContainer) {{\n",
       "    x.observe(notebookContainer, {childList: true});\n",
       "}}\n",
       "\n",
       "// Listen for the clearing of the current output cell\n",
       "var outputEl = gd.closest('.output');\n",
       "if (outputEl) {{\n",
       "    x.observe(outputEl, {childList: true});\n",
       "}}\n",
       "\n",
       "                        })\n",
       "                };\n",
       "                });\n",
       "            </script>\n",
       "        </div>"
      ]
     },
     "metadata": {},
     "output_type": "display_data"
    },
    {
     "data": {
      "application/vnd.plotly.v1+json": {
       "config": {
        "plotlyServerURL": "https://plot.ly"
       },
       "data": [
        {
         "colorbar": {
          "title": {
           "text": "SO2 AQI"
          }
         },
         "colorscale": [
          [
           0,
           "rgb(247,251,255)"
          ],
          [
           0.125,
           "rgb(222,235,247)"
          ],
          [
           0.25,
           "rgb(198,219,239)"
          ],
          [
           0.375,
           "rgb(158,202,225)"
          ],
          [
           0.5,
           "rgb(107,174,214)"
          ],
          [
           0.625,
           "rgb(66,146,198)"
          ],
          [
           0.75,
           "rgb(33,113,181)"
          ],
          [
           0.875,
           "rgb(8,81,156)"
          ],
          [
           1,
           "rgb(8,48,107)"
          ]
         ],
         "locationmode": "USA-states",
         "locations": [
          "AL",
          "AR",
          "AZ",
          "CA",
          "CO",
          "CT",
          "DE",
          "FL",
          "GA",
          "HI",
          "IA",
          "ID",
          "IL",
          "IN",
          "KS",
          "KY",
          "LA",
          "MA",
          "MD",
          "ME",
          "MI",
          "MN",
          "NC",
          "ND",
          "NH",
          "NJ",
          "NM",
          "NV",
          "NY",
          "OH",
          "OK",
          "OR",
          "PA",
          "RI",
          "SC",
          "SD",
          "TN",
          "TX",
          "UT",
          "VA",
          "WA",
          "WI",
          "WY"
         ],
         "marker": {
          "line": {
           "color": "white"
          }
         },
         "type": "choropleth",
         "z": [
          7.005115089514066,
          3.4112855450236967,
          4.126688937040104,
          4.298987161481429,
          12.152696161981687,
          3.070347350387738,
          2.8283828382838285,
          2.753172017152264,
          1.69986601234649,
          1.764275923238272,
          1.4651264167393199,
          3.2563873293130756,
          12.980973991970675,
          14.851152073732719,
          8.413016034139861,
          17.809142885311157,
          11.271861543557469,
          7.641642788920726,
          6.195563959375288,
          3.2770818773184236,
          20.732454817941576,
          1.1475409836065573,
          8.234519993251224,
          2.646845346123803,
          8.137884887235142,
          12.56754597131471,
          1.179071068830442,
          1.1336059689804443,
          15.564835238694918,
          14.60434470245911,
          3.054369929890247,
          3.2789081044421837,
          16.508380733762102,
          1.6675094816687737,
          5.409178438323084,
          0.7192516043900953,
          3.0810769441483115,
          5.6164361612740255,
          1.466029807261318,
          13.308175785443611,
          1.946058091286307,
          8.279683377308707,
          2.319926379378262
         ]
        }
       ],
       "layout": {
        "geo": {
         "scope": "usa"
        },
        "template": {
         "data": {
          "bar": [
           {
            "error_x": {
             "color": "#2a3f5f"
            },
            "error_y": {
             "color": "#2a3f5f"
            },
            "marker": {
             "line": {
              "color": "#E5ECF6",
              "width": 0.5
             }
            },
            "type": "bar"
           }
          ],
          "barpolar": [
           {
            "marker": {
             "line": {
              "color": "#E5ECF6",
              "width": 0.5
             }
            },
            "type": "barpolar"
           }
          ],
          "carpet": [
           {
            "aaxis": {
             "endlinecolor": "#2a3f5f",
             "gridcolor": "white",
             "linecolor": "white",
             "minorgridcolor": "white",
             "startlinecolor": "#2a3f5f"
            },
            "baxis": {
             "endlinecolor": "#2a3f5f",
             "gridcolor": "white",
             "linecolor": "white",
             "minorgridcolor": "white",
             "startlinecolor": "#2a3f5f"
            },
            "type": "carpet"
           }
          ],
          "choropleth": [
           {
            "colorbar": {
             "outlinewidth": 0,
             "ticks": ""
            },
            "type": "choropleth"
           }
          ],
          "contour": [
           {
            "colorbar": {
             "outlinewidth": 0,
             "ticks": ""
            },
            "colorscale": [
             [
              0,
              "#0d0887"
             ],
             [
              0.1111111111111111,
              "#46039f"
             ],
             [
              0.2222222222222222,
              "#7201a8"
             ],
             [
              0.3333333333333333,
              "#9c179e"
             ],
             [
              0.4444444444444444,
              "#bd3786"
             ],
             [
              0.5555555555555556,
              "#d8576b"
             ],
             [
              0.6666666666666666,
              "#ed7953"
             ],
             [
              0.7777777777777778,
              "#fb9f3a"
             ],
             [
              0.8888888888888888,
              "#fdca26"
             ],
             [
              1,
              "#f0f921"
             ]
            ],
            "type": "contour"
           }
          ],
          "contourcarpet": [
           {
            "colorbar": {
             "outlinewidth": 0,
             "ticks": ""
            },
            "type": "contourcarpet"
           }
          ],
          "heatmap": [
           {
            "colorbar": {
             "outlinewidth": 0,
             "ticks": ""
            },
            "colorscale": [
             [
              0,
              "#0d0887"
             ],
             [
              0.1111111111111111,
              "#46039f"
             ],
             [
              0.2222222222222222,
              "#7201a8"
             ],
             [
              0.3333333333333333,
              "#9c179e"
             ],
             [
              0.4444444444444444,
              "#bd3786"
             ],
             [
              0.5555555555555556,
              "#d8576b"
             ],
             [
              0.6666666666666666,
              "#ed7953"
             ],
             [
              0.7777777777777778,
              "#fb9f3a"
             ],
             [
              0.8888888888888888,
              "#fdca26"
             ],
             [
              1,
              "#f0f921"
             ]
            ],
            "type": "heatmap"
           }
          ],
          "heatmapgl": [
           {
            "colorbar": {
             "outlinewidth": 0,
             "ticks": ""
            },
            "colorscale": [
             [
              0,
              "#0d0887"
             ],
             [
              0.1111111111111111,
              "#46039f"
             ],
             [
              0.2222222222222222,
              "#7201a8"
             ],
             [
              0.3333333333333333,
              "#9c179e"
             ],
             [
              0.4444444444444444,
              "#bd3786"
             ],
             [
              0.5555555555555556,
              "#d8576b"
             ],
             [
              0.6666666666666666,
              "#ed7953"
             ],
             [
              0.7777777777777778,
              "#fb9f3a"
             ],
             [
              0.8888888888888888,
              "#fdca26"
             ],
             [
              1,
              "#f0f921"
             ]
            ],
            "type": "heatmapgl"
           }
          ],
          "histogram": [
           {
            "marker": {
             "colorbar": {
              "outlinewidth": 0,
              "ticks": ""
             }
            },
            "type": "histogram"
           }
          ],
          "histogram2d": [
           {
            "colorbar": {
             "outlinewidth": 0,
             "ticks": ""
            },
            "colorscale": [
             [
              0,
              "#0d0887"
             ],
             [
              0.1111111111111111,
              "#46039f"
             ],
             [
              0.2222222222222222,
              "#7201a8"
             ],
             [
              0.3333333333333333,
              "#9c179e"
             ],
             [
              0.4444444444444444,
              "#bd3786"
             ],
             [
              0.5555555555555556,
              "#d8576b"
             ],
             [
              0.6666666666666666,
              "#ed7953"
             ],
             [
              0.7777777777777778,
              "#fb9f3a"
             ],
             [
              0.8888888888888888,
              "#fdca26"
             ],
             [
              1,
              "#f0f921"
             ]
            ],
            "type": "histogram2d"
           }
          ],
          "histogram2dcontour": [
           {
            "colorbar": {
             "outlinewidth": 0,
             "ticks": ""
            },
            "colorscale": [
             [
              0,
              "#0d0887"
             ],
             [
              0.1111111111111111,
              "#46039f"
             ],
             [
              0.2222222222222222,
              "#7201a8"
             ],
             [
              0.3333333333333333,
              "#9c179e"
             ],
             [
              0.4444444444444444,
              "#bd3786"
             ],
             [
              0.5555555555555556,
              "#d8576b"
             ],
             [
              0.6666666666666666,
              "#ed7953"
             ],
             [
              0.7777777777777778,
              "#fb9f3a"
             ],
             [
              0.8888888888888888,
              "#fdca26"
             ],
             [
              1,
              "#f0f921"
             ]
            ],
            "type": "histogram2dcontour"
           }
          ],
          "mesh3d": [
           {
            "colorbar": {
             "outlinewidth": 0,
             "ticks": ""
            },
            "type": "mesh3d"
           }
          ],
          "parcoords": [
           {
            "line": {
             "colorbar": {
              "outlinewidth": 0,
              "ticks": ""
             }
            },
            "type": "parcoords"
           }
          ],
          "pie": [
           {
            "automargin": true,
            "type": "pie"
           }
          ],
          "scatter": [
           {
            "marker": {
             "colorbar": {
              "outlinewidth": 0,
              "ticks": ""
             }
            },
            "type": "scatter"
           }
          ],
          "scatter3d": [
           {
            "line": {
             "colorbar": {
              "outlinewidth": 0,
              "ticks": ""
             }
            },
            "marker": {
             "colorbar": {
              "outlinewidth": 0,
              "ticks": ""
             }
            },
            "type": "scatter3d"
           }
          ],
          "scattercarpet": [
           {
            "marker": {
             "colorbar": {
              "outlinewidth": 0,
              "ticks": ""
             }
            },
            "type": "scattercarpet"
           }
          ],
          "scattergeo": [
           {
            "marker": {
             "colorbar": {
              "outlinewidth": 0,
              "ticks": ""
             }
            },
            "type": "scattergeo"
           }
          ],
          "scattergl": [
           {
            "marker": {
             "colorbar": {
              "outlinewidth": 0,
              "ticks": ""
             }
            },
            "type": "scattergl"
           }
          ],
          "scattermapbox": [
           {
            "marker": {
             "colorbar": {
              "outlinewidth": 0,
              "ticks": ""
             }
            },
            "type": "scattermapbox"
           }
          ],
          "scatterpolar": [
           {
            "marker": {
             "colorbar": {
              "outlinewidth": 0,
              "ticks": ""
             }
            },
            "type": "scatterpolar"
           }
          ],
          "scatterpolargl": [
           {
            "marker": {
             "colorbar": {
              "outlinewidth": 0,
              "ticks": ""
             }
            },
            "type": "scatterpolargl"
           }
          ],
          "scatterternary": [
           {
            "marker": {
             "colorbar": {
              "outlinewidth": 0,
              "ticks": ""
             }
            },
            "type": "scatterternary"
           }
          ],
          "surface": [
           {
            "colorbar": {
             "outlinewidth": 0,
             "ticks": ""
            },
            "colorscale": [
             [
              0,
              "#0d0887"
             ],
             [
              0.1111111111111111,
              "#46039f"
             ],
             [
              0.2222222222222222,
              "#7201a8"
             ],
             [
              0.3333333333333333,
              "#9c179e"
             ],
             [
              0.4444444444444444,
              "#bd3786"
             ],
             [
              0.5555555555555556,
              "#d8576b"
             ],
             [
              0.6666666666666666,
              "#ed7953"
             ],
             [
              0.7777777777777778,
              "#fb9f3a"
             ],
             [
              0.8888888888888888,
              "#fdca26"
             ],
             [
              1,
              "#f0f921"
             ]
            ],
            "type": "surface"
           }
          ],
          "table": [
           {
            "cells": {
             "fill": {
              "color": "#EBF0F8"
             },
             "line": {
              "color": "white"
             }
            },
            "header": {
             "fill": {
              "color": "#C8D4E3"
             },
             "line": {
              "color": "white"
             }
            },
            "type": "table"
           }
          ]
         },
         "layout": {
          "annotationdefaults": {
           "arrowcolor": "#2a3f5f",
           "arrowhead": 0,
           "arrowwidth": 1
          },
          "coloraxis": {
           "colorbar": {
            "outlinewidth": 0,
            "ticks": ""
           }
          },
          "colorscale": {
           "diverging": [
            [
             0,
             "#8e0152"
            ],
            [
             0.1,
             "#c51b7d"
            ],
            [
             0.2,
             "#de77ae"
            ],
            [
             0.3,
             "#f1b6da"
            ],
            [
             0.4,
             "#fde0ef"
            ],
            [
             0.5,
             "#f7f7f7"
            ],
            [
             0.6,
             "#e6f5d0"
            ],
            [
             0.7,
             "#b8e186"
            ],
            [
             0.8,
             "#7fbc41"
            ],
            [
             0.9,
             "#4d9221"
            ],
            [
             1,
             "#276419"
            ]
           ],
           "sequential": [
            [
             0,
             "#0d0887"
            ],
            [
             0.1111111111111111,
             "#46039f"
            ],
            [
             0.2222222222222222,
             "#7201a8"
            ],
            [
             0.3333333333333333,
             "#9c179e"
            ],
            [
             0.4444444444444444,
             "#bd3786"
            ],
            [
             0.5555555555555556,
             "#d8576b"
            ],
            [
             0.6666666666666666,
             "#ed7953"
            ],
            [
             0.7777777777777778,
             "#fb9f3a"
            ],
            [
             0.8888888888888888,
             "#fdca26"
            ],
            [
             1,
             "#f0f921"
            ]
           ],
           "sequentialminus": [
            [
             0,
             "#0d0887"
            ],
            [
             0.1111111111111111,
             "#46039f"
            ],
            [
             0.2222222222222222,
             "#7201a8"
            ],
            [
             0.3333333333333333,
             "#9c179e"
            ],
            [
             0.4444444444444444,
             "#bd3786"
            ],
            [
             0.5555555555555556,
             "#d8576b"
            ],
            [
             0.6666666666666666,
             "#ed7953"
            ],
            [
             0.7777777777777778,
             "#fb9f3a"
            ],
            [
             0.8888888888888888,
             "#fdca26"
            ],
            [
             1,
             "#f0f921"
            ]
           ]
          },
          "colorway": [
           "#636efa",
           "#EF553B",
           "#00cc96",
           "#ab63fa",
           "#FFA15A",
           "#19d3f3",
           "#FF6692",
           "#B6E880",
           "#FF97FF",
           "#FECB52"
          ],
          "font": {
           "color": "#2a3f5f"
          },
          "geo": {
           "bgcolor": "white",
           "lakecolor": "white",
           "landcolor": "#E5ECF6",
           "showlakes": true,
           "showland": true,
           "subunitcolor": "white"
          },
          "hoverlabel": {
           "align": "left"
          },
          "hovermode": "closest",
          "mapbox": {
           "style": "light"
          },
          "paper_bgcolor": "white",
          "plot_bgcolor": "#E5ECF6",
          "polar": {
           "angularaxis": {
            "gridcolor": "white",
            "linecolor": "white",
            "ticks": ""
           },
           "bgcolor": "#E5ECF6",
           "radialaxis": {
            "gridcolor": "white",
            "linecolor": "white",
            "ticks": ""
           }
          },
          "scene": {
           "xaxis": {
            "backgroundcolor": "#E5ECF6",
            "gridcolor": "white",
            "gridwidth": 2,
            "linecolor": "white",
            "showbackground": true,
            "ticks": "",
            "zerolinecolor": "white"
           },
           "yaxis": {
            "backgroundcolor": "#E5ECF6",
            "gridcolor": "white",
            "gridwidth": 2,
            "linecolor": "white",
            "showbackground": true,
            "ticks": "",
            "zerolinecolor": "white"
           },
           "zaxis": {
            "backgroundcolor": "#E5ECF6",
            "gridcolor": "white",
            "gridwidth": 2,
            "linecolor": "white",
            "showbackground": true,
            "ticks": "",
            "zerolinecolor": "white"
           }
          },
          "shapedefaults": {
           "line": {
            "color": "#2a3f5f"
           }
          },
          "ternary": {
           "aaxis": {
            "gridcolor": "white",
            "linecolor": "white",
            "ticks": ""
           },
           "baxis": {
            "gridcolor": "white",
            "linecolor": "white",
            "ticks": ""
           },
           "bgcolor": "#E5ECF6",
           "caxis": {
            "gridcolor": "white",
            "linecolor": "white",
            "ticks": ""
           }
          },
          "title": {
           "x": 0.05
          },
          "xaxis": {
           "automargin": true,
           "gridcolor": "white",
           "linecolor": "white",
           "ticks": "",
           "title": {
            "standoff": 15
           },
           "zerolinecolor": "white",
           "zerolinewidth": 2
          },
          "yaxis": {
           "automargin": true,
           "gridcolor": "white",
           "linecolor": "white",
           "ticks": "",
           "title": {
            "standoff": 15
           },
           "zerolinecolor": "white",
           "zerolinewidth": 2
          }
         }
        },
        "title": {
         "text": "US Mean SO2 AQI by State"
        }
       }
      },
      "text/html": [
       "<div>\n",
       "        \n",
       "        \n",
       "            <div id=\"e1033e91-977c-43b1-bf59-c2fe49dbf2b1\" class=\"plotly-graph-div\" style=\"height:525px; width:100%;\"></div>\n",
       "            <script type=\"text/javascript\">\n",
       "                require([\"plotly\"], function(Plotly) {\n",
       "                    window.PLOTLYENV=window.PLOTLYENV || {};\n",
       "                    \n",
       "                if (document.getElementById(\"e1033e91-977c-43b1-bf59-c2fe49dbf2b1\")) {\n",
       "                    Plotly.newPlot(\n",
       "                        'e1033e91-977c-43b1-bf59-c2fe49dbf2b1',\n",
       "                        [{\"colorbar\": {\"title\": {\"text\": \"SO2 AQI\"}}, \"colorscale\": [[0.0, \"rgb(247,251,255)\"], [0.125, \"rgb(222,235,247)\"], [0.25, \"rgb(198,219,239)\"], [0.375, \"rgb(158,202,225)\"], [0.5, \"rgb(107,174,214)\"], [0.625, \"rgb(66,146,198)\"], [0.75, \"rgb(33,113,181)\"], [0.875, \"rgb(8,81,156)\"], [1.0, \"rgb(8,48,107)\"]], \"locationmode\": \"USA-states\", \"locations\": [\"AL\", \"AR\", \"AZ\", \"CA\", \"CO\", \"CT\", \"DE\", \"FL\", \"GA\", \"HI\", \"IA\", \"ID\", \"IL\", \"IN\", \"KS\", \"KY\", \"LA\", \"MA\", \"MD\", \"ME\", \"MI\", \"MN\", \"NC\", \"ND\", \"NH\", \"NJ\", \"NM\", \"NV\", \"NY\", \"OH\", \"OK\", \"OR\", \"PA\", \"RI\", \"SC\", \"SD\", \"TN\", \"TX\", \"UT\", \"VA\", \"WA\", \"WI\", \"WY\"], \"marker\": {\"line\": {\"color\": \"white\"}}, \"type\": \"choropleth\", \"z\": [7.005115089514066, 3.4112855450236967, 4.126688937040104, 4.298987161481429, 12.152696161981687, 3.070347350387738, 2.8283828382838285, 2.753172017152264, 1.69986601234649, 1.764275923238272, 1.4651264167393199, 3.2563873293130756, 12.980973991970675, 14.851152073732719, 8.413016034139861, 17.809142885311157, 11.271861543557469, 7.641642788920726, 6.195563959375288, 3.2770818773184236, 20.732454817941576, 1.1475409836065573, 8.234519993251224, 2.646845346123803, 8.137884887235142, 12.56754597131471, 1.179071068830442, 1.1336059689804443, 15.564835238694918, 14.60434470245911, 3.054369929890247, 3.2789081044421837, 16.508380733762102, 1.6675094816687737, 5.409178438323084, 0.7192516043900953, 3.0810769441483115, 5.6164361612740255, 1.466029807261318, 13.308175785443611, 1.946058091286307, 8.279683377308707, 2.319926379378262]}],\n",
       "                        {\"geo\": {\"scope\": \"usa\"}, \"template\": {\"data\": {\"bar\": [{\"error_x\": {\"color\": \"#2a3f5f\"}, \"error_y\": {\"color\": \"#2a3f5f\"}, \"marker\": {\"line\": {\"color\": \"#E5ECF6\", \"width\": 0.5}}, \"type\": \"bar\"}], \"barpolar\": [{\"marker\": {\"line\": {\"color\": \"#E5ECF6\", \"width\": 0.5}}, \"type\": \"barpolar\"}], \"carpet\": [{\"aaxis\": {\"endlinecolor\": \"#2a3f5f\", \"gridcolor\": \"white\", \"linecolor\": \"white\", \"minorgridcolor\": \"white\", \"startlinecolor\": \"#2a3f5f\"}, \"baxis\": {\"endlinecolor\": \"#2a3f5f\", \"gridcolor\": \"white\", \"linecolor\": \"white\", \"minorgridcolor\": \"white\", \"startlinecolor\": \"#2a3f5f\"}, \"type\": \"carpet\"}], \"choropleth\": [{\"colorbar\": {\"outlinewidth\": 0, \"ticks\": \"\"}, \"type\": \"choropleth\"}], \"contour\": [{\"colorbar\": {\"outlinewidth\": 0, \"ticks\": \"\"}, \"colorscale\": [[0.0, \"#0d0887\"], [0.1111111111111111, \"#46039f\"], [0.2222222222222222, \"#7201a8\"], [0.3333333333333333, \"#9c179e\"], [0.4444444444444444, \"#bd3786\"], [0.5555555555555556, \"#d8576b\"], [0.6666666666666666, \"#ed7953\"], [0.7777777777777778, \"#fb9f3a\"], [0.8888888888888888, \"#fdca26\"], [1.0, \"#f0f921\"]], \"type\": \"contour\"}], \"contourcarpet\": [{\"colorbar\": {\"outlinewidth\": 0, \"ticks\": \"\"}, \"type\": \"contourcarpet\"}], \"heatmap\": [{\"colorbar\": {\"outlinewidth\": 0, \"ticks\": \"\"}, \"colorscale\": [[0.0, \"#0d0887\"], [0.1111111111111111, \"#46039f\"], [0.2222222222222222, \"#7201a8\"], [0.3333333333333333, \"#9c179e\"], [0.4444444444444444, \"#bd3786\"], [0.5555555555555556, \"#d8576b\"], [0.6666666666666666, \"#ed7953\"], [0.7777777777777778, \"#fb9f3a\"], [0.8888888888888888, \"#fdca26\"], [1.0, \"#f0f921\"]], \"type\": \"heatmap\"}], \"heatmapgl\": [{\"colorbar\": {\"outlinewidth\": 0, \"ticks\": \"\"}, \"colorscale\": [[0.0, \"#0d0887\"], [0.1111111111111111, \"#46039f\"], [0.2222222222222222, \"#7201a8\"], [0.3333333333333333, \"#9c179e\"], [0.4444444444444444, \"#bd3786\"], [0.5555555555555556, \"#d8576b\"], [0.6666666666666666, \"#ed7953\"], [0.7777777777777778, \"#fb9f3a\"], [0.8888888888888888, \"#fdca26\"], [1.0, \"#f0f921\"]], \"type\": \"heatmapgl\"}], \"histogram\": [{\"marker\": {\"colorbar\": {\"outlinewidth\": 0, \"ticks\": \"\"}}, \"type\": \"histogram\"}], \"histogram2d\": [{\"colorbar\": {\"outlinewidth\": 0, \"ticks\": \"\"}, \"colorscale\": [[0.0, \"#0d0887\"], [0.1111111111111111, \"#46039f\"], [0.2222222222222222, \"#7201a8\"], [0.3333333333333333, \"#9c179e\"], [0.4444444444444444, \"#bd3786\"], [0.5555555555555556, \"#d8576b\"], [0.6666666666666666, \"#ed7953\"], [0.7777777777777778, \"#fb9f3a\"], [0.8888888888888888, \"#fdca26\"], [1.0, \"#f0f921\"]], \"type\": \"histogram2d\"}], \"histogram2dcontour\": [{\"colorbar\": {\"outlinewidth\": 0, \"ticks\": \"\"}, \"colorscale\": [[0.0, \"#0d0887\"], [0.1111111111111111, \"#46039f\"], [0.2222222222222222, \"#7201a8\"], [0.3333333333333333, \"#9c179e\"], [0.4444444444444444, \"#bd3786\"], [0.5555555555555556, \"#d8576b\"], [0.6666666666666666, \"#ed7953\"], [0.7777777777777778, \"#fb9f3a\"], [0.8888888888888888, \"#fdca26\"], [1.0, \"#f0f921\"]], \"type\": \"histogram2dcontour\"}], \"mesh3d\": [{\"colorbar\": {\"outlinewidth\": 0, \"ticks\": \"\"}, \"type\": \"mesh3d\"}], \"parcoords\": [{\"line\": {\"colorbar\": {\"outlinewidth\": 0, \"ticks\": \"\"}}, \"type\": \"parcoords\"}], \"pie\": [{\"automargin\": true, \"type\": \"pie\"}], \"scatter\": [{\"marker\": {\"colorbar\": {\"outlinewidth\": 0, \"ticks\": \"\"}}, \"type\": \"scatter\"}], \"scatter3d\": [{\"line\": {\"colorbar\": {\"outlinewidth\": 0, \"ticks\": \"\"}}, \"marker\": {\"colorbar\": {\"outlinewidth\": 0, \"ticks\": \"\"}}, \"type\": \"scatter3d\"}], \"scattercarpet\": [{\"marker\": {\"colorbar\": {\"outlinewidth\": 0, \"ticks\": \"\"}}, \"type\": \"scattercarpet\"}], \"scattergeo\": [{\"marker\": {\"colorbar\": {\"outlinewidth\": 0, \"ticks\": \"\"}}, \"type\": \"scattergeo\"}], \"scattergl\": [{\"marker\": {\"colorbar\": {\"outlinewidth\": 0, \"ticks\": \"\"}}, \"type\": \"scattergl\"}], \"scattermapbox\": [{\"marker\": {\"colorbar\": {\"outlinewidth\": 0, \"ticks\": \"\"}}, \"type\": \"scattermapbox\"}], \"scatterpolar\": [{\"marker\": {\"colorbar\": {\"outlinewidth\": 0, \"ticks\": \"\"}}, \"type\": \"scatterpolar\"}], \"scatterpolargl\": [{\"marker\": {\"colorbar\": {\"outlinewidth\": 0, \"ticks\": \"\"}}, \"type\": \"scatterpolargl\"}], \"scatterternary\": [{\"marker\": {\"colorbar\": {\"outlinewidth\": 0, \"ticks\": \"\"}}, \"type\": \"scatterternary\"}], \"surface\": [{\"colorbar\": {\"outlinewidth\": 0, \"ticks\": \"\"}, \"colorscale\": [[0.0, \"#0d0887\"], [0.1111111111111111, \"#46039f\"], [0.2222222222222222, \"#7201a8\"], [0.3333333333333333, \"#9c179e\"], [0.4444444444444444, \"#bd3786\"], [0.5555555555555556, \"#d8576b\"], [0.6666666666666666, \"#ed7953\"], [0.7777777777777778, \"#fb9f3a\"], [0.8888888888888888, \"#fdca26\"], [1.0, \"#f0f921\"]], \"type\": \"surface\"}], \"table\": [{\"cells\": {\"fill\": {\"color\": \"#EBF0F8\"}, \"line\": {\"color\": \"white\"}}, \"header\": {\"fill\": {\"color\": \"#C8D4E3\"}, \"line\": {\"color\": \"white\"}}, \"type\": \"table\"}]}, \"layout\": {\"annotationdefaults\": {\"arrowcolor\": \"#2a3f5f\", \"arrowhead\": 0, \"arrowwidth\": 1}, \"coloraxis\": {\"colorbar\": {\"outlinewidth\": 0, \"ticks\": \"\"}}, \"colorscale\": {\"diverging\": [[0, \"#8e0152\"], [0.1, \"#c51b7d\"], [0.2, \"#de77ae\"], [0.3, \"#f1b6da\"], [0.4, \"#fde0ef\"], [0.5, \"#f7f7f7\"], [0.6, \"#e6f5d0\"], [0.7, \"#b8e186\"], [0.8, \"#7fbc41\"], [0.9, \"#4d9221\"], [1, \"#276419\"]], \"sequential\": [[0.0, \"#0d0887\"], [0.1111111111111111, \"#46039f\"], [0.2222222222222222, \"#7201a8\"], [0.3333333333333333, \"#9c179e\"], [0.4444444444444444, \"#bd3786\"], [0.5555555555555556, \"#d8576b\"], [0.6666666666666666, \"#ed7953\"], [0.7777777777777778, \"#fb9f3a\"], [0.8888888888888888, \"#fdca26\"], [1.0, \"#f0f921\"]], \"sequentialminus\": [[0.0, \"#0d0887\"], [0.1111111111111111, \"#46039f\"], [0.2222222222222222, \"#7201a8\"], [0.3333333333333333, \"#9c179e\"], [0.4444444444444444, \"#bd3786\"], [0.5555555555555556, \"#d8576b\"], [0.6666666666666666, \"#ed7953\"], [0.7777777777777778, \"#fb9f3a\"], [0.8888888888888888, \"#fdca26\"], [1.0, \"#f0f921\"]]}, \"colorway\": [\"#636efa\", \"#EF553B\", \"#00cc96\", \"#ab63fa\", \"#FFA15A\", \"#19d3f3\", \"#FF6692\", \"#B6E880\", \"#FF97FF\", \"#FECB52\"], \"font\": {\"color\": \"#2a3f5f\"}, \"geo\": {\"bgcolor\": \"white\", \"lakecolor\": \"white\", \"landcolor\": \"#E5ECF6\", \"showlakes\": true, \"showland\": true, \"subunitcolor\": \"white\"}, \"hoverlabel\": {\"align\": \"left\"}, \"hovermode\": \"closest\", \"mapbox\": {\"style\": \"light\"}, \"paper_bgcolor\": \"white\", \"plot_bgcolor\": \"#E5ECF6\", \"polar\": {\"angularaxis\": {\"gridcolor\": \"white\", \"linecolor\": \"white\", \"ticks\": \"\"}, \"bgcolor\": \"#E5ECF6\", \"radialaxis\": {\"gridcolor\": \"white\", \"linecolor\": \"white\", \"ticks\": \"\"}}, \"scene\": {\"xaxis\": {\"backgroundcolor\": \"#E5ECF6\", \"gridcolor\": \"white\", \"gridwidth\": 2, \"linecolor\": \"white\", \"showbackground\": true, \"ticks\": \"\", \"zerolinecolor\": \"white\"}, \"yaxis\": {\"backgroundcolor\": \"#E5ECF6\", \"gridcolor\": \"white\", \"gridwidth\": 2, \"linecolor\": \"white\", \"showbackground\": true, \"ticks\": \"\", \"zerolinecolor\": \"white\"}, \"zaxis\": {\"backgroundcolor\": \"#E5ECF6\", \"gridcolor\": \"white\", \"gridwidth\": 2, \"linecolor\": \"white\", \"showbackground\": true, \"ticks\": \"\", \"zerolinecolor\": \"white\"}}, \"shapedefaults\": {\"line\": {\"color\": \"#2a3f5f\"}}, \"ternary\": {\"aaxis\": {\"gridcolor\": \"white\", \"linecolor\": \"white\", \"ticks\": \"\"}, \"baxis\": {\"gridcolor\": \"white\", \"linecolor\": \"white\", \"ticks\": \"\"}, \"bgcolor\": \"#E5ECF6\", \"caxis\": {\"gridcolor\": \"white\", \"linecolor\": \"white\", \"ticks\": \"\"}}, \"title\": {\"x\": 0.05}, \"xaxis\": {\"automargin\": true, \"gridcolor\": \"white\", \"linecolor\": \"white\", \"ticks\": \"\", \"title\": {\"standoff\": 15}, \"zerolinecolor\": \"white\", \"zerolinewidth\": 2}, \"yaxis\": {\"automargin\": true, \"gridcolor\": \"white\", \"linecolor\": \"white\", \"ticks\": \"\", \"title\": {\"standoff\": 15}, \"zerolinecolor\": \"white\", \"zerolinewidth\": 2}}}, \"title\": {\"text\": \"US Mean SO2 AQI by State\"}},\n",
       "                        {\"responsive\": true}\n",
       "                    ).then(function(){\n",
       "                            \n",
       "var gd = document.getElementById('e1033e91-977c-43b1-bf59-c2fe49dbf2b1');\n",
       "var x = new MutationObserver(function (mutations, observer) {{\n",
       "        var display = window.getComputedStyle(gd).display;\n",
       "        if (!display || display === 'none') {{\n",
       "            console.log([gd, 'removed!']);\n",
       "            Plotly.purge(gd);\n",
       "            observer.disconnect();\n",
       "        }}\n",
       "}});\n",
       "\n",
       "// Listen for the removal of the full notebook cells\n",
       "var notebookContainer = gd.closest('#notebook-container');\n",
       "if (notebookContainer) {{\n",
       "    x.observe(notebookContainer, {childList: true});\n",
       "}}\n",
       "\n",
       "// Listen for the clearing of the current output cell\n",
       "var outputEl = gd.closest('.output');\n",
       "if (outputEl) {{\n",
       "    x.observe(outputEl, {childList: true});\n",
       "}}\n",
       "\n",
       "                        })\n",
       "                };\n",
       "                });\n",
       "            </script>\n",
       "        </div>"
      ]
     },
     "metadata": {},
     "output_type": "display_data"
    },
    {
     "data": {
      "application/vnd.plotly.v1+json": {
       "config": {
        "plotlyServerURL": "https://plot.ly"
       },
       "data": [
        {
         "colorbar": {
          "title": {
           "text": "O3 AQI"
          }
         },
         "colorscale": [
          [
           0,
           "rgb(252,251,253)"
          ],
          [
           0.125,
           "rgb(239,237,245)"
          ],
          [
           0.25,
           "rgb(218,218,235)"
          ],
          [
           0.375,
           "rgb(188,189,220)"
          ],
          [
           0.5,
           "rgb(158,154,200)"
          ],
          [
           0.625,
           "rgb(128,125,186)"
          ],
          [
           0.75,
           "rgb(106,81,163)"
          ],
          [
           0.875,
           "rgb(84,39,143)"
          ],
          [
           1,
           "rgb(63,0,125)"
          ]
         ],
         "locationmode": "USA-states",
         "locations": [
          "AL",
          "AR",
          "AZ",
          "CA",
          "CO",
          "CT",
          "DE",
          "FL",
          "GA",
          "HI",
          "IA",
          "ID",
          "IL",
          "IN",
          "KS",
          "KY",
          "LA",
          "MA",
          "MD",
          "ME",
          "MI",
          "MN",
          "NC",
          "ND",
          "NH",
          "NJ",
          "NM",
          "NV",
          "NY",
          "OH",
          "OK",
          "OR",
          "PA",
          "RI",
          "SC",
          "SD",
          "TN",
          "TX",
          "UT",
          "VA",
          "WA",
          "WI",
          "WY"
         ],
         "marker": {
          "line": {
           "color": "white"
          }
         },
         "type": "choropleth",
         "z": [
          36.831202046035806,
          34.36315165876777,
          38.17510735817957,
          36.36066248635337,
          35.647435899186874,
          37.56124771371111,
          35.41034103410341,
          35.874358991728705,
          34.240945352765245,
          34.680089616883016,
          33.38088491717524,
          36.701154086088515,
          31.387240356083087,
          41.46605222734255,
          34.66283891282725,
          39.32995926549574,
          34.05763497846969,
          25.663228271251192,
          36.62280614280016,
          27.230256437825922,
          39.948530585460155,
          33.7672131147541,
          43.97448118778471,
          34.507106847578946,
          34.33027603557343,
          35.52876115145753,
          41.33240067151651,
          40.560288007657,
          37.92012138423362,
          32.57031216792587,
          41.02261865433322,
          26.126992200746017,
          41.36837194880879,
          37.63653603034134,
          36.585223614098524,
          34.7625828624902,
          34.39727515695336,
          35.1495059256446,
          39.872367410008756,
          36.85314935753903,
          27.70539419087137,
          27.321899736147756,
          35.88685934971014
         ]
        }
       ],
       "layout": {
        "geo": {
         "scope": "usa"
        },
        "template": {
         "data": {
          "bar": [
           {
            "error_x": {
             "color": "#2a3f5f"
            },
            "error_y": {
             "color": "#2a3f5f"
            },
            "marker": {
             "line": {
              "color": "#E5ECF6",
              "width": 0.5
             }
            },
            "type": "bar"
           }
          ],
          "barpolar": [
           {
            "marker": {
             "line": {
              "color": "#E5ECF6",
              "width": 0.5
             }
            },
            "type": "barpolar"
           }
          ],
          "carpet": [
           {
            "aaxis": {
             "endlinecolor": "#2a3f5f",
             "gridcolor": "white",
             "linecolor": "white",
             "minorgridcolor": "white",
             "startlinecolor": "#2a3f5f"
            },
            "baxis": {
             "endlinecolor": "#2a3f5f",
             "gridcolor": "white",
             "linecolor": "white",
             "minorgridcolor": "white",
             "startlinecolor": "#2a3f5f"
            },
            "type": "carpet"
           }
          ],
          "choropleth": [
           {
            "colorbar": {
             "outlinewidth": 0,
             "ticks": ""
            },
            "type": "choropleth"
           }
          ],
          "contour": [
           {
            "colorbar": {
             "outlinewidth": 0,
             "ticks": ""
            },
            "colorscale": [
             [
              0,
              "#0d0887"
             ],
             [
              0.1111111111111111,
              "#46039f"
             ],
             [
              0.2222222222222222,
              "#7201a8"
             ],
             [
              0.3333333333333333,
              "#9c179e"
             ],
             [
              0.4444444444444444,
              "#bd3786"
             ],
             [
              0.5555555555555556,
              "#d8576b"
             ],
             [
              0.6666666666666666,
              "#ed7953"
             ],
             [
              0.7777777777777778,
              "#fb9f3a"
             ],
             [
              0.8888888888888888,
              "#fdca26"
             ],
             [
              1,
              "#f0f921"
             ]
            ],
            "type": "contour"
           }
          ],
          "contourcarpet": [
           {
            "colorbar": {
             "outlinewidth": 0,
             "ticks": ""
            },
            "type": "contourcarpet"
           }
          ],
          "heatmap": [
           {
            "colorbar": {
             "outlinewidth": 0,
             "ticks": ""
            },
            "colorscale": [
             [
              0,
              "#0d0887"
             ],
             [
              0.1111111111111111,
              "#46039f"
             ],
             [
              0.2222222222222222,
              "#7201a8"
             ],
             [
              0.3333333333333333,
              "#9c179e"
             ],
             [
              0.4444444444444444,
              "#bd3786"
             ],
             [
              0.5555555555555556,
              "#d8576b"
             ],
             [
              0.6666666666666666,
              "#ed7953"
             ],
             [
              0.7777777777777778,
              "#fb9f3a"
             ],
             [
              0.8888888888888888,
              "#fdca26"
             ],
             [
              1,
              "#f0f921"
             ]
            ],
            "type": "heatmap"
           }
          ],
          "heatmapgl": [
           {
            "colorbar": {
             "outlinewidth": 0,
             "ticks": ""
            },
            "colorscale": [
             [
              0,
              "#0d0887"
             ],
             [
              0.1111111111111111,
              "#46039f"
             ],
             [
              0.2222222222222222,
              "#7201a8"
             ],
             [
              0.3333333333333333,
              "#9c179e"
             ],
             [
              0.4444444444444444,
              "#bd3786"
             ],
             [
              0.5555555555555556,
              "#d8576b"
             ],
             [
              0.6666666666666666,
              "#ed7953"
             ],
             [
              0.7777777777777778,
              "#fb9f3a"
             ],
             [
              0.8888888888888888,
              "#fdca26"
             ],
             [
              1,
              "#f0f921"
             ]
            ],
            "type": "heatmapgl"
           }
          ],
          "histogram": [
           {
            "marker": {
             "colorbar": {
              "outlinewidth": 0,
              "ticks": ""
             }
            },
            "type": "histogram"
           }
          ],
          "histogram2d": [
           {
            "colorbar": {
             "outlinewidth": 0,
             "ticks": ""
            },
            "colorscale": [
             [
              0,
              "#0d0887"
             ],
             [
              0.1111111111111111,
              "#46039f"
             ],
             [
              0.2222222222222222,
              "#7201a8"
             ],
             [
              0.3333333333333333,
              "#9c179e"
             ],
             [
              0.4444444444444444,
              "#bd3786"
             ],
             [
              0.5555555555555556,
              "#d8576b"
             ],
             [
              0.6666666666666666,
              "#ed7953"
             ],
             [
              0.7777777777777778,
              "#fb9f3a"
             ],
             [
              0.8888888888888888,
              "#fdca26"
             ],
             [
              1,
              "#f0f921"
             ]
            ],
            "type": "histogram2d"
           }
          ],
          "histogram2dcontour": [
           {
            "colorbar": {
             "outlinewidth": 0,
             "ticks": ""
            },
            "colorscale": [
             [
              0,
              "#0d0887"
             ],
             [
              0.1111111111111111,
              "#46039f"
             ],
             [
              0.2222222222222222,
              "#7201a8"
             ],
             [
              0.3333333333333333,
              "#9c179e"
             ],
             [
              0.4444444444444444,
              "#bd3786"
             ],
             [
              0.5555555555555556,
              "#d8576b"
             ],
             [
              0.6666666666666666,
              "#ed7953"
             ],
             [
              0.7777777777777778,
              "#fb9f3a"
             ],
             [
              0.8888888888888888,
              "#fdca26"
             ],
             [
              1,
              "#f0f921"
             ]
            ],
            "type": "histogram2dcontour"
           }
          ],
          "mesh3d": [
           {
            "colorbar": {
             "outlinewidth": 0,
             "ticks": ""
            },
            "type": "mesh3d"
           }
          ],
          "parcoords": [
           {
            "line": {
             "colorbar": {
              "outlinewidth": 0,
              "ticks": ""
             }
            },
            "type": "parcoords"
           }
          ],
          "pie": [
           {
            "automargin": true,
            "type": "pie"
           }
          ],
          "scatter": [
           {
            "marker": {
             "colorbar": {
              "outlinewidth": 0,
              "ticks": ""
             }
            },
            "type": "scatter"
           }
          ],
          "scatter3d": [
           {
            "line": {
             "colorbar": {
              "outlinewidth": 0,
              "ticks": ""
             }
            },
            "marker": {
             "colorbar": {
              "outlinewidth": 0,
              "ticks": ""
             }
            },
            "type": "scatter3d"
           }
          ],
          "scattercarpet": [
           {
            "marker": {
             "colorbar": {
              "outlinewidth": 0,
              "ticks": ""
             }
            },
            "type": "scattercarpet"
           }
          ],
          "scattergeo": [
           {
            "marker": {
             "colorbar": {
              "outlinewidth": 0,
              "ticks": ""
             }
            },
            "type": "scattergeo"
           }
          ],
          "scattergl": [
           {
            "marker": {
             "colorbar": {
              "outlinewidth": 0,
              "ticks": ""
             }
            },
            "type": "scattergl"
           }
          ],
          "scattermapbox": [
           {
            "marker": {
             "colorbar": {
              "outlinewidth": 0,
              "ticks": ""
             }
            },
            "type": "scattermapbox"
           }
          ],
          "scatterpolar": [
           {
            "marker": {
             "colorbar": {
              "outlinewidth": 0,
              "ticks": ""
             }
            },
            "type": "scatterpolar"
           }
          ],
          "scatterpolargl": [
           {
            "marker": {
             "colorbar": {
              "outlinewidth": 0,
              "ticks": ""
             }
            },
            "type": "scatterpolargl"
           }
          ],
          "scatterternary": [
           {
            "marker": {
             "colorbar": {
              "outlinewidth": 0,
              "ticks": ""
             }
            },
            "type": "scatterternary"
           }
          ],
          "surface": [
           {
            "colorbar": {
             "outlinewidth": 0,
             "ticks": ""
            },
            "colorscale": [
             [
              0,
              "#0d0887"
             ],
             [
              0.1111111111111111,
              "#46039f"
             ],
             [
              0.2222222222222222,
              "#7201a8"
             ],
             [
              0.3333333333333333,
              "#9c179e"
             ],
             [
              0.4444444444444444,
              "#bd3786"
             ],
             [
              0.5555555555555556,
              "#d8576b"
             ],
             [
              0.6666666666666666,
              "#ed7953"
             ],
             [
              0.7777777777777778,
              "#fb9f3a"
             ],
             [
              0.8888888888888888,
              "#fdca26"
             ],
             [
              1,
              "#f0f921"
             ]
            ],
            "type": "surface"
           }
          ],
          "table": [
           {
            "cells": {
             "fill": {
              "color": "#EBF0F8"
             },
             "line": {
              "color": "white"
             }
            },
            "header": {
             "fill": {
              "color": "#C8D4E3"
             },
             "line": {
              "color": "white"
             }
            },
            "type": "table"
           }
          ]
         },
         "layout": {
          "annotationdefaults": {
           "arrowcolor": "#2a3f5f",
           "arrowhead": 0,
           "arrowwidth": 1
          },
          "coloraxis": {
           "colorbar": {
            "outlinewidth": 0,
            "ticks": ""
           }
          },
          "colorscale": {
           "diverging": [
            [
             0,
             "#8e0152"
            ],
            [
             0.1,
             "#c51b7d"
            ],
            [
             0.2,
             "#de77ae"
            ],
            [
             0.3,
             "#f1b6da"
            ],
            [
             0.4,
             "#fde0ef"
            ],
            [
             0.5,
             "#f7f7f7"
            ],
            [
             0.6,
             "#e6f5d0"
            ],
            [
             0.7,
             "#b8e186"
            ],
            [
             0.8,
             "#7fbc41"
            ],
            [
             0.9,
             "#4d9221"
            ],
            [
             1,
             "#276419"
            ]
           ],
           "sequential": [
            [
             0,
             "#0d0887"
            ],
            [
             0.1111111111111111,
             "#46039f"
            ],
            [
             0.2222222222222222,
             "#7201a8"
            ],
            [
             0.3333333333333333,
             "#9c179e"
            ],
            [
             0.4444444444444444,
             "#bd3786"
            ],
            [
             0.5555555555555556,
             "#d8576b"
            ],
            [
             0.6666666666666666,
             "#ed7953"
            ],
            [
             0.7777777777777778,
             "#fb9f3a"
            ],
            [
             0.8888888888888888,
             "#fdca26"
            ],
            [
             1,
             "#f0f921"
            ]
           ],
           "sequentialminus": [
            [
             0,
             "#0d0887"
            ],
            [
             0.1111111111111111,
             "#46039f"
            ],
            [
             0.2222222222222222,
             "#7201a8"
            ],
            [
             0.3333333333333333,
             "#9c179e"
            ],
            [
             0.4444444444444444,
             "#bd3786"
            ],
            [
             0.5555555555555556,
             "#d8576b"
            ],
            [
             0.6666666666666666,
             "#ed7953"
            ],
            [
             0.7777777777777778,
             "#fb9f3a"
            ],
            [
             0.8888888888888888,
             "#fdca26"
            ],
            [
             1,
             "#f0f921"
            ]
           ]
          },
          "colorway": [
           "#636efa",
           "#EF553B",
           "#00cc96",
           "#ab63fa",
           "#FFA15A",
           "#19d3f3",
           "#FF6692",
           "#B6E880",
           "#FF97FF",
           "#FECB52"
          ],
          "font": {
           "color": "#2a3f5f"
          },
          "geo": {
           "bgcolor": "white",
           "lakecolor": "white",
           "landcolor": "#E5ECF6",
           "showlakes": true,
           "showland": true,
           "subunitcolor": "white"
          },
          "hoverlabel": {
           "align": "left"
          },
          "hovermode": "closest",
          "mapbox": {
           "style": "light"
          },
          "paper_bgcolor": "white",
          "plot_bgcolor": "#E5ECF6",
          "polar": {
           "angularaxis": {
            "gridcolor": "white",
            "linecolor": "white",
            "ticks": ""
           },
           "bgcolor": "#E5ECF6",
           "radialaxis": {
            "gridcolor": "white",
            "linecolor": "white",
            "ticks": ""
           }
          },
          "scene": {
           "xaxis": {
            "backgroundcolor": "#E5ECF6",
            "gridcolor": "white",
            "gridwidth": 2,
            "linecolor": "white",
            "showbackground": true,
            "ticks": "",
            "zerolinecolor": "white"
           },
           "yaxis": {
            "backgroundcolor": "#E5ECF6",
            "gridcolor": "white",
            "gridwidth": 2,
            "linecolor": "white",
            "showbackground": true,
            "ticks": "",
            "zerolinecolor": "white"
           },
           "zaxis": {
            "backgroundcolor": "#E5ECF6",
            "gridcolor": "white",
            "gridwidth": 2,
            "linecolor": "white",
            "showbackground": true,
            "ticks": "",
            "zerolinecolor": "white"
           }
          },
          "shapedefaults": {
           "line": {
            "color": "#2a3f5f"
           }
          },
          "ternary": {
           "aaxis": {
            "gridcolor": "white",
            "linecolor": "white",
            "ticks": ""
           },
           "baxis": {
            "gridcolor": "white",
            "linecolor": "white",
            "ticks": ""
           },
           "bgcolor": "#E5ECF6",
           "caxis": {
            "gridcolor": "white",
            "linecolor": "white",
            "ticks": ""
           }
          },
          "title": {
           "x": 0.05
          },
          "xaxis": {
           "automargin": true,
           "gridcolor": "white",
           "linecolor": "white",
           "ticks": "",
           "title": {
            "standoff": 15
           },
           "zerolinecolor": "white",
           "zerolinewidth": 2
          },
          "yaxis": {
           "automargin": true,
           "gridcolor": "white",
           "linecolor": "white",
           "ticks": "",
           "title": {
            "standoff": 15
           },
           "zerolinecolor": "white",
           "zerolinewidth": 2
          }
         }
        },
        "title": {
         "text": "US Mean O3 AQI by State"
        }
       }
      },
      "text/html": [
       "<div>\n",
       "        \n",
       "        \n",
       "            <div id=\"a30672eb-6e6d-4162-880c-8ec8349318ad\" class=\"plotly-graph-div\" style=\"height:525px; width:100%;\"></div>\n",
       "            <script type=\"text/javascript\">\n",
       "                require([\"plotly\"], function(Plotly) {\n",
       "                    window.PLOTLYENV=window.PLOTLYENV || {};\n",
       "                    \n",
       "                if (document.getElementById(\"a30672eb-6e6d-4162-880c-8ec8349318ad\")) {\n",
       "                    Plotly.newPlot(\n",
       "                        'a30672eb-6e6d-4162-880c-8ec8349318ad',\n",
       "                        [{\"colorbar\": {\"title\": {\"text\": \"O3 AQI\"}}, \"colorscale\": [[0.0, \"rgb(252,251,253)\"], [0.125, \"rgb(239,237,245)\"], [0.25, \"rgb(218,218,235)\"], [0.375, \"rgb(188,189,220)\"], [0.5, \"rgb(158,154,200)\"], [0.625, \"rgb(128,125,186)\"], [0.75, \"rgb(106,81,163)\"], [0.875, \"rgb(84,39,143)\"], [1.0, \"rgb(63,0,125)\"]], \"locationmode\": \"USA-states\", \"locations\": [\"AL\", \"AR\", \"AZ\", \"CA\", \"CO\", \"CT\", \"DE\", \"FL\", \"GA\", \"HI\", \"IA\", \"ID\", \"IL\", \"IN\", \"KS\", \"KY\", \"LA\", \"MA\", \"MD\", \"ME\", \"MI\", \"MN\", \"NC\", \"ND\", \"NH\", \"NJ\", \"NM\", \"NV\", \"NY\", \"OH\", \"OK\", \"OR\", \"PA\", \"RI\", \"SC\", \"SD\", \"TN\", \"TX\", \"UT\", \"VA\", \"WA\", \"WI\", \"WY\"], \"marker\": {\"line\": {\"color\": \"white\"}}, \"type\": \"choropleth\", \"z\": [36.831202046035806, 34.36315165876777, 38.17510735817957, 36.36066248635337, 35.647435899186874, 37.56124771371111, 35.41034103410341, 35.874358991728705, 34.240945352765245, 34.680089616883016, 33.38088491717524, 36.701154086088515, 31.387240356083087, 41.46605222734255, 34.66283891282725, 39.32995926549574, 34.05763497846969, 25.663228271251192, 36.62280614280016, 27.230256437825922, 39.948530585460155, 33.7672131147541, 43.97448118778471, 34.507106847578946, 34.33027603557343, 35.52876115145753, 41.33240067151651, 40.560288007657, 37.92012138423362, 32.57031216792587, 41.02261865433322, 26.126992200746017, 41.36837194880879, 37.63653603034134, 36.585223614098524, 34.7625828624902, 34.39727515695336, 35.1495059256446, 39.872367410008756, 36.85314935753903, 27.70539419087137, 27.321899736147756, 35.88685934971014]}],\n",
       "                        {\"geo\": {\"scope\": \"usa\"}, \"template\": {\"data\": {\"bar\": [{\"error_x\": {\"color\": \"#2a3f5f\"}, \"error_y\": {\"color\": \"#2a3f5f\"}, \"marker\": {\"line\": {\"color\": \"#E5ECF6\", \"width\": 0.5}}, \"type\": \"bar\"}], \"barpolar\": [{\"marker\": {\"line\": {\"color\": \"#E5ECF6\", \"width\": 0.5}}, \"type\": \"barpolar\"}], \"carpet\": [{\"aaxis\": {\"endlinecolor\": \"#2a3f5f\", \"gridcolor\": \"white\", \"linecolor\": \"white\", \"minorgridcolor\": \"white\", \"startlinecolor\": \"#2a3f5f\"}, \"baxis\": {\"endlinecolor\": \"#2a3f5f\", \"gridcolor\": \"white\", \"linecolor\": \"white\", \"minorgridcolor\": \"white\", \"startlinecolor\": \"#2a3f5f\"}, \"type\": \"carpet\"}], \"choropleth\": [{\"colorbar\": {\"outlinewidth\": 0, \"ticks\": \"\"}, \"type\": \"choropleth\"}], \"contour\": [{\"colorbar\": {\"outlinewidth\": 0, \"ticks\": \"\"}, \"colorscale\": [[0.0, \"#0d0887\"], [0.1111111111111111, \"#46039f\"], [0.2222222222222222, \"#7201a8\"], [0.3333333333333333, \"#9c179e\"], [0.4444444444444444, \"#bd3786\"], [0.5555555555555556, \"#d8576b\"], [0.6666666666666666, \"#ed7953\"], [0.7777777777777778, \"#fb9f3a\"], [0.8888888888888888, \"#fdca26\"], [1.0, \"#f0f921\"]], \"type\": \"contour\"}], \"contourcarpet\": [{\"colorbar\": {\"outlinewidth\": 0, \"ticks\": \"\"}, \"type\": \"contourcarpet\"}], \"heatmap\": [{\"colorbar\": {\"outlinewidth\": 0, \"ticks\": \"\"}, \"colorscale\": [[0.0, \"#0d0887\"], [0.1111111111111111, \"#46039f\"], [0.2222222222222222, \"#7201a8\"], [0.3333333333333333, \"#9c179e\"], [0.4444444444444444, \"#bd3786\"], [0.5555555555555556, \"#d8576b\"], [0.6666666666666666, \"#ed7953\"], [0.7777777777777778, \"#fb9f3a\"], [0.8888888888888888, \"#fdca26\"], [1.0, \"#f0f921\"]], \"type\": \"heatmap\"}], \"heatmapgl\": [{\"colorbar\": {\"outlinewidth\": 0, \"ticks\": \"\"}, \"colorscale\": [[0.0, \"#0d0887\"], [0.1111111111111111, \"#46039f\"], [0.2222222222222222, \"#7201a8\"], [0.3333333333333333, \"#9c179e\"], [0.4444444444444444, \"#bd3786\"], [0.5555555555555556, \"#d8576b\"], [0.6666666666666666, \"#ed7953\"], [0.7777777777777778, \"#fb9f3a\"], [0.8888888888888888, \"#fdca26\"], [1.0, \"#f0f921\"]], \"type\": \"heatmapgl\"}], \"histogram\": [{\"marker\": {\"colorbar\": {\"outlinewidth\": 0, \"ticks\": \"\"}}, \"type\": \"histogram\"}], \"histogram2d\": [{\"colorbar\": {\"outlinewidth\": 0, \"ticks\": \"\"}, \"colorscale\": [[0.0, \"#0d0887\"], [0.1111111111111111, \"#46039f\"], [0.2222222222222222, \"#7201a8\"], [0.3333333333333333, \"#9c179e\"], [0.4444444444444444, \"#bd3786\"], [0.5555555555555556, \"#d8576b\"], [0.6666666666666666, \"#ed7953\"], [0.7777777777777778, \"#fb9f3a\"], [0.8888888888888888, \"#fdca26\"], [1.0, \"#f0f921\"]], \"type\": \"histogram2d\"}], \"histogram2dcontour\": [{\"colorbar\": {\"outlinewidth\": 0, \"ticks\": \"\"}, \"colorscale\": [[0.0, \"#0d0887\"], [0.1111111111111111, \"#46039f\"], [0.2222222222222222, \"#7201a8\"], [0.3333333333333333, \"#9c179e\"], [0.4444444444444444, \"#bd3786\"], [0.5555555555555556, \"#d8576b\"], [0.6666666666666666, \"#ed7953\"], [0.7777777777777778, \"#fb9f3a\"], [0.8888888888888888, \"#fdca26\"], [1.0, \"#f0f921\"]], \"type\": \"histogram2dcontour\"}], \"mesh3d\": [{\"colorbar\": {\"outlinewidth\": 0, \"ticks\": \"\"}, \"type\": \"mesh3d\"}], \"parcoords\": [{\"line\": {\"colorbar\": {\"outlinewidth\": 0, \"ticks\": \"\"}}, \"type\": \"parcoords\"}], \"pie\": [{\"automargin\": true, \"type\": \"pie\"}], \"scatter\": [{\"marker\": {\"colorbar\": {\"outlinewidth\": 0, \"ticks\": \"\"}}, \"type\": \"scatter\"}], \"scatter3d\": [{\"line\": {\"colorbar\": {\"outlinewidth\": 0, \"ticks\": \"\"}}, \"marker\": {\"colorbar\": {\"outlinewidth\": 0, \"ticks\": \"\"}}, \"type\": \"scatter3d\"}], \"scattercarpet\": [{\"marker\": {\"colorbar\": {\"outlinewidth\": 0, \"ticks\": \"\"}}, \"type\": \"scattercarpet\"}], \"scattergeo\": [{\"marker\": {\"colorbar\": {\"outlinewidth\": 0, \"ticks\": \"\"}}, \"type\": \"scattergeo\"}], \"scattergl\": [{\"marker\": {\"colorbar\": {\"outlinewidth\": 0, \"ticks\": \"\"}}, \"type\": \"scattergl\"}], \"scattermapbox\": [{\"marker\": {\"colorbar\": {\"outlinewidth\": 0, \"ticks\": \"\"}}, \"type\": \"scattermapbox\"}], \"scatterpolar\": [{\"marker\": {\"colorbar\": {\"outlinewidth\": 0, \"ticks\": \"\"}}, \"type\": \"scatterpolar\"}], \"scatterpolargl\": [{\"marker\": {\"colorbar\": {\"outlinewidth\": 0, \"ticks\": \"\"}}, \"type\": \"scatterpolargl\"}], \"scatterternary\": [{\"marker\": {\"colorbar\": {\"outlinewidth\": 0, \"ticks\": \"\"}}, \"type\": \"scatterternary\"}], \"surface\": [{\"colorbar\": {\"outlinewidth\": 0, \"ticks\": \"\"}, \"colorscale\": [[0.0, \"#0d0887\"], [0.1111111111111111, \"#46039f\"], [0.2222222222222222, \"#7201a8\"], [0.3333333333333333, \"#9c179e\"], [0.4444444444444444, \"#bd3786\"], [0.5555555555555556, \"#d8576b\"], [0.6666666666666666, \"#ed7953\"], [0.7777777777777778, \"#fb9f3a\"], [0.8888888888888888, \"#fdca26\"], [1.0, \"#f0f921\"]], \"type\": \"surface\"}], \"table\": [{\"cells\": {\"fill\": {\"color\": \"#EBF0F8\"}, \"line\": {\"color\": \"white\"}}, \"header\": {\"fill\": {\"color\": \"#C8D4E3\"}, \"line\": {\"color\": \"white\"}}, \"type\": \"table\"}]}, \"layout\": {\"annotationdefaults\": {\"arrowcolor\": \"#2a3f5f\", \"arrowhead\": 0, \"arrowwidth\": 1}, \"coloraxis\": {\"colorbar\": {\"outlinewidth\": 0, \"ticks\": \"\"}}, \"colorscale\": {\"diverging\": [[0, \"#8e0152\"], [0.1, \"#c51b7d\"], [0.2, \"#de77ae\"], [0.3, \"#f1b6da\"], [0.4, \"#fde0ef\"], [0.5, \"#f7f7f7\"], [0.6, \"#e6f5d0\"], [0.7, \"#b8e186\"], [0.8, \"#7fbc41\"], [0.9, \"#4d9221\"], [1, \"#276419\"]], \"sequential\": [[0.0, \"#0d0887\"], [0.1111111111111111, \"#46039f\"], [0.2222222222222222, \"#7201a8\"], [0.3333333333333333, \"#9c179e\"], [0.4444444444444444, \"#bd3786\"], [0.5555555555555556, \"#d8576b\"], [0.6666666666666666, \"#ed7953\"], [0.7777777777777778, \"#fb9f3a\"], [0.8888888888888888, \"#fdca26\"], [1.0, \"#f0f921\"]], \"sequentialminus\": [[0.0, \"#0d0887\"], [0.1111111111111111, \"#46039f\"], [0.2222222222222222, \"#7201a8\"], [0.3333333333333333, \"#9c179e\"], [0.4444444444444444, \"#bd3786\"], [0.5555555555555556, \"#d8576b\"], [0.6666666666666666, \"#ed7953\"], [0.7777777777777778, \"#fb9f3a\"], [0.8888888888888888, \"#fdca26\"], [1.0, \"#f0f921\"]]}, \"colorway\": [\"#636efa\", \"#EF553B\", \"#00cc96\", \"#ab63fa\", \"#FFA15A\", \"#19d3f3\", \"#FF6692\", \"#B6E880\", \"#FF97FF\", \"#FECB52\"], \"font\": {\"color\": \"#2a3f5f\"}, \"geo\": {\"bgcolor\": \"white\", \"lakecolor\": \"white\", \"landcolor\": \"#E5ECF6\", \"showlakes\": true, \"showland\": true, \"subunitcolor\": \"white\"}, \"hoverlabel\": {\"align\": \"left\"}, \"hovermode\": \"closest\", \"mapbox\": {\"style\": \"light\"}, \"paper_bgcolor\": \"white\", \"plot_bgcolor\": \"#E5ECF6\", \"polar\": {\"angularaxis\": {\"gridcolor\": \"white\", \"linecolor\": \"white\", \"ticks\": \"\"}, \"bgcolor\": \"#E5ECF6\", \"radialaxis\": {\"gridcolor\": \"white\", \"linecolor\": \"white\", \"ticks\": \"\"}}, \"scene\": {\"xaxis\": {\"backgroundcolor\": \"#E5ECF6\", \"gridcolor\": \"white\", \"gridwidth\": 2, \"linecolor\": \"white\", \"showbackground\": true, \"ticks\": \"\", \"zerolinecolor\": \"white\"}, \"yaxis\": {\"backgroundcolor\": \"#E5ECF6\", \"gridcolor\": \"white\", \"gridwidth\": 2, \"linecolor\": \"white\", \"showbackground\": true, \"ticks\": \"\", \"zerolinecolor\": \"white\"}, \"zaxis\": {\"backgroundcolor\": \"#E5ECF6\", \"gridcolor\": \"white\", \"gridwidth\": 2, \"linecolor\": \"white\", \"showbackground\": true, \"ticks\": \"\", \"zerolinecolor\": \"white\"}}, \"shapedefaults\": {\"line\": {\"color\": \"#2a3f5f\"}}, \"ternary\": {\"aaxis\": {\"gridcolor\": \"white\", \"linecolor\": \"white\", \"ticks\": \"\"}, \"baxis\": {\"gridcolor\": \"white\", \"linecolor\": \"white\", \"ticks\": \"\"}, \"bgcolor\": \"#E5ECF6\", \"caxis\": {\"gridcolor\": \"white\", \"linecolor\": \"white\", \"ticks\": \"\"}}, \"title\": {\"x\": 0.05}, \"xaxis\": {\"automargin\": true, \"gridcolor\": \"white\", \"linecolor\": \"white\", \"ticks\": \"\", \"title\": {\"standoff\": 15}, \"zerolinecolor\": \"white\", \"zerolinewidth\": 2}, \"yaxis\": {\"automargin\": true, \"gridcolor\": \"white\", \"linecolor\": \"white\", \"ticks\": \"\", \"title\": {\"standoff\": 15}, \"zerolinecolor\": \"white\", \"zerolinewidth\": 2}}}, \"title\": {\"text\": \"US Mean O3 AQI by State\"}},\n",
       "                        {\"responsive\": true}\n",
       "                    ).then(function(){\n",
       "                            \n",
       "var gd = document.getElementById('a30672eb-6e6d-4162-880c-8ec8349318ad');\n",
       "var x = new MutationObserver(function (mutations, observer) {{\n",
       "        var display = window.getComputedStyle(gd).display;\n",
       "        if (!display || display === 'none') {{\n",
       "            console.log([gd, 'removed!']);\n",
       "            Plotly.purge(gd);\n",
       "            observer.disconnect();\n",
       "        }}\n",
       "}});\n",
       "\n",
       "// Listen for the removal of the full notebook cells\n",
       "var notebookContainer = gd.closest('#notebook-container');\n",
       "if (notebookContainer) {{\n",
       "    x.observe(notebookContainer, {childList: true});\n",
       "}}\n",
       "\n",
       "// Listen for the clearing of the current output cell\n",
       "var outputEl = gd.closest('.output');\n",
       "if (outputEl) {{\n",
       "    x.observe(outputEl, {childList: true});\n",
       "}}\n",
       "\n",
       "                        })\n",
       "                };\n",
       "                });\n",
       "            </script>\n",
       "        </div>"
      ]
     },
     "metadata": {},
     "output_type": "display_data"
    }
   ],
   "source": [
    "display(co_us_fig)\n",
    "display(no2_us_fig)\n",
    "display(so2_us_fig)\n",
    "display(o3_us_fig)"
   ]
  },
  {
   "cell_type": "code",
   "execution_count": 24,
   "metadata": {
    "scrolled": true,
    "slideshow": {
     "slide_type": "slide"
    }
   },
   "outputs": [
    {
     "data": {
      "image/png": "[encoded data removed]",
      "text/plain": [
       "<Figure size 864x360 with 1 Axes>"
      ]
     },
     "metadata": {
      "needs_background": "light"
     },
     "output_type": "display_data"
    }
   ],
   "source": [
    "combined.State.value_counts().plot(kind='bar', figsize=(12,5)).title.set_text('Number of data points per state from 2000 - 2016')"
   ]
  },
  {
   "cell_type": "markdown",
   "metadata": {
    "slideshow": {
     "slide_type": "slide"
    }
   },
   "source": [
    "## Assessment of Air Quality in 2005 vs. 2015\n",
    "\n",
    "explain what this vis is telling us, how we produced it, and analysis"
   ]
  },
  {
   "cell_type": "markdown",
   "metadata": {
    "slideshow": {
     "slide_type": "slide"
    }
   },
   "source": [
    "## Air Quality in 2005"
   ]
  },
  {
   "cell_type": "code",
   "execution_count": 16,
   "metadata": {
    "scrolled": true,
    "slideshow": {
     "slide_type": "-"
    }
   },
   "outputs": [
    {
     "data": {
      "application/vnd.plotly.v1+json": {
       "config": {
        "plotlyServerURL": "https://plot.ly"
       },
       "data": [
        {
         "fill": "toself",
         "fillcolor": "rgb(68, 1, 84)",
         "hoverinfo": "none",
         "line": {
          "color": "rgb(0, 0, 0)",
          "width": 0
         },
         "mode": "lines",
         "name": "< 1",
         "type": "scatter",
         "x": [],
         "y": []
        },
        {
         "fill": "toself",
         "fillcolor": "rgb(72, 24, 106)",
         "hoverinfo": "none",
         "line": {
          "color": "rgb(0, 0, 0)",
          "width": 0
         },
         "mode": "lines",
         "name": "1 - 2",
         "type": "scatter",
         "x": [],
         "y": []
        },
        {
         "fill": "toself",
         "fillcolor": "rgb(66, 64, 134)",
         "hoverinfo": "none",
         "line": {
          "color": "rgb(0, 0, 0)",
          "width": 0
         },
         "mode": "lines",
         "name": "2 - 3",
         "type": "scatter",
         "x": [
          -119.052774,
          -119.049684,
          -119.031145,
          -119.03233399999999,
          -119.052774,
          null,
          -119.929889,
          -119.759428,
          -119.637742,
          -119.584301,
          -119.52064,
          -119.560464,
          -119.818249,
          -119.873358,
          -119.876329,
          -119.929889,
          null,
          -120.249536,
          -120.043259,
          -120.046575,
          -119.980156,
          -119.968636,
          -120.11588499999999,
          -120.249536,
          null,
          -120.450064,
          -120.368278,
          -120.307219,
          -120.35793,
          -120.450064,
          null,
          -120.670835,
          -120.64933848246501,
          -120.496222,
          -120.301827,
          -120.323823,
          -120.209907,
          -120.143368,
          -120.082084,
          -119.535972,
          -119.442352,
          -119.44599099999999,
          -119.47863,
          -119.606513,
          -119.878199,
          -120.008077,
          -120.141165,
          -120.47137599999999,
          -120.511421,
          -120.64923999999999,
          -120.60045,
          -120.637415,
          -120.610266,
          -120.670835,
          null
         ],
         "y": [
          33.46586,
          33.483900999999996,
          33.489649,
          33.468834,
          33.46586,
          null,
          34.059734,
          34.058835,
          34.013177999999996,
          34.053643,
          34.034262,
          33.995529999999995,
          33.959858,
          33.980374999999995,
          34.032087,
          34.059734,
          null,
          34.002477,
          34.035806,
          34.000001999999995,
          33.983653,
          33.942878,
          33.894360999999996,
          34.002477,
          null,
          34.034194,
          34.076465,
          34.022375,
          34.015029,
          34.034194,
          null,
          34.904115,
          34.9747100117234,
          34.993155,
          34.905571,
          35.017314,
          35.020582,
          35.095563999999996,
          35.114678,
          34.89772,
          34.901274,
          34.404067,
          34.373275,
          34.420445,
          34.406912999999996,
          34.460446999999995,
          34.473405,
          34.447846,
          34.522953,
          34.576707,
          34.70464,
          34.755894999999995,
          34.85818,
          34.904115,
          null
         ]
        },
        {
         "fill": "toself",
         "fillcolor": "rgb(51, 99, 141)",
         "hoverinfo": "none",
         "line": {
          "color": "rgb(0, 0, 0)",
          "width": 0
         },
         "mode": "lines",
         "name": "3 - 4",
         "type": "scatter",
         "x": [],
         "y": []
        },
        {
         "fill": "toself",
         "fillcolor": "rgb(38, 130, 142)",
         "hoverinfo": "none",
         "line": {
          "color": "rgb(0, 0, 0)",
          "width": 0
         },
         "mode": "lines",
         "name": "4 - 5",
         "type": "scatter",
         "x": [],
         "y": []
        },
        {
         "fill": "toself",
         "fillcolor": "rgb(31, 160, 136)",
         "hoverinfo": "none",
         "line": {
          "color": "rgb(0, 0, 0)",
          "width": 0
         },
         "mode": "lines",
         "name": "5 - 6",
         "type": "scatter",
         "x": [
          -122.42976,
          -122.367582,
          -122.367909,
          -122.300823,
          -122.26966618816802,
          -122.146866,
          -121.862462,
          -121.78139,
          -121.699765,
          -121.673065,
          -121.604923,
          -121.557554,
          -121.57991,
          -121.556419,
          -121.578965,
          -121.534247,
          -121.555073,
          -121.96077,
          -122.045473,
          -122.185977,
          -122.263881,
          -122.390546,
          -122.42976,
          null,
          -118.11442,
          -118.058918,
          -117.976593,
          -117.97649799999999,
          -117.783287,
          -117.53644800000001,
          -117.533999,
          -117.413314,
          -117.51021,
          -117.508614,
          -117.57848,
          -117.596147232519,
          -118.11442,
          null,
          -122.31768199999999,
          -122.152774,
          -122.152278,
          -122.026107,
          -121.75492,
          -121.718762,
          -121.738697,
          -121.581354,
          -121.725594,
          -121.810551858284,
          -121.930069,
          -122.105976,
          -122.223799,
          -122.31768199999999,
          null
         ],
         "y": [
          37.965405,
          37.978168,
          38.01253,
          38.010892999999996,
          38.0603362895779,
          38.031727,
          38.06603,
          38.018612,
          38.04522,
          38.093517999999996,
          38.099878,
          38.017036999999995,
          38.007782999999996,
          37.923302,
          37.858497,
          37.849891,
          37.817442,
          37.718629,
          37.798125999999996,
          37.820726,
          37.903675,
          37.90911,
          37.965405,
          null,
          33.745176,
          33.846121,
          33.902809999999995,
          33.94605,
          33.946411,
          33.757664999999996,
          33.710355,
          33.659302,
          33.533999,
          33.469614,
          33.453927,
          33.3871676935322,
          33.745176,
          null,
          37.186945,
          37.215444,
          37.286055,
          37.16681,
          37.048449999999995,
          37.007557,
          36.989990999999996,
          36.899152,
          36.914345,
          36.8506482495196,
          36.97815,
          36.955951,
          37.025672,
          37.186945,
          null
         ]
        },
        {
         "fill": "toself",
         "fillcolor": "rgb(63, 188, 115)",
         "hoverinfo": "none",
         "line": {
          "color": "rgb(0, 0, 0)",
          "width": 0
         },
         "mode": "lines",
         "name": "6 - 7",
         "type": "scatter",
         "x": [
          -117.802539,
          -117.76769,
          -117.730125,
          -117.646374,
          -117.667292,
          -117.632011,
          -117.63299599999999,
          -115.64802031181802,
          -114.633487,
          -114.634382,
          -114.470477,
          -114.436466,
          -114.380838,
          -114.386699,
          -114.176909,
          -114.131211,
          -114.435429,
          -115.316065,
          -115.31621200000001,
          -116.929558,
          -116.929537,
          -117.558312,
          -117.55837700000001,
          -117.610386,
          -117.610947,
          -117.655386,
          -117.673749,
          -117.802539,
          null,
          -123.013916,
          -123.003507,
          -122.99875399999999,
          -123.002794,
          -123.013916,
          null,
          -122.33204578072701,
          -122.327561619753,
          -122.33227,
          -122.33204578072701,
          null,
          -122.377679,
          -122.362911,
          -122.36229399999999,
          -122.372836,
          -122.377679,
          null,
          -122.420365736738,
          -122.41847,
          -122.419827349401,
          -122.420365736738,
          null,
          -122.514483,
          -122.407452,
          -122.360238,
          -122.502426880724,
          -122.514483,
          null
         ],
         "y": [
          33.975550999999996,
          34.023506,
          34.021370999999995,
          34.28917,
          34.822525999999996,
          34.822269999999996,
          35.797250999999996,
          35.8096294219517,
          35.001857,
          34.87289,
          34.711368,
          34.595400000000005,
          34.529724,
          34.457910999999996,
          34.349306,
          34.26273,
          34.079727,
          34.077843,
          34.03411,
          34.034113,
          34.004914,
          34.033451,
          33.98842,
          33.971613999999995,
          33.925114,
          33.925114,
          33.870830999999995,
          33.975550999999996,
          null,
          37.700355,
          37.704395999999996,
          37.697438,
          37.692736,
          37.700355,
          null,
          37.7877603470098,
          37.7806441119025,
          37.781517,
          37.7877603470098,
          null,
          37.830459999999995,
          37.822696,
          37.807016,
          37.811068,
          37.830459999999995,
          null,
          37.863342297173695,
          37.861764,
          37.8600830082779,
          37.863342297173695,
          null,
          37.780829,
          37.811440999999995,
          37.719421,
          37.7081329861058,
          37.780829,
          null
         ]
        },
        {
         "fill": "toself",
         "fillcolor": "rgb(132, 212, 75)",
         "hoverinfo": "none",
         "line": {
          "color": "rgb(0, 0, 0)",
          "width": 0
         },
         "mode": "lines",
         "name": "7 - 8",
         "type": "scatter",
         "x": [
          -121.86254199999999,
          -121.710888,
          -121.685586,
          -121.612102,
          -121.583954,
          -121.520777,
          -121.532696,
          -121.504139,
          -121.559167,
          -121.507241,
          -121.63019,
          -121.60289399999999,
          -121.118617,
          -121.027472,
          -121.027084,
          -121.34402399999999,
          -121.470958,
          -121.584074,
          -121.567184,
          -121.673065,
          -121.699765,
          -121.777485,
          -121.86254199999999,
          null,
          -122.403475,
          -122.19538,
          -122.205982,
          -122.061379,
          -122.126389,
          -122.09077500000001,
          -122.01337699999999,
          -121.940285,
          -121.712034,
          -121.693697,
          -121.593273,
          -121.614471,
          -121.685586,
          -121.710888,
          -121.79849,
          -122.061103,
          -122.156852,
          -122.26966618816802,
          -122.403475,
          null
         ],
         "y": [
          38.067949999999996,
          38.086489,
          38.159704999999995,
          38.200068,
          38.331652,
          38.36212,
          38.430788,
          38.466563,
          38.498007,
          38.591150999999996,
          38.677445,
          38.735838,
          38.717118,
          38.508218,
          38.300252,
          38.22826,
          38.259902,
          38.120228,
          38.097321,
          38.093517999999996,
          38.04522,
          38.018916999999995,
          38.067949999999996,
          null,
          38.155465,
          38.155017,
          38.315712999999995,
          38.327411,
          38.428917999999996,
          38.515996,
          38.488721,
          38.533384,
          38.537962,
          38.313732,
          38.313089,
          38.196473999999995,
          38.159704999999995,
          38.086489,
          38.060111,
          38.062137,
          38.032945999999995,
          38.0603362895779,
          38.155465,
          null
         ]
        },
        {
         "fill": "toself",
         "fillcolor": "rgb(216, 226, 25)",
         "hoverinfo": "none",
         "line": {
          "color": "rgb(0, 0, 0)",
          "width": 0
         },
         "mode": "lines",
         "name": "8 - 9",
         "type": "scatter",
         "x": [],
         "y": []
        },
        {
         "fill": "toself",
         "fillcolor": "rgb(253, 231, 37)",
         "hoverinfo": "none",
         "line": {
          "color": "rgb(0, 0, 0)",
          "width": 0
         },
         "mode": "lines",
         "name": "> 9",
         "type": "scatter",
         "x": [
          -116.106166,
          -116.085165,
          -114.627125,
          -114.725535,
          -114.698035,
          -114.731223,
          -114.672088,
          -114.707819,
          -114.66506,
          -114.52013,
          -114.469039,
          -114.468971,
          -114.539224,
          -116.10618141881301,
          -116.106166,
          null,
          -118.604415,
          -118.370323,
          -118.305084,
          -118.465368,
          -118.48875,
          -118.575394,
          -118.604415,
          null,
          -118.6105,
          -118.573897,
          -118.354185,
          -118.431809,
          -118.50620599999999,
          -118.6105,
          null,
          -118.944502,
          -118.940801,
          -118.788889,
          -118.66815199999999,
          -118.66771299999999,
          -118.632495,
          -118.894474,
          -117.667292,
          -117.646374,
          -117.730125,
          -117.785062,
          -117.783287,
          -117.97649799999999,
          -117.976593,
          -118.058918,
          -118.11541107728301,
          -118.18035,
          -118.183342,
          -118.269645,
          -118.411211,
          -118.42840699999999,
          -118.391103,
          -118.460611,
          -118.543115,
          -118.744952,
          -118.806367,
          -118.944502,
          null,
          -117.676286,
          -117.655386,
          -117.610947,
          -117.610386,
          -117.55837700000001,
          -117.558312,
          -116.929537,
          -116.929558,
          -115.31621200000001,
          -115.316065,
          -114.435429,
          -114.438266,
          -114.535478,
          -114.50792,
          -114.52805,
          -114.494197,
          -114.53152299999999,
          -114.524599,
          -114.627125,
          -117.241271,
          -117.364272,
          -117.509722,
          -117.413314,
          -117.533999,
          -117.53644800000001,
          -117.580136,
          -117.676286,
          null,
          -117.596147232519,
          -117.57848,
          -117.508614,
          -117.509722,
          -117.364272,
          -117.241271,
          -116.085165,
          -116.10618141881301,
          -117.12486200000001,
          -117.168866,
          -117.246069,
          -117.28217000000001,
          -117.25447,
          -117.328359,
          -117.505919,
          -117.596147232519,
          null
         ],
         "y": [
          32.640201999999995,
          33.425931999999996,
          33.433554,
          33.404056,
          33.352441999999996,
          33.302434,
          33.258499,
          33.091102,
          33.033908,
          33.029984,
          32.972294999999995,
          32.845155,
          32.749812,
          32.6186413746915,
          32.640201999999995,
          null,
          33.478552,
          33.409285,
          33.310323,
          33.326056,
          33.419826,
          33.440179,
          33.478552,
          null,
          33.032941,
          33.03055,
          32.820918999999996,
          32.801462,
          32.852985,
          33.032941,
          null,
          34.046563,
          34.074967,
          34.168214,
          34.168195,
          34.240404,
          34.240426,
          34.817972,
          34.822525999999996,
          34.28917,
          34.021370999999995,
          34.004809,
          33.946411,
          33.94605,
          33.902809999999995,
          33.846121,
          33.7432945549888,
          33.763413,
          33.723186,
          33.704029999999996,
          33.741985,
          33.774715,
          33.838771,
          33.969111,
          34.038508,
          34.032103,
          34.000198,
          34.046563,
          null,
          33.888815,
          33.925114,
          33.925114,
          33.971613999999995,
          33.98842,
          34.033451,
          34.004914,
          34.034113,
          34.03411,
          34.077843,
          34.079727,
          34.022608999999996,
          33.934650999999995,
          33.903807,
          33.814963,
          33.707921999999996,
          33.675108,
          33.552231,
          33.433554,
          33.431993,
          33.505024999999996,
          33.505019,
          33.659302,
          33.710355,
          33.757664999999996,
          33.767987999999995,
          33.888815,
          null,
          33.3871676935322,
          33.453927,
          33.469614,
          33.505019,
          33.505024999999996,
          33.431993,
          33.425931999999996,
          32.6186413746915,
          32.534155999999996,
          32.671952,
          32.669351999999996,
          32.839546999999996,
          32.900146,
          33.121842,
          33.333253,
          33.3871676935322,
          null
         ]
        },
        {
         "hoverinfo": "text",
         "legendgroup": "centroids",
         "marker": {
          "color": "white",
          "opacity": 0
         },
         "mode": "markers",
         "name": "US Counties",
         "selected": {
          "marker": {
           "color": "white",
           "opacity": 1,
           "size": 3
          }
         },
         "showlegend": false,
         "text": [
          "County: Santa Barbara<br>State: California<br>FIPS: 06083<br>Value: 2.8349381017881705",
          "County: Santa Barbara<br>State: California<br>FIPS: 06083<br>Value: 2.8349381017881705",
          "County: Santa Barbara<br>State: California<br>FIPS: 06083<br>Value: 2.8349381017881705",
          "County: Santa Barbara<br>State: California<br>FIPS: 06083<br>Value: 2.8349381017881705",
          "County: Santa Barbara<br>State: California<br>FIPS: 06083<br>Value: 2.8349381017881705",
          "County: San Francisco<br>State: California<br>FIPS: 06075<br>Value: 6.092032967032967",
          "County: San Francisco<br>State: California<br>FIPS: 06075<br>Value: 6.092032967032967",
          "County: San Francisco<br>State: California<br>FIPS: 06075<br>Value: 6.092032967032967",
          "County: San Francisco<br>State: California<br>FIPS: 06075<br>Value: 6.092032967032967",
          "County: San Francisco<br>State: California<br>FIPS: 06075<br>Value: 6.092032967032967",
          "County: Los Angeles<br>State: California<br>FIPS: 06037<br>Value: 10.970642201834863",
          "County: Los Angeles<br>State: California<br>FIPS: 06037<br>Value: 10.970642201834863",
          "County: Los Angeles<br>State: California<br>FIPS: 06037<br>Value: 10.970642201834863",
          "County: Contra Costa<br>State: California<br>FIPS: 06013<br>Value: 5.552505147563487",
          "County: Imperial<br>State: California<br>FIPS: 06025<br>Value: 13.78125",
          "County: Orange<br>State: California<br>FIPS: 06059<br>Value: 5.8942598187311175",
          "County: Riverside<br>State: California<br>FIPS: 06065<br>Value: 9.355742296918768",
          "County: Sacramento<br>State: California<br>FIPS: 06067<br>Value: 7.949924127465858",
          "County: San Bernardino<br>State: California<br>FIPS: 06071<br>Value: 6.1602209944751385",
          "County: San Diego<br>State: California<br>FIPS: 06073<br>Value: 12.090594744121715",
          "County: Santa Cruz<br>State: California<br>FIPS: 06087<br>Value: 5.152694610778443",
          "County: Solano<br>State: California<br>FIPS: 06095<br>Value: 7.771676300578035"
         ],
         "type": "scatter",
         "unselected": {
          "marker": {
           "opacity": 0
          }
         },
         "x": [
          [
           -119.03939399090983
          ],
          [
           -119.7453978812133
          ],
          [
           -120.10521658197752
          ],
          [
           -120.37266186767484
          ],
          [
           -120.02227232553018
          ],
          [
           -123.00529439291685
          ],
          [
           -122.33062580015999
          ],
          [
           -122.36897731254817
          ],
          [
           -122.41954035391676
          ],
          [
           -122.4408700569418
          ],
          [
           -118.43439079091362
          ],
          [
           -118.49014796829917
          ],
          [
           -118.2170365255692
          ],
          -121.92792596327368,
          -115.36535115086141,
          -117.76107879941756,
          -115.99381567477099,
          -121.34424183488738,
          -116.17840761818748,
          -116.73529316484134,
          -122.00183000196053,
          -121.93285201165745
         ],
         "y": [
          [
           33.47564188440025
          ],
          [
           34.01403225168951
          ],
          [
           33.966566358821716
          ],
          [
           34.03801601018601
          ],
          [
           34.72481353803675
          ],
          [
           37.698262123124536
          ],
          [
           37.78330715297076
          ],
          [
           37.819750171626495
          ],
          [
           37.86191467461643
          ],
          [
           37.75512499012593
          ],
          [
           33.38251324242627
          ],
          [
           32.90130583174091
          ],
          [
           34.358917475517885
          ],
          37.91916207724548,
          33.03951207342643,
          33.702973868568144,
          33.743649292569536,
          38.449313197289484,
          34.84138099581411,
          33.03413701794012,
          37.05617890779834,
          38.26997287512082
         ]
        },
        {
         "hoverinfo": "text",
         "legendgroup": "States",
         "line": {
          "color": "rgb(240, 240, 240)",
          "width": 1
         },
         "mode": "lines",
         "showlegend": false,
         "type": "scatter",
         "x": [
          -118.604415,
          -118.370323,
          -118.305084,
          -118.465368,
          -118.48875,
          -118.575394,
          -118.604415,
          null,
          -118.6105,
          -118.573897,
          -118.354185,
          -118.431809,
          -118.50620599999999,
          -118.6105,
          null,
          -119.052774,
          -119.049684,
          -119.031145,
          -119.03233399999999,
          -119.052774,
          null,
          -119.441226,
          -119.396251,
          -119.373406,
          -119.357462,
          -119.441226,
          null,
          -119.577271,
          -119.528778,
          -119.434402,
          -119.546212,
          -119.577271,
          null,
          -119.929889,
          -119.759428,
          -119.637742,
          -119.584301,
          -119.52064,
          -119.560464,
          -119.818249,
          -119.873358,
          -119.876329,
          -119.929889,
          null,
          -120.249536,
          -120.043259,
          -120.046575,
          -119.980156,
          -119.968636,
          -120.11588499999999,
          -120.249536,
          null,
          -120.450064,
          -120.368278,
          -120.307219,
          -120.35793,
          -120.450064,
          null,
          -122.377679,
          -122.362911,
          -122.36229399999999,
          -122.372836,
          -122.377679,
          null,
          -122.446316,
          -122.424651,
          -122.41847,
          -122.441271,
          -122.446316,
          null,
          -123.013916,
          -123.003507,
          -122.99875399999999,
          -123.002794,
          -123.013916,
          null,
          -124.217495,
          -124.216181,
          -124.213021,
          -124.215001,
          -124.217495,
          null,
          -124.408601,
          -124.158322,
          -124.111756,
          -124.153622,
          -124.165414,
          -124.106986,
          -124.066057,
          -124.147412,
          -124.254954,
          -124.208439,
          -124.21160499999999,
          -119.999168,
          -120.001014,
          -117.500117,
          -114.633487,
          -114.634382,
          -114.470477,
          -114.436466,
          -114.380838,
          -114.386699,
          -114.176909,
          -114.131211,
          -114.434181,
          -114.438266,
          -114.535478,
          -114.50792,
          -114.52805,
          -114.494197,
          -114.53152299999999,
          -114.524599,
          -114.643302,
          -114.72528199999999,
          -114.698035,
          -114.731223,
          -114.672088,
          -114.706488,
          -114.66506,
          -114.52013,
          -114.469039,
          -114.468971,
          -114.530755,
          -114.526856,
          -114.618373,
          -114.701918,
          -114.719633,
          -117.12486200000001,
          -117.168866,
          -117.246069,
          -117.28217000000001,
          -117.25447,
          -117.328359,
          -117.46979400000001,
          -117.652692,
          -117.714617,
          -117.784888,
          -118.132698,
          -118.18035,
          -118.183342,
          -118.269645,
          -118.411211,
          -118.42840699999999,
          -118.391103,
          -118.519514,
          -118.744952,
          -118.806367,
          -119.129252,
          -119.216441,
          -119.278644,
          -119.563986,
          -119.878199,
          -120.008077,
          -120.141165,
          -120.452811,
          -120.511421,
          -120.63672199999999,
          -120.60045,
          -120.637415,
          -120.610266,
          -120.672269,
          -120.629931,
          -120.644311,
          -120.856047,
          -120.8996,
          -120.862684,
          -120.88475700000001,
          -121.003359,
          -121.166712,
          -121.28653,
          -121.332449,
          -121.46491,
          -121.503112,
          -121.574602,
          -121.717176,
          -121.902729,
          -121.903195,
          -121.95447300000001,
          -121.925937,
          -121.932508,
          -121.978714,
          -121.93643,
          -121.860604,
          -121.81446199999999,
          -121.78827799999999,
          -121.862266,
          -121.930069,
          -122.06642099999999,
          -122.135161,
          -122.405073,
          -122.40084999999999,
          -122.459577,
          -122.499289,
          -122.519533,
          -122.494085,
          -122.514483,
          -122.478083,
          -122.385323,
          -122.356784,
          -122.39319,
          -122.389313,
          -122.355627,
          -122.378545,
          -122.136422,
          -122.08874,
          -122.038599,
          -122.055541,
          -122.10942,
          -122.170648,
          -122.252172,
          -122.24394699999999,
          -122.33227,
          -122.342253,
          -122.296618,
          -122.311399,
          -122.390546,
          -122.430087,
          -122.367582,
          -122.367909,
          -122.283478,
          -122.262861,
          -122.282824,
          -122.393588,
          -122.489974,
          -122.497828,
          -122.447304,
          -122.495553,
          -122.479512,
          -122.50506,
          -122.438268,
          -122.457999,
          -122.501019,
          -122.472736,
          -122.527399,
          -122.641963,
          -122.72518099999999,
          -122.856573,
          -122.939711,
          -122.981776,
          -122.963544,
          -123.024066,
          -122.949074,
          -122.995631,
          -122.972101,
          -122.977082,
          -123.024333,
          -123.063671,
          -123.128825,
          -123.33189899999999,
          -123.441774,
          -123.727976,
          -123.74192099999999,
          -123.69124,
          -123.827716,
          -123.766475,
          -123.851714,
          -124.079983,
          -124.11054899999999,
          -124.360604,
          -124.347853,
          -124.408601,
          null,
          null
         ],
         "y": [
          33.478552,
          33.409285,
          33.310323,
          33.326056,
          33.419826,
          33.440179,
          33.478552,
          null,
          33.032941,
          33.03055,
          32.820918999999996,
          32.801462,
          32.852985,
          33.032941,
          null,
          33.46586,
          33.483900999999996,
          33.489649,
          33.468834,
          33.46586,
          null,
          34.014075,
          34.005918,
          34.015440999999996,
          34.015919,
          34.014075,
          null,
          33.278582,
          33.285416999999995,
          33.227021,
          33.232561,
          33.278582,
          null,
          34.059734,
          34.058835,
          34.013177999999996,
          34.053643,
          34.034262,
          33.995529999999995,
          33.959858,
          33.980374999999995,
          34.032087,
          34.059734,
          null,
          34.002477,
          34.035806,
          34.000001999999995,
          33.983653,
          33.942878,
          33.894360999999996,
          34.002477,
          null,
          34.034194,
          34.076465,
          34.022375,
          34.015029,
          34.034194,
          null,
          37.830459999999995,
          37.822696,
          37.807016,
          37.811068,
          37.830459999999995,
          null,
          37.861046,
          37.870736,
          37.852720999999995,
          37.855142,
          37.861046,
          null,
          37.700355,
          37.704395999999996,
          37.697438,
          37.692736,
          37.700355,
          null,
          41.95081,
          41.952211999999996,
          41.951023,
          41.949734,
          41.95081,
          null,
          40.443200999999995,
          40.876069,
          41.026883,
          41.05355,
          41.129822,
          41.229678,
          41.470258,
          41.717954999999996,
          41.778169999999996,
          41.888192,
          41.99846,
          41.99454,
          38.999573999999996,
          37.22038,
          35.001857,
          34.87289,
          34.711368,
          34.595400000000005,
          34.529724,
          34.457910999999996,
          34.349306,
          34.26273,
          34.087379,
          34.022608999999996,
          33.934650999999995,
          33.903807,
          33.814963,
          33.707921999999996,
          33.675108,
          33.552231,
          33.416745,
          33.405048,
          33.352441999999996,
          33.302434,
          33.258499,
          33.08816,
          33.033908,
          33.029984,
          32.972294999999995,
          32.845155,
          32.793485,
          32.757093999999995,
          32.728245,
          32.745548,
          32.718762999999996,
          32.534155999999996,
          32.671952,
          32.669351999999996,
          32.839546999999996,
          32.900146,
          33.121842,
          33.296417,
          33.446154,
          33.459914,
          33.541525,
          33.753217,
          33.763413,
          33.723186,
          33.704029999999996,
          33.741985,
          33.774715,
          33.838771,
          34.027509,
          34.032103,
          34.000198,
          34.10084,
          34.146105,
          34.266902,
          34.41532,
          34.406912999999996,
          34.460446999999995,
          34.473405,
          34.442442,
          34.522953,
          34.560967,
          34.70464,
          34.755894999999995,
          34.85818,
          34.90254,
          35.061515,
          35.139616,
          35.206486999999996,
          35.255337,
          35.346776,
          35.430195999999995,
          35.46071,
          35.635399,
          35.665524,
          35.783106,
          35.888456999999995,
          36.000299,
          36.025155999999996,
          36.195146,
          36.306379,
          36.393603,
          36.518904,
          36.525172999999995,
          36.559934999999996,
          36.581488,
          36.636745999999995,
          36.611135999999995,
          36.682857999999996,
          36.803993999999996,
          36.931551999999996,
          36.97815,
          36.948271,
          36.967774,
          37.195791,
          37.359224999999995,
          37.492731,
          37.495340999999996,
          37.537302,
          37.644034999999995,
          37.780829,
          37.810828,
          37.790724,
          37.729504999999996,
          37.707530999999996,
          37.640193,
          37.615293,
          37.605592,
          37.507576,
          37.452267,
          37.454622,
          37.49523,
          37.500254,
          37.678503,
          37.724952,
          37.751779,
          37.781517,
          37.805558,
          37.828465,
          37.895793999999995,
          37.90911,
          37.963114999999995,
          37.978168,
          38.01253,
          38.022673999999995,
          38.0446,
          38.082889,
          38.143449,
          38.112013999999995,
          38.019402,
          37.984387,
          37.970523,
          37.942526,
          37.936414,
          37.880973999999995,
          37.861768999999995,
          37.893662,
          37.831927,
          37.814947,
          37.897507,
          37.902691,
          38.016717,
          38.031908,
          38.009119,
          37.989914,
          37.994878,
          38.15406,
          38.238626,
          38.232652,
          38.267902,
          38.310573,
          38.302178,
          38.450418,
          38.565542,
          38.699743999999995,
          38.919429,
          38.956227999999996,
          39.050795,
          39.348433,
          39.552803,
          39.832041,
          40.029773,
          40.103764999999996,
          40.257206,
          40.314634,
          40.443200999999995,
          null,
          null
         ]
        }
       ],
       "layout": {
        "annotations": [
         {
          "showarrow": false,
          "text": "<b>CO AQI</b>",
          "x": 1,
          "xanchor": "right",
          "xref": "paper",
          "y": 1.05,
          "yref": "paper"
         }
        ],
        "dragmode": "select",
        "height": 450,
        "hovermode": "closest",
        "legend": {
         "traceorder": "reversed",
         "x": 1,
         "xanchor": "right",
         "y": 1,
         "yanchor": "top"
        },
        "margin": {
         "b": 20,
         "l": 20,
         "r": 20,
         "t": 40
        },
        "title": {
         "text": "Mean CO AQI for County in 2005"
        },
        "width": 900,
        "xaxis": {
         "autorange": false,
         "fixedrange": true,
         "range": [
          -131.100286,
          -107.43952599999999
         ],
         "showgrid": false,
         "showticklabels": false,
         "zeroline": false
        },
        "yaxis": {
         "autorange": false,
         "fixedrange": true,
         "range": [
          32.534155999999996,
          41.99846
         ],
         "showgrid": false,
         "showticklabels": false,
         "zeroline": false
        }
       }
      },
      "text/html": [
       "<div>\n",
       "        \n",
       "        \n",
       "            <div id=\"74fb9433-b179-467b-9a72-46ea2d29f363\" class=\"plotly-graph-div\" style=\"height:450px; width:900px;\"></div>\n",
       "            <script type=\"text/javascript\">\n",
       "                require([\"plotly\"], function(Plotly) {\n",
       "                    window.PLOTLYENV=window.PLOTLYENV || {};\n",
       "                    \n",
       "                if (document.getElementById(\"74fb9433-b179-467b-9a72-46ea2d29f363\")) {\n",
       "                    Plotly.newPlot(\n",
       "                        '74fb9433-b179-467b-9a72-46ea2d29f363',\n",
       "                        [{\"fill\": \"toself\", \"fillcolor\": \"rgb(68, 1, 84)\", \"hoverinfo\": \"none\", \"line\": {\"color\": \"rgb(0, 0, 0)\", \"width\": 0}, \"mode\": \"lines\", \"name\": \"< 1\", \"type\": \"scatter\", \"x\": [], \"y\": []}, {\"fill\": \"toself\", \"fillcolor\": \"rgb(72, 24, 106)\", \"hoverinfo\": \"none\", \"line\": {\"color\": \"rgb(0, 0, 0)\", \"width\": 0}, \"mode\": \"lines\", \"name\": \"1 - 2\", \"type\": \"scatter\", \"x\": [], \"y\": []}, {\"fill\": \"toself\", \"fillcolor\": \"rgb(66, 64, 134)\", \"hoverinfo\": \"none\", \"line\": {\"color\": \"rgb(0, 0, 0)\", \"width\": 0}, \"mode\": \"lines\", \"name\": \"2 - 3\", \"type\": \"scatter\", \"x\": [-119.052774, -119.049684, -119.031145, -119.03233399999999, -119.052774, null, -119.929889, -119.759428, -119.637742, -119.584301, -119.52064, -119.560464, -119.818249, -119.873358, -119.876329, -119.929889, null, -120.249536, -120.043259, -120.046575, -119.980156, -119.968636, -120.11588499999999, -120.249536, null, -120.450064, -120.368278, -120.307219, -120.35793, -120.450064, null, -120.670835, -120.64933848246501, -120.496222, -120.301827, -120.323823, -120.209907, -120.143368, -120.082084, -119.535972, -119.442352, -119.44599099999999, -119.47863, -119.606513, -119.878199, -120.008077, -120.141165, -120.47137599999999, -120.511421, -120.64923999999999, -120.60045, -120.637415, -120.610266, -120.670835, null], \"y\": [33.46586, 33.483900999999996, 33.489649, 33.468834, 33.46586, null, 34.059734, 34.058835, 34.013177999999996, 34.053643, 34.034262, 33.995529999999995, 33.959858, 33.980374999999995, 34.032087, 34.059734, null, 34.002477, 34.035806, 34.000001999999995, 33.983653, 33.942878, 33.894360999999996, 34.002477, null, 34.034194, 34.076465, 34.022375, 34.015029, 34.034194, null, 34.904115, 34.9747100117234, 34.993155, 34.905571, 35.017314, 35.020582, 35.095563999999996, 35.114678, 34.89772, 34.901274, 34.404067, 34.373275, 34.420445, 34.406912999999996, 34.460446999999995, 34.473405, 34.447846, 34.522953, 34.576707, 34.70464, 34.755894999999995, 34.85818, 34.904115, null]}, {\"fill\": \"toself\", \"fillcolor\": \"rgb(51, 99, 141)\", \"hoverinfo\": \"none\", \"line\": {\"color\": \"rgb(0, 0, 0)\", \"width\": 0}, \"mode\": \"lines\", \"name\": \"3 - 4\", \"type\": \"scatter\", \"x\": [], \"y\": []}, {\"fill\": \"toself\", \"fillcolor\": \"rgb(38, 130, 142)\", \"hoverinfo\": \"none\", \"line\": {\"color\": \"rgb(0, 0, 0)\", \"width\": 0}, \"mode\": \"lines\", \"name\": \"4 - 5\", \"type\": \"scatter\", \"x\": [], \"y\": []}, {\"fill\": \"toself\", \"fillcolor\": \"rgb(31, 160, 136)\", \"hoverinfo\": \"none\", \"line\": {\"color\": \"rgb(0, 0, 0)\", \"width\": 0}, \"mode\": \"lines\", \"name\": \"5 - 6\", \"type\": \"scatter\", \"x\": [-122.42976, -122.367582, -122.367909, -122.300823, -122.26966618816802, -122.146866, -121.862462, -121.78139, -121.699765, -121.673065, -121.604923, -121.557554, -121.57991, -121.556419, -121.578965, -121.534247, -121.555073, -121.96077, -122.045473, -122.185977, -122.263881, -122.390546, -122.42976, null, -118.11442, -118.058918, -117.976593, -117.97649799999999, -117.783287, -117.53644800000001, -117.533999, -117.413314, -117.51021, -117.508614, -117.57848, -117.596147232519, -118.11442, null, -122.31768199999999, -122.152774, -122.152278, -122.026107, -121.75492, -121.718762, -121.738697, -121.581354, -121.725594, -121.810551858284, -121.930069, -122.105976, -122.223799, -122.31768199999999, null], \"y\": [37.965405, 37.978168, 38.01253, 38.010892999999996, 38.0603362895779, 38.031727, 38.06603, 38.018612, 38.04522, 38.093517999999996, 38.099878, 38.017036999999995, 38.007782999999996, 37.923302, 37.858497, 37.849891, 37.817442, 37.718629, 37.798125999999996, 37.820726, 37.903675, 37.90911, 37.965405, null, 33.745176, 33.846121, 33.902809999999995, 33.94605, 33.946411, 33.757664999999996, 33.710355, 33.659302, 33.533999, 33.469614, 33.453927, 33.3871676935322, 33.745176, null, 37.186945, 37.215444, 37.286055, 37.16681, 37.048449999999995, 37.007557, 36.989990999999996, 36.899152, 36.914345, 36.8506482495196, 36.97815, 36.955951, 37.025672, 37.186945, null]}, {\"fill\": \"toself\", \"fillcolor\": \"rgb(63, 188, 115)\", \"hoverinfo\": \"none\", \"line\": {\"color\": \"rgb(0, 0, 0)\", \"width\": 0}, \"mode\": \"lines\", \"name\": \"6 - 7\", \"type\": \"scatter\", \"x\": [-117.802539, -117.76769, -117.730125, -117.646374, -117.667292, -117.632011, -117.63299599999999, -115.64802031181802, -114.633487, -114.634382, -114.470477, -114.436466, -114.380838, -114.386699, -114.176909, -114.131211, -114.435429, -115.316065, -115.31621200000001, -116.929558, -116.929537, -117.558312, -117.55837700000001, -117.610386, -117.610947, -117.655386, -117.673749, -117.802539, null, -123.013916, -123.003507, -122.99875399999999, -123.002794, -123.013916, null, -122.33204578072701, -122.327561619753, -122.33227, -122.33204578072701, null, -122.377679, -122.362911, -122.36229399999999, -122.372836, -122.377679, null, -122.420365736738, -122.41847, -122.419827349401, -122.420365736738, null, -122.514483, -122.407452, -122.360238, -122.502426880724, -122.514483, null], \"y\": [33.975550999999996, 34.023506, 34.021370999999995, 34.28917, 34.822525999999996, 34.822269999999996, 35.797250999999996, 35.8096294219517, 35.001857, 34.87289, 34.711368, 34.595400000000005, 34.529724, 34.457910999999996, 34.349306, 34.26273, 34.079727, 34.077843, 34.03411, 34.034113, 34.004914, 34.033451, 33.98842, 33.971613999999995, 33.925114, 33.925114, 33.870830999999995, 33.975550999999996, null, 37.700355, 37.704395999999996, 37.697438, 37.692736, 37.700355, null, 37.7877603470098, 37.7806441119025, 37.781517, 37.7877603470098, null, 37.830459999999995, 37.822696, 37.807016, 37.811068, 37.830459999999995, null, 37.863342297173695, 37.861764, 37.8600830082779, 37.863342297173695, null, 37.780829, 37.811440999999995, 37.719421, 37.7081329861058, 37.780829, null]}, {\"fill\": \"toself\", \"fillcolor\": \"rgb(132, 212, 75)\", \"hoverinfo\": \"none\", \"line\": {\"color\": \"rgb(0, 0, 0)\", \"width\": 0}, \"mode\": \"lines\", \"name\": \"7 - 8\", \"type\": \"scatter\", \"x\": [-121.86254199999999, -121.710888, -121.685586, -121.612102, -121.583954, -121.520777, -121.532696, -121.504139, -121.559167, -121.507241, -121.63019, -121.60289399999999, -121.118617, -121.027472, -121.027084, -121.34402399999999, -121.470958, -121.584074, -121.567184, -121.673065, -121.699765, -121.777485, -121.86254199999999, null, -122.403475, -122.19538, -122.205982, -122.061379, -122.126389, -122.09077500000001, -122.01337699999999, -121.940285, -121.712034, -121.693697, -121.593273, -121.614471, -121.685586, -121.710888, -121.79849, -122.061103, -122.156852, -122.26966618816802, -122.403475, null], \"y\": [38.067949999999996, 38.086489, 38.159704999999995, 38.200068, 38.331652, 38.36212, 38.430788, 38.466563, 38.498007, 38.591150999999996, 38.677445, 38.735838, 38.717118, 38.508218, 38.300252, 38.22826, 38.259902, 38.120228, 38.097321, 38.093517999999996, 38.04522, 38.018916999999995, 38.067949999999996, null, 38.155465, 38.155017, 38.315712999999995, 38.327411, 38.428917999999996, 38.515996, 38.488721, 38.533384, 38.537962, 38.313732, 38.313089, 38.196473999999995, 38.159704999999995, 38.086489, 38.060111, 38.062137, 38.032945999999995, 38.0603362895779, 38.155465, null]}, {\"fill\": \"toself\", \"fillcolor\": \"rgb(216, 226, 25)\", \"hoverinfo\": \"none\", \"line\": {\"color\": \"rgb(0, 0, 0)\", \"width\": 0}, \"mode\": \"lines\", \"name\": \"8 - 9\", \"type\": \"scatter\", \"x\": [], \"y\": []}, {\"fill\": \"toself\", \"fillcolor\": \"rgb(253, 231, 37)\", \"hoverinfo\": \"none\", \"line\": {\"color\": \"rgb(0, 0, 0)\", \"width\": 0}, \"mode\": \"lines\", \"name\": \"> 9\", \"type\": \"scatter\", \"x\": [-116.106166, -116.085165, -114.627125, -114.725535, -114.698035, -114.731223, -114.672088, -114.707819, -114.66506, -114.52013, -114.469039, -114.468971, -114.539224, -116.10618141881301, -116.106166, null, -118.604415, -118.370323, -118.305084, -118.465368, -118.48875, -118.575394, -118.604415, null, -118.6105, -118.573897, -118.354185, -118.431809, -118.50620599999999, -118.6105, null, -118.944502, -118.940801, -118.788889, -118.66815199999999, -118.66771299999999, -118.632495, -118.894474, -117.667292, -117.646374, -117.730125, -117.785062, -117.783287, -117.97649799999999, -117.976593, -118.058918, -118.11541107728301, -118.18035, -118.183342, -118.269645, -118.411211, -118.42840699999999, -118.391103, -118.460611, -118.543115, -118.744952, -118.806367, -118.944502, null, -117.676286, -117.655386, -117.610947, -117.610386, -117.55837700000001, -117.558312, -116.929537, -116.929558, -115.31621200000001, -115.316065, -114.435429, -114.438266, -114.535478, -114.50792, -114.52805, -114.494197, -114.53152299999999, -114.524599, -114.627125, -117.241271, -117.364272, -117.509722, -117.413314, -117.533999, -117.53644800000001, -117.580136, -117.676286, null, -117.596147232519, -117.57848, -117.508614, -117.509722, -117.364272, -117.241271, -116.085165, -116.10618141881301, -117.12486200000001, -117.168866, -117.246069, -117.28217000000001, -117.25447, -117.328359, -117.505919, -117.596147232519, null], \"y\": [32.640201999999995, 33.425931999999996, 33.433554, 33.404056, 33.352441999999996, 33.302434, 33.258499, 33.091102, 33.033908, 33.029984, 32.972294999999995, 32.845155, 32.749812, 32.6186413746915, 32.640201999999995, null, 33.478552, 33.409285, 33.310323, 33.326056, 33.419826, 33.440179, 33.478552, null, 33.032941, 33.03055, 32.820918999999996, 32.801462, 32.852985, 33.032941, null, 34.046563, 34.074967, 34.168214, 34.168195, 34.240404, 34.240426, 34.817972, 34.822525999999996, 34.28917, 34.021370999999995, 34.004809, 33.946411, 33.94605, 33.902809999999995, 33.846121, 33.7432945549888, 33.763413, 33.723186, 33.704029999999996, 33.741985, 33.774715, 33.838771, 33.969111, 34.038508, 34.032103, 34.000198, 34.046563, null, 33.888815, 33.925114, 33.925114, 33.971613999999995, 33.98842, 34.033451, 34.004914, 34.034113, 34.03411, 34.077843, 34.079727, 34.022608999999996, 33.934650999999995, 33.903807, 33.814963, 33.707921999999996, 33.675108, 33.552231, 33.433554, 33.431993, 33.505024999999996, 33.505019, 33.659302, 33.710355, 33.757664999999996, 33.767987999999995, 33.888815, null, 33.3871676935322, 33.453927, 33.469614, 33.505019, 33.505024999999996, 33.431993, 33.425931999999996, 32.6186413746915, 32.534155999999996, 32.671952, 32.669351999999996, 32.839546999999996, 32.900146, 33.121842, 33.333253, 33.3871676935322, null]}, {\"hoverinfo\": \"text\", \"legendgroup\": \"centroids\", \"marker\": {\"color\": \"white\", \"opacity\": 0}, \"mode\": \"markers\", \"name\": \"US Counties\", \"selected\": {\"marker\": {\"color\": \"white\", \"opacity\": 1, \"size\": 3}}, \"showlegend\": false, \"text\": [\"County: Santa Barbara<br>State: California<br>FIPS: 06083<br>Value: 2.8349381017881705\", \"County: Santa Barbara<br>State: California<br>FIPS: 06083<br>Value: 2.8349381017881705\", \"County: Santa Barbara<br>State: California<br>FIPS: 06083<br>Value: 2.8349381017881705\", \"County: Santa Barbara<br>State: California<br>FIPS: 06083<br>Value: 2.8349381017881705\", \"County: Santa Barbara<br>State: California<br>FIPS: 06083<br>Value: 2.8349381017881705\", \"County: San Francisco<br>State: California<br>FIPS: 06075<br>Value: 6.092032967032967\", \"County: San Francisco<br>State: California<br>FIPS: 06075<br>Value: 6.092032967032967\", \"County: San Francisco<br>State: California<br>FIPS: 06075<br>Value: 6.092032967032967\", \"County: San Francisco<br>State: California<br>FIPS: 06075<br>Value: 6.092032967032967\", \"County: San Francisco<br>State: California<br>FIPS: 06075<br>Value: 6.092032967032967\", \"County: Los Angeles<br>State: California<br>FIPS: 06037<br>Value: 10.970642201834863\", \"County: Los Angeles<br>State: California<br>FIPS: 06037<br>Value: 10.970642201834863\", \"County: Los Angeles<br>State: California<br>FIPS: 06037<br>Value: 10.970642201834863\", \"County: Contra Costa<br>State: California<br>FIPS: 06013<br>Value: 5.552505147563487\", \"County: Imperial<br>State: California<br>FIPS: 06025<br>Value: 13.78125\", \"County: Orange<br>State: California<br>FIPS: 06059<br>Value: 5.8942598187311175\", \"County: Riverside<br>State: California<br>FIPS: 06065<br>Value: 9.355742296918768\", \"County: Sacramento<br>State: California<br>FIPS: 06067<br>Value: 7.949924127465858\", \"County: San Bernardino<br>State: California<br>FIPS: 06071<br>Value: 6.1602209944751385\", \"County: San Diego<br>State: California<br>FIPS: 06073<br>Value: 12.090594744121715\", \"County: Santa Cruz<br>State: California<br>FIPS: 06087<br>Value: 5.152694610778443\", \"County: Solano<br>State: California<br>FIPS: 06095<br>Value: 7.771676300578035\"], \"type\": \"scatter\", \"unselected\": {\"marker\": {\"opacity\": 0}}, \"x\": [[-119.03939399090983], [-119.7453978812133], [-120.10521658197752], [-120.37266186767484], [-120.02227232553018], [-123.00529439291685], [-122.33062580015999], [-122.36897731254817], [-122.41954035391676], [-122.4408700569418], [-118.43439079091362], [-118.49014796829917], [-118.2170365255692], -121.92792596327368, -115.36535115086141, -117.76107879941756, -115.99381567477099, -121.34424183488738, -116.17840761818748, -116.73529316484134, -122.00183000196053, -121.93285201165745], \"y\": [[33.47564188440025], [34.01403225168951], [33.966566358821716], [34.03801601018601], [34.72481353803675], [37.698262123124536], [37.78330715297076], [37.819750171626495], [37.86191467461643], [37.75512499012593], [33.38251324242627], [32.90130583174091], [34.358917475517885], 37.91916207724548, 33.03951207342643, 33.702973868568144, 33.743649292569536, 38.449313197289484, 34.84138099581411, 33.03413701794012, 37.05617890779834, 38.26997287512082]}, {\"hoverinfo\": \"text\", \"legendgroup\": \"States\", \"line\": {\"color\": \"rgb(240, 240, 240)\", \"width\": 1}, \"mode\": \"lines\", \"showlegend\": false, \"type\": \"scatter\", \"x\": [-118.604415, -118.370323, -118.305084, -118.465368, -118.48875, -118.575394, -118.604415, null, -118.6105, -118.573897, -118.354185, -118.431809, -118.50620599999999, -118.6105, null, -119.052774, -119.049684, -119.031145, -119.03233399999999, -119.052774, null, -119.441226, -119.396251, -119.373406, -119.357462, -119.441226, null, -119.577271, -119.528778, -119.434402, -119.546212, -119.577271, null, -119.929889, -119.759428, -119.637742, -119.584301, -119.52064, -119.560464, -119.818249, -119.873358, -119.876329, -119.929889, null, -120.249536, -120.043259, -120.046575, -119.980156, -119.968636, -120.11588499999999, -120.249536, null, -120.450064, -120.368278, -120.307219, -120.35793, -120.450064, null, -122.377679, -122.362911, -122.36229399999999, -122.372836, -122.377679, null, -122.446316, -122.424651, -122.41847, -122.441271, -122.446316, null, -123.013916, -123.003507, -122.99875399999999, -123.002794, -123.013916, null, -124.217495, -124.216181, -124.213021, -124.215001, -124.217495, null, -124.408601, -124.158322, -124.111756, -124.153622, -124.165414, -124.106986, -124.066057, -124.147412, -124.254954, -124.208439, -124.21160499999999, -119.999168, -120.001014, -117.500117, -114.633487, -114.634382, -114.470477, -114.436466, -114.380838, -114.386699, -114.176909, -114.131211, -114.434181, -114.438266, -114.535478, -114.50792, -114.52805, -114.494197, -114.53152299999999, -114.524599, -114.643302, -114.72528199999999, -114.698035, -114.731223, -114.672088, -114.706488, -114.66506, -114.52013, -114.469039, -114.468971, -114.530755, -114.526856, -114.618373, -114.701918, -114.719633, -117.12486200000001, -117.168866, -117.246069, -117.28217000000001, -117.25447, -117.328359, -117.46979400000001, -117.652692, -117.714617, -117.784888, -118.132698, -118.18035, -118.183342, -118.269645, -118.411211, -118.42840699999999, -118.391103, -118.519514, -118.744952, -118.806367, -119.129252, -119.216441, -119.278644, -119.563986, -119.878199, -120.008077, -120.141165, -120.452811, -120.511421, -120.63672199999999, -120.60045, -120.637415, -120.610266, -120.672269, -120.629931, -120.644311, -120.856047, -120.8996, -120.862684, -120.88475700000001, -121.003359, -121.166712, -121.28653, -121.332449, -121.46491, -121.503112, -121.574602, -121.717176, -121.902729, -121.903195, -121.95447300000001, -121.925937, -121.932508, -121.978714, -121.93643, -121.860604, -121.81446199999999, -121.78827799999999, -121.862266, -121.930069, -122.06642099999999, -122.135161, -122.405073, -122.40084999999999, -122.459577, -122.499289, -122.519533, -122.494085, -122.514483, -122.478083, -122.385323, -122.356784, -122.39319, -122.389313, -122.355627, -122.378545, -122.136422, -122.08874, -122.038599, -122.055541, -122.10942, -122.170648, -122.252172, -122.24394699999999, -122.33227, -122.342253, -122.296618, -122.311399, -122.390546, -122.430087, -122.367582, -122.367909, -122.283478, -122.262861, -122.282824, -122.393588, -122.489974, -122.497828, -122.447304, -122.495553, -122.479512, -122.50506, -122.438268, -122.457999, -122.501019, -122.472736, -122.527399, -122.641963, -122.72518099999999, -122.856573, -122.939711, -122.981776, -122.963544, -123.024066, -122.949074, -122.995631, -122.972101, -122.977082, -123.024333, -123.063671, -123.128825, -123.33189899999999, -123.441774, -123.727976, -123.74192099999999, -123.69124, -123.827716, -123.766475, -123.851714, -124.079983, -124.11054899999999, -124.360604, -124.347853, -124.408601, null, null], \"y\": [33.478552, 33.409285, 33.310323, 33.326056, 33.419826, 33.440179, 33.478552, null, 33.032941, 33.03055, 32.820918999999996, 32.801462, 32.852985, 33.032941, null, 33.46586, 33.483900999999996, 33.489649, 33.468834, 33.46586, null, 34.014075, 34.005918, 34.015440999999996, 34.015919, 34.014075, null, 33.278582, 33.285416999999995, 33.227021, 33.232561, 33.278582, null, 34.059734, 34.058835, 34.013177999999996, 34.053643, 34.034262, 33.995529999999995, 33.959858, 33.980374999999995, 34.032087, 34.059734, null, 34.002477, 34.035806, 34.000001999999995, 33.983653, 33.942878, 33.894360999999996, 34.002477, null, 34.034194, 34.076465, 34.022375, 34.015029, 34.034194, null, 37.830459999999995, 37.822696, 37.807016, 37.811068, 37.830459999999995, null, 37.861046, 37.870736, 37.852720999999995, 37.855142, 37.861046, null, 37.700355, 37.704395999999996, 37.697438, 37.692736, 37.700355, null, 41.95081, 41.952211999999996, 41.951023, 41.949734, 41.95081, null, 40.443200999999995, 40.876069, 41.026883, 41.05355, 41.129822, 41.229678, 41.470258, 41.717954999999996, 41.778169999999996, 41.888192, 41.99846, 41.99454, 38.999573999999996, 37.22038, 35.001857, 34.87289, 34.711368, 34.595400000000005, 34.529724, 34.457910999999996, 34.349306, 34.26273, 34.087379, 34.022608999999996, 33.934650999999995, 33.903807, 33.814963, 33.707921999999996, 33.675108, 33.552231, 33.416745, 33.405048, 33.352441999999996, 33.302434, 33.258499, 33.08816, 33.033908, 33.029984, 32.972294999999995, 32.845155, 32.793485, 32.757093999999995, 32.728245, 32.745548, 32.718762999999996, 32.534155999999996, 32.671952, 32.669351999999996, 32.839546999999996, 32.900146, 33.121842, 33.296417, 33.446154, 33.459914, 33.541525, 33.753217, 33.763413, 33.723186, 33.704029999999996, 33.741985, 33.774715, 33.838771, 34.027509, 34.032103, 34.000198, 34.10084, 34.146105, 34.266902, 34.41532, 34.406912999999996, 34.460446999999995, 34.473405, 34.442442, 34.522953, 34.560967, 34.70464, 34.755894999999995, 34.85818, 34.90254, 35.061515, 35.139616, 35.206486999999996, 35.255337, 35.346776, 35.430195999999995, 35.46071, 35.635399, 35.665524, 35.783106, 35.888456999999995, 36.000299, 36.025155999999996, 36.195146, 36.306379, 36.393603, 36.518904, 36.525172999999995, 36.559934999999996, 36.581488, 36.636745999999995, 36.611135999999995, 36.682857999999996, 36.803993999999996, 36.931551999999996, 36.97815, 36.948271, 36.967774, 37.195791, 37.359224999999995, 37.492731, 37.495340999999996, 37.537302, 37.644034999999995, 37.780829, 37.810828, 37.790724, 37.729504999999996, 37.707530999999996, 37.640193, 37.615293, 37.605592, 37.507576, 37.452267, 37.454622, 37.49523, 37.500254, 37.678503, 37.724952, 37.751779, 37.781517, 37.805558, 37.828465, 37.895793999999995, 37.90911, 37.963114999999995, 37.978168, 38.01253, 38.022673999999995, 38.0446, 38.082889, 38.143449, 38.112013999999995, 38.019402, 37.984387, 37.970523, 37.942526, 37.936414, 37.880973999999995, 37.861768999999995, 37.893662, 37.831927, 37.814947, 37.897507, 37.902691, 38.016717, 38.031908, 38.009119, 37.989914, 37.994878, 38.15406, 38.238626, 38.232652, 38.267902, 38.310573, 38.302178, 38.450418, 38.565542, 38.699743999999995, 38.919429, 38.956227999999996, 39.050795, 39.348433, 39.552803, 39.832041, 40.029773, 40.103764999999996, 40.257206, 40.314634, 40.443200999999995, null, null]}],\n",
       "                        {\"annotations\": [{\"showarrow\": false, \"text\": \"<b>CO AQI</b>\", \"x\": 1, \"xanchor\": \"right\", \"xref\": \"paper\", \"y\": 1.05, \"yref\": \"paper\"}], \"dragmode\": \"select\", \"height\": 450, \"hovermode\": \"closest\", \"legend\": {\"traceorder\": \"reversed\", \"x\": 1, \"xanchor\": \"right\", \"y\": 1, \"yanchor\": \"top\"}, \"margin\": {\"b\": 20, \"l\": 20, \"r\": 20, \"t\": 40}, \"title\": {\"text\": \"Mean CO AQI for County in 2005\"}, \"width\": 900, \"xaxis\": {\"autorange\": false, \"fixedrange\": true, \"range\": [-131.100286, -107.43952599999999], \"showgrid\": false, \"showticklabels\": false, \"zeroline\": false}, \"yaxis\": {\"autorange\": false, \"fixedrange\": true, \"range\": [32.534155999999996, 41.99846], \"showgrid\": false, \"showticklabels\": false, \"zeroline\": false}},\n",
       "                        {\"responsive\": true}\n",
       "                    ).then(function(){\n",
       "                            \n",
       "var gd = document.getElementById('74fb9433-b179-467b-9a72-46ea2d29f363');\n",
       "var x = new MutationObserver(function (mutations, observer) {{\n",
       "        var display = window.getComputedStyle(gd).display;\n",
       "        if (!display || display === 'none') {{\n",
       "            console.log([gd, 'removed!']);\n",
       "            Plotly.purge(gd);\n",
       "            observer.disconnect();\n",
       "        }}\n",
       "}});\n",
       "\n",
       "// Listen for the removal of the full notebook cells\n",
       "var notebookContainer = gd.closest('#notebook-container');\n",
       "if (notebookContainer) {{\n",
       "    x.observe(notebookContainer, {childList: true});\n",
       "}}\n",
       "\n",
       "// Listen for the clearing of the current output cell\n",
       "var outputEl = gd.closest('.output');\n",
       "if (outputEl) {{\n",
       "    x.observe(outputEl, {childList: true});\n",
       "}}\n",
       "\n",
       "                        })\n",
       "                };\n",
       "                });\n",
       "            </script>\n",
       "        </div>"
      ]
     },
     "metadata": {},
     "output_type": "display_data"
    }
   ],
   "source": [
    "aqi_2005_fig.show()"
   ]
  },
  {
   "cell_type": "markdown",
   "metadata": {
    "slideshow": {
     "slide_type": "slide"
    }
   },
   "source": [
    "## Air Quality in 2015"
   ]
  },
  {
   "cell_type": "code",
   "execution_count": 20,
   "metadata": {
    "scrolled": true,
    "slideshow": {
     "slide_type": "-"
    }
   },
   "outputs": [
    {
     "data": {
      "application/vnd.plotly.v1+json": {
       "config": {
        "plotlyServerURL": "https://plot.ly"
       },
       "data": [
        {
         "fill": "toself",
         "fillcolor": "rgb(68, 1, 84)",
         "hoverinfo": "none",
         "line": {
          "color": "rgb(0, 0, 0)",
          "width": 0
         },
         "mode": "lines",
         "name": "< 1",
         "type": "scatter",
         "x": [],
         "y": []
        },
        {
         "fill": "toself",
         "fillcolor": "rgb(72, 24, 106)",
         "hoverinfo": "none",
         "line": {
          "color": "rgb(0, 0, 0)",
          "width": 0
         },
         "mode": "lines",
         "name": "1 - 2",
         "type": "scatter",
         "x": [],
         "y": []
        },
        {
         "fill": "toself",
         "fillcolor": "rgb(66, 64, 134)",
         "hoverinfo": "none",
         "line": {
          "color": "rgb(0, 0, 0)",
          "width": 0
         },
         "mode": "lines",
         "name": "2 - 3",
         "type": "scatter",
         "x": [
          -119.052774,
          -119.049684,
          -119.031145,
          -119.03233399999999,
          -119.052774,
          null,
          -119.929889,
          -119.759428,
          -119.637742,
          -119.584301,
          -119.52064,
          -119.560464,
          -119.818249,
          -119.873358,
          -119.876329,
          -119.929889,
          null,
          -120.249536,
          -120.043259,
          -120.046575,
          -119.980156,
          -119.968636,
          -120.11588499999999,
          -120.249536,
          null,
          -120.450064,
          -120.368278,
          -120.307219,
          -120.35793,
          -120.450064,
          null,
          -120.670835,
          -120.64933848246501,
          -120.496222,
          -120.301827,
          -120.323823,
          -120.209907,
          -120.143368,
          -120.082084,
          -119.535972,
          -119.442352,
          -119.44599099999999,
          -119.47863,
          -119.606513,
          -119.878199,
          -120.008077,
          -120.141165,
          -120.47137599999999,
          -120.511421,
          -120.64923999999999,
          -120.60045,
          -120.637415,
          -120.610266,
          -120.670835,
          null
         ],
         "y": [
          33.46586,
          33.483900999999996,
          33.489649,
          33.468834,
          33.46586,
          null,
          34.059734,
          34.058835,
          34.013177999999996,
          34.053643,
          34.034262,
          33.995529999999995,
          33.959858,
          33.980374999999995,
          34.032087,
          34.059734,
          null,
          34.002477,
          34.035806,
          34.000001999999995,
          33.983653,
          33.942878,
          33.894360999999996,
          34.002477,
          null,
          34.034194,
          34.076465,
          34.022375,
          34.015029,
          34.034194,
          null,
          34.904115,
          34.9747100117234,
          34.993155,
          34.905571,
          35.017314,
          35.020582,
          35.095563999999996,
          35.114678,
          34.89772,
          34.901274,
          34.404067,
          34.373275,
          34.420445,
          34.406912999999996,
          34.460446999999995,
          34.473405,
          34.447846,
          34.522953,
          34.576707,
          34.70464,
          34.755894999999995,
          34.85818,
          34.904115,
          null
         ]
        },
        {
         "fill": "toself",
         "fillcolor": "rgb(51, 99, 141)",
         "hoverinfo": "none",
         "line": {
          "color": "rgb(0, 0, 0)",
          "width": 0
         },
         "mode": "lines",
         "name": "3 - 4",
         "type": "scatter",
         "x": [],
         "y": []
        },
        {
         "fill": "toself",
         "fillcolor": "rgb(38, 130, 142)",
         "hoverinfo": "none",
         "line": {
          "color": "rgb(0, 0, 0)",
          "width": 0
         },
         "mode": "lines",
         "name": "4 - 5",
         "type": "scatter",
         "x": [
          -124.408601,
          -124.137066,
          -124.111756,
          -124.153622,
          -124.165414,
          -124.106986,
          -124.065520896835,
          -123.770551,
          -123.770239,
          -123.474085,
          -123.455356,
          -123.40829099999999,
          -123.464006,
          -123.40603999999999,
          -123.481457,
          -123.560163,
          -123.623891,
          -123.563059,
          -123.543102,
          -123.54445799999999,
          -124.072509,
          -124.11054899999999,
          -124.360604,
          -124.347853,
          -124.408601,
          null,
          -118.11442,
          -118.058918,
          -117.976593,
          -117.97649799999999,
          -117.783287,
          -117.53644800000001,
          -117.533999,
          -117.413314,
          -117.51021,
          -117.508614,
          -117.57848,
          -117.596147232519,
          -118.11442,
          null,
          -121.86254199999999,
          -121.710888,
          -121.685586,
          -121.612102,
          -121.583954,
          -121.520777,
          -121.532696,
          -121.504139,
          -121.559167,
          -121.507241,
          -121.63019,
          -121.60289399999999,
          -121.118617,
          -121.027472,
          -121.027084,
          -121.34402399999999,
          -121.470958,
          -121.584074,
          -121.567184,
          -121.673065,
          -121.699765,
          -121.777485,
          -121.86254199999999,
          null,
          -117.802539,
          -117.76769,
          -117.730125,
          -117.646374,
          -117.667292,
          -117.632011,
          -117.63299599999999,
          -115.64802031181802,
          -114.633487,
          -114.634382,
          -114.470477,
          -114.436466,
          -114.380838,
          -114.386699,
          -114.176909,
          -114.131211,
          -114.435429,
          -115.316065,
          -115.31621200000001,
          -116.929558,
          -116.929537,
          -117.558312,
          -117.55837700000001,
          -117.610386,
          -117.610947,
          -117.655386,
          -117.673749,
          -117.802539,
          null,
          -117.596147232519,
          -117.57848,
          -117.508614,
          -117.509722,
          -117.364272,
          -117.241271,
          -116.085165,
          -116.10618141881301,
          -117.12486200000001,
          -117.168866,
          -117.246069,
          -117.28217000000001,
          -117.25447,
          -117.328359,
          -117.505919,
          -117.596147232519,
          null
         ],
         "y": [
          40.443200999999995,
          40.925731999999996,
          41.026883,
          41.05355,
          41.129822,
          41.229678,
          41.464739464938205,
          41.464193,
          41.380776,
          41.366192999999996,
          41.236872999999996,
          41.179944,
          41.076347999999996,
          41.012896999999995,
          40.914957,
          40.950257,
          40.928674,
          40.840416999999995,
          40.734013999999995,
          40.001923,
          40.022656999999995,
          40.103764999999996,
          40.257206,
          40.314634,
          40.443200999999995,
          null,
          33.745176,
          33.846121,
          33.902809999999995,
          33.94605,
          33.946411,
          33.757664999999996,
          33.710355,
          33.659302,
          33.533999,
          33.469614,
          33.453927,
          33.3871676935322,
          33.745176,
          null,
          38.067949999999996,
          38.086489,
          38.159704999999995,
          38.200068,
          38.331652,
          38.36212,
          38.430788,
          38.466563,
          38.498007,
          38.591150999999996,
          38.677445,
          38.735838,
          38.717118,
          38.508218,
          38.300252,
          38.22826,
          38.259902,
          38.120228,
          38.097321,
          38.093517999999996,
          38.04522,
          38.018916999999995,
          38.067949999999996,
          null,
          33.975550999999996,
          34.023506,
          34.021370999999995,
          34.28917,
          34.822525999999996,
          34.822269999999996,
          35.797250999999996,
          35.8096294219517,
          35.001857,
          34.87289,
          34.711368,
          34.595400000000005,
          34.529724,
          34.457910999999996,
          34.349306,
          34.26273,
          34.079727,
          34.077843,
          34.03411,
          34.034113,
          34.004914,
          34.033451,
          33.98842,
          33.971613999999995,
          33.925114,
          33.925114,
          33.870830999999995,
          33.975550999999996,
          null,
          33.3871676935322,
          33.453927,
          33.469614,
          33.505019,
          33.505024999999996,
          33.431993,
          33.425931999999996,
          32.6186413746915,
          32.534155999999996,
          32.671952,
          32.669351999999996,
          32.839546999999996,
          32.900146,
          33.121842,
          33.333253,
          33.3871676935322,
          null
         ]
        },
        {
         "fill": "toself",
         "fillcolor": "rgb(31, 160, 136)",
         "hoverinfo": "none",
         "line": {
          "color": "rgb(0, 0, 0)",
          "width": 0
         },
         "mode": "lines",
         "name": "5 - 6",
         "type": "scatter",
         "x": [
          -122.42976,
          -122.367582,
          -122.367909,
          -122.300823,
          -122.26966618816802,
          -122.146866,
          -121.862462,
          -121.78139,
          -121.699765,
          -121.673065,
          -121.604923,
          -121.557554,
          -121.57991,
          -121.556419,
          -121.578965,
          -121.534247,
          -121.555073,
          -121.96077,
          -122.045473,
          -122.185977,
          -122.263881,
          -122.390546,
          -122.42976,
          null,
          -120.909422,
          -120.65595,
          -120.590566,
          -120.598564,
          -120.541696,
          -120.450825,
          -120.454082,
          -120.371551,
          -120.290594,
          -120.079458,
          -119.81383199999999,
          -119.698075,
          -119.65160399999999,
          -119.620657,
          -119.604908,
          -119.561432,
          -119.537677,
          -119.568566,
          -119.559412,
          -119.506733,
          -119.474807,
          -119.432125,
          -119.361762,
          -119.32942800000001,
          -119.312186,
          -119.022363,
          -118.917158,
          -118.856049,
          -118.795839,
          -118.76328699999999,
          -118.78673599999999,
          -118.716016,
          -118.665332,
          -118.686424,
          -118.667447,
          -118.44128599999999,
          -118.36083099999999,
          -118.362169,
          -118.39372399999999,
          -118.360586,
          -118.982441,
          -118.984779,
          -119.304625,
          -119.305102,
          -119.46632199999999,
          -119.66692,
          -119.959227,
          -119.958916,
          -120.318719,
          -120.360402,
          -120.433053,
          -120.600607,
          -120.648784,
          -120.672105,
          -120.627055,
          -120.679741,
          -120.682723,
          -120.596562,
          -120.597155,
          -120.909422,
          null,
          -117.676286,
          -117.655386,
          -117.610947,
          -117.610386,
          -117.55837700000001,
          -117.558312,
          -116.929537,
          -116.929558,
          -115.31621200000001,
          -115.316065,
          -114.435429,
          -114.438266,
          -114.535478,
          -114.50792,
          -114.52805,
          -114.494197,
          -114.53152299999999,
          -114.524599,
          -114.627125,
          -117.241271,
          -117.364272,
          -117.509722,
          -117.413314,
          -117.533999,
          -117.53644800000001,
          -117.580136,
          -117.676286,
          null
         ],
         "y": [
          37.965405,
          37.978168,
          38.01253,
          38.010892999999996,
          38.0603362895779,
          38.031727,
          38.06603,
          38.018612,
          38.04522,
          38.093517999999996,
          38.099878,
          38.017036999999995,
          38.007782999999996,
          37.923302,
          37.858497,
          37.849891,
          37.817442,
          37.718629,
          37.798125999999996,
          37.820726,
          37.903675,
          37.90911,
          37.965405,
          null,
          36.747696,
          36.952832,
          36.952641,
          36.99863,
          37.044505,
          36.913471,
          36.860206,
          36.785835999999996,
          36.763047,
          36.825345,
          36.850207999999995,
          37.008748,
          37.042961,
          37.027058,
          37.071016,
          37.065484999999995,
          37.104019,
          37.116689,
          37.143619,
          37.150554,
          37.109963,
          37.162571,
          37.167998,
          37.209997,
          37.352725,
          37.585737,
          37.550336,
          37.478395,
          37.488372,
          37.456537,
          37.343379999999996,
          37.328208,
          37.261917,
          37.227575,
          37.155443,
          37.063855,
          36.887734,
          36.844001999999996,
          36.829668,
          36.744772999999995,
          36.741645999999996,
          36.657146999999995,
          36.660606,
          36.573724999999996,
          36.575238,
          36.418728,
          36.400974999999995,
          36.181414,
          35.906914,
          35.964417999999995,
          35.968933,
          36.101586999999995,
          36.10799,
          36.163844,
          36.203039,
          36.246665,
          36.294441,
          36.328488,
          36.488234999999996,
          36.747696,
          null,
          33.888815,
          33.925114,
          33.925114,
          33.971613999999995,
          33.98842,
          34.033451,
          34.004914,
          34.034113,
          34.03411,
          34.077843,
          34.079727,
          34.022608999999996,
          33.934650999999995,
          33.903807,
          33.814963,
          33.707921999999996,
          33.675108,
          33.552231,
          33.433554,
          33.431993,
          33.505024999999996,
          33.505019,
          33.659302,
          33.710355,
          33.757664999999996,
          33.767987999999995,
          33.888815,
          null
         ]
        },
        {
         "fill": "toself",
         "fillcolor": "rgb(63, 188, 115)",
         "hoverinfo": "none",
         "line": {
          "color": "rgb(0, 0, 0)",
          "width": 0
         },
         "mode": "lines",
         "name": "6 - 7",
         "type": "scatter",
         "x": [
          -118.604415,
          -118.370323,
          -118.305084,
          -118.465368,
          -118.48875,
          -118.575394,
          -118.604415,
          null,
          -118.6105,
          -118.573897,
          -118.354185,
          -118.431809,
          -118.50620599999999,
          -118.6105,
          null,
          -118.944502,
          -118.940801,
          -118.788889,
          -118.66815199999999,
          -118.66771299999999,
          -118.632495,
          -118.894474,
          -117.667292,
          -117.646374,
          -117.730125,
          -117.785062,
          -117.783287,
          -117.97649799999999,
          -117.976593,
          -118.058918,
          -118.11541107728301,
          -118.18035,
          -118.183342,
          -118.269645,
          -118.411211,
          -118.42840699999999,
          -118.391103,
          -118.460611,
          -118.543115,
          -118.744952,
          -118.806367,
          -118.944502,
          null,
          -122.202653,
          -122.190506,
          -122.11516140516001,
          -122.058336,
          -121.865267,
          -121.47295199999999,
          -121.456651,
          -121.409075,
          -121.405753,
          -121.458051,
          -121.45575,
          -121.399019,
          -121.35955799999999,
          -121.23711,
          -121.217339,
          -121.245384,
          -121.208198,
          -121.248647,
          -121.246638,
          -121.215406,
          -121.48894899999999,
          -121.575402,
          -121.59035399999999,
          -121.738697,
          -121.718762,
          -121.75492,
          -122.026107,
          -122.193062,
          -122.202653,
          null,
          -122.403475,
          -122.19538,
          -122.205982,
          -122.061379,
          -122.126389,
          -122.09077500000001,
          -122.01337699999999,
          -121.940285,
          -121.712034,
          -121.693697,
          -121.593273,
          -121.614471,
          -121.685586,
          -121.710888,
          -121.79849,
          -122.061103,
          -122.156852,
          -122.26966618816802,
          -122.403475,
          null
         ],
         "y": [
          33.478552,
          33.409285,
          33.310323,
          33.326056,
          33.419826,
          33.440179,
          33.478552,
          null,
          33.032941,
          33.03055,
          32.820918999999996,
          32.801462,
          32.852985,
          33.032941,
          null,
          34.046563,
          34.074967,
          34.168214,
          34.168195,
          34.240404,
          34.240426,
          34.817972,
          34.822525999999996,
          34.28917,
          34.021370999999995,
          34.004809,
          33.946411,
          33.94605,
          33.902809999999995,
          33.846121,
          33.7432945549888,
          33.763413,
          33.723186,
          33.704029999999996,
          33.741985,
          33.774715,
          33.838771,
          33.969111,
          34.038508,
          34.032103,
          34.000198,
          34.046563,
          null,
          37.363046,
          37.430955999999995,
          37.4662797321484,
          37.446788,
          37.484637,
          37.482333,
          37.395534999999995,
          37.380672,
          37.31099,
          37.284138999999996,
          37.24944,
          37.150135,
          37.184453,
          37.157204,
          37.123042,
          37.089501,
          37.061288999999995,
          37.03368,
          36.987048,
          36.961248,
          36.983148,
          36.893032999999996,
          36.926151,
          36.989990999999996,
          37.007557,
          37.048449999999995,
          37.16681,
          37.318276999999995,
          37.363046,
          null,
          38.155465,
          38.155017,
          38.315712999999995,
          38.327411,
          38.428917999999996,
          38.515996,
          38.488721,
          38.533384,
          38.537962,
          38.313732,
          38.313089,
          38.196473999999995,
          38.159704999999995,
          38.086489,
          38.060111,
          38.062137,
          38.032945999999995,
          38.0603362895779,
          38.155465,
          null
         ]
        },
        {
         "fill": "toself",
         "fillcolor": "rgb(132, 212, 75)",
         "hoverinfo": "none",
         "line": {
          "color": "rgb(0, 0, 0)",
          "width": 0
         },
         "mode": "lines",
         "name": "7 - 8",
         "type": "scatter",
         "x": [],
         "y": []
        },
        {
         "fill": "toself",
         "fillcolor": "rgb(216, 226, 25)",
         "hoverinfo": "none",
         "line": {
          "color": "rgb(0, 0, 0)",
          "width": 0
         },
         "mode": "lines",
         "name": "8 - 9",
         "type": "scatter",
         "x": [
          -122.342253,
          -122.296618,
          -122.326912,
          -122.27108,
          -122.185977,
          -122.045473,
          -121.96077,
          -121.55915999999999,
          -121.556655,
          -121.47106,
          -122.049837,
          -122.055541,
          -122.10942,
          -122.170648,
          -122.342253,
          null,
          -116.106166,
          -116.085165,
          -114.627125,
          -114.725535,
          -114.698035,
          -114.731223,
          -114.672088,
          -114.707819,
          -114.66506,
          -114.52013,
          -114.469039,
          -114.468971,
          -114.539224,
          -116.10618141881301,
          -116.106166,
          null
         ],
         "y": [
          37.805558,
          37.828465,
          37.892492,
          37.905823999999996,
          37.820726,
          37.798125999999996,
          37.718629,
          37.818926999999995,
          37.542732,
          37.483317,
          37.466077999999996,
          37.49523,
          37.500254,
          37.678503,
          37.805558,
          null,
          32.640201999999995,
          33.425931999999996,
          33.433554,
          33.404056,
          33.352441999999996,
          33.302434,
          33.258499,
          33.091102,
          33.033908,
          33.029984,
          32.972294999999995,
          32.845155,
          32.749812,
          32.6186413746915,
          32.640201999999995,
          null
         ]
        },
        {
         "fill": "toself",
         "fillcolor": "rgb(253, 231, 37)",
         "hoverinfo": "none",
         "line": {
          "color": "rgb(0, 0, 0)",
          "width": 0
         },
         "mode": "lines",
         "name": "> 9",
         "type": "scatter",
         "x": [],
         "y": []
        },
        {
         "hoverinfo": "text",
         "legendgroup": "centroids",
         "marker": {
          "color": "white",
          "opacity": 0
         },
         "mode": "markers",
         "name": "US Counties",
         "selected": {
          "marker": {
           "color": "white",
           "opacity": 1,
           "size": 3
          }
         },
         "showlegend": false,
         "text": [
          "County: Santa Barbara<br>State: California<br>FIPS: 06083<br>Value: 2.5659494855004676",
          "County: Santa Barbara<br>State: California<br>FIPS: 06083<br>Value: 2.5659494855004676",
          "County: Santa Barbara<br>State: California<br>FIPS: 06083<br>Value: 2.5659494855004676",
          "County: Santa Barbara<br>State: California<br>FIPS: 06083<br>Value: 2.5659494855004676",
          "County: Santa Barbara<br>State: California<br>FIPS: 06083<br>Value: 2.5659494855004676",
          "County: Los Angeles<br>State: California<br>FIPS: 06037<br>Value: 6.924499229583976",
          "County: Los Angeles<br>State: California<br>FIPS: 06037<br>Value: 6.924499229583976",
          "County: Los Angeles<br>State: California<br>FIPS: 06037<br>Value: 6.924499229583976",
          "County: Alameda<br>State: California<br>FIPS: 06001<br>Value: 8.285714285714286",
          "County: Contra Costa<br>State: California<br>FIPS: 06013<br>Value: 5.272058823529412",
          "County: Fresno<br>State: California<br>FIPS: 06019<br>Value: 5.628242074927954",
          "County: Humboldt<br>State: California<br>FIPS: 06023<br>Value: 4.033245993772354",
          "County: Imperial<br>State: California<br>FIPS: 06025<br>Value: 8.127777777777778",
          "County: Orange<br>State: California<br>FIPS: 06059<br>Value: 4.736231884057971",
          "County: Riverside<br>State: California<br>FIPS: 06065<br>Value: 5.909217877094972",
          "County: Sacramento<br>State: California<br>FIPS: 06067<br>Value: 4.948424068767908",
          "County: San Bernardino<br>State: California<br>FIPS: 06071<br>Value: 4.884669479606188",
          "County: San Diego<br>State: California<br>FIPS: 06073<br>Value: 4.480938416422287",
          "County: Santa Clara<br>State: California<br>FIPS: 06085<br>Value: 6.013812154696133",
          "County: Solano<br>State: California<br>FIPS: 06095<br>Value: 6.512396694214876"
         ],
         "type": "scatter",
         "unselected": {
          "marker": {
           "opacity": 0
          }
         },
         "x": [
          [
           -119.03939399090983
          ],
          [
           -119.7453978812133
          ],
          [
           -120.10521658197752
          ],
          [
           -120.37266186767484
          ],
          [
           -120.02227232553018
          ],
          [
           -118.43439079091362
          ],
          [
           -118.49014796829917
          ],
          [
           -118.2170365255692
          ],
          -121.88875421101815,
          -121.92792596327368,
          -119.64930558434699,
          -123.87562937160736,
          -115.36535115086141,
          -117.76107879941756,
          -115.99381567477099,
          -121.34424183488738,
          -116.17840761818748,
          -116.73529316484134,
          -121.69512828430553,
          -121.93285201165745
         ],
         "y": [
          [
           33.47564188440025
          ],
          [
           34.01403225168951
          ],
          [
           33.966566358821716
          ],
          [
           34.03801601018601
          ],
          [
           34.72481353803675
          ],
          [
           33.38251324242627
          ],
          [
           32.90130583174091
          ],
          [
           34.358917475517885
          ],
          37.64695480351439,
          37.91916207724548,
          36.75819639897621,
          40.699297496044885,
          33.03951207342643,
          33.702973868568144,
          33.743649292569536,
          38.449313197289484,
          34.84138099581411,
          33.03413701794012,
          37.23178985468803,
          38.26997287512082
         ]
        },
        {
         "hoverinfo": "text",
         "legendgroup": "States",
         "line": {
          "color": "rgb(240, 240, 240)",
          "width": 1
         },
         "mode": "lines",
         "showlegend": false,
         "type": "scatter",
         "x": [
          -118.604415,
          -118.370323,
          -118.305084,
          -118.465368,
          -118.48875,
          -118.575394,
          -118.604415,
          null,
          -118.6105,
          -118.573897,
          -118.354185,
          -118.431809,
          -118.50620599999999,
          -118.6105,
          null,
          -119.052774,
          -119.049684,
          -119.031145,
          -119.03233399999999,
          -119.052774,
          null,
          -119.441226,
          -119.396251,
          -119.373406,
          -119.357462,
          -119.441226,
          null,
          -119.577271,
          -119.528778,
          -119.434402,
          -119.546212,
          -119.577271,
          null,
          -119.929889,
          -119.759428,
          -119.637742,
          -119.584301,
          -119.52064,
          -119.560464,
          -119.818249,
          -119.873358,
          -119.876329,
          -119.929889,
          null,
          -120.249536,
          -120.043259,
          -120.046575,
          -119.980156,
          -119.968636,
          -120.11588499999999,
          -120.249536,
          null,
          -120.450064,
          -120.368278,
          -120.307219,
          -120.35793,
          -120.450064,
          null,
          -122.377679,
          -122.362911,
          -122.36229399999999,
          -122.372836,
          -122.377679,
          null,
          -122.446316,
          -122.424651,
          -122.41847,
          -122.441271,
          -122.446316,
          null,
          -123.013916,
          -123.003507,
          -122.99875399999999,
          -123.002794,
          -123.013916,
          null,
          -124.217495,
          -124.216181,
          -124.213021,
          -124.215001,
          -124.217495,
          null,
          -124.408601,
          -124.158322,
          -124.111756,
          -124.153622,
          -124.165414,
          -124.106986,
          -124.066057,
          -124.147412,
          -124.254954,
          -124.208439,
          -124.21160499999999,
          -119.999168,
          -120.001014,
          -117.500117,
          -114.633487,
          -114.634382,
          -114.470477,
          -114.436466,
          -114.380838,
          -114.386699,
          -114.176909,
          -114.131211,
          -114.434181,
          -114.438266,
          -114.535478,
          -114.50792,
          -114.52805,
          -114.494197,
          -114.53152299999999,
          -114.524599,
          -114.643302,
          -114.72528199999999,
          -114.698035,
          -114.731223,
          -114.672088,
          -114.706488,
          -114.66506,
          -114.52013,
          -114.469039,
          -114.468971,
          -114.530755,
          -114.526856,
          -114.618373,
          -114.701918,
          -114.719633,
          -117.12486200000001,
          -117.168866,
          -117.246069,
          -117.28217000000001,
          -117.25447,
          -117.328359,
          -117.46979400000001,
          -117.652692,
          -117.714617,
          -117.784888,
          -118.132698,
          -118.18035,
          -118.183342,
          -118.269645,
          -118.411211,
          -118.42840699999999,
          -118.391103,
          -118.519514,
          -118.744952,
          -118.806367,
          -119.129252,
          -119.216441,
          -119.278644,
          -119.563986,
          -119.878199,
          -120.008077,
          -120.141165,
          -120.452811,
          -120.511421,
          -120.63672199999999,
          -120.60045,
          -120.637415,
          -120.610266,
          -120.672269,
          -120.629931,
          -120.644311,
          -120.856047,
          -120.8996,
          -120.862684,
          -120.88475700000001,
          -121.003359,
          -121.166712,
          -121.28653,
          -121.332449,
          -121.46491,
          -121.503112,
          -121.574602,
          -121.717176,
          -121.902729,
          -121.903195,
          -121.95447300000001,
          -121.925937,
          -121.932508,
          -121.978714,
          -121.93643,
          -121.860604,
          -121.81446199999999,
          -121.78827799999999,
          -121.862266,
          -121.930069,
          -122.06642099999999,
          -122.135161,
          -122.405073,
          -122.40084999999999,
          -122.459577,
          -122.499289,
          -122.519533,
          -122.494085,
          -122.514483,
          -122.478083,
          -122.385323,
          -122.356784,
          -122.39319,
          -122.389313,
          -122.355627,
          -122.378545,
          -122.136422,
          -122.08874,
          -122.038599,
          -122.055541,
          -122.10942,
          -122.170648,
          -122.252172,
          -122.24394699999999,
          -122.33227,
          -122.342253,
          -122.296618,
          -122.311399,
          -122.390546,
          -122.430087,
          -122.367582,
          -122.367909,
          -122.283478,
          -122.262861,
          -122.282824,
          -122.393588,
          -122.489974,
          -122.497828,
          -122.447304,
          -122.495553,
          -122.479512,
          -122.50506,
          -122.438268,
          -122.457999,
          -122.501019,
          -122.472736,
          -122.527399,
          -122.641963,
          -122.72518099999999,
          -122.856573,
          -122.939711,
          -122.981776,
          -122.963544,
          -123.024066,
          -122.949074,
          -122.995631,
          -122.972101,
          -122.977082,
          -123.024333,
          -123.063671,
          -123.128825,
          -123.33189899999999,
          -123.441774,
          -123.727976,
          -123.74192099999999,
          -123.69124,
          -123.827716,
          -123.766475,
          -123.851714,
          -124.079983,
          -124.11054899999999,
          -124.360604,
          -124.347853,
          -124.408601,
          null,
          null
         ],
         "y": [
          33.478552,
          33.409285,
          33.310323,
          33.326056,
          33.419826,
          33.440179,
          33.478552,
          null,
          33.032941,
          33.03055,
          32.820918999999996,
          32.801462,
          32.852985,
          33.032941,
          null,
          33.46586,
          33.483900999999996,
          33.489649,
          33.468834,
          33.46586,
          null,
          34.014075,
          34.005918,
          34.015440999999996,
          34.015919,
          34.014075,
          null,
          33.278582,
          33.285416999999995,
          33.227021,
          33.232561,
          33.278582,
          null,
          34.059734,
          34.058835,
          34.013177999999996,
          34.053643,
          34.034262,
          33.995529999999995,
          33.959858,
          33.980374999999995,
          34.032087,
          34.059734,
          null,
          34.002477,
          34.035806,
          34.000001999999995,
          33.983653,
          33.942878,
          33.894360999999996,
          34.002477,
          null,
          34.034194,
          34.076465,
          34.022375,
          34.015029,
          34.034194,
          null,
          37.830459999999995,
          37.822696,
          37.807016,
          37.811068,
          37.830459999999995,
          null,
          37.861046,
          37.870736,
          37.852720999999995,
          37.855142,
          37.861046,
          null,
          37.700355,
          37.704395999999996,
          37.697438,
          37.692736,
          37.700355,
          null,
          41.95081,
          41.952211999999996,
          41.951023,
          41.949734,
          41.95081,
          null,
          40.443200999999995,
          40.876069,
          41.026883,
          41.05355,
          41.129822,
          41.229678,
          41.470258,
          41.717954999999996,
          41.778169999999996,
          41.888192,
          41.99846,
          41.99454,
          38.999573999999996,
          37.22038,
          35.001857,
          34.87289,
          34.711368,
          34.595400000000005,
          34.529724,
          34.457910999999996,
          34.349306,
          34.26273,
          34.087379,
          34.022608999999996,
          33.934650999999995,
          33.903807,
          33.814963,
          33.707921999999996,
          33.675108,
          33.552231,
          33.416745,
          33.405048,
          33.352441999999996,
          33.302434,
          33.258499,
          33.08816,
          33.033908,
          33.029984,
          32.972294999999995,
          32.845155,
          32.793485,
          32.757093999999995,
          32.728245,
          32.745548,
          32.718762999999996,
          32.534155999999996,
          32.671952,
          32.669351999999996,
          32.839546999999996,
          32.900146,
          33.121842,
          33.296417,
          33.446154,
          33.459914,
          33.541525,
          33.753217,
          33.763413,
          33.723186,
          33.704029999999996,
          33.741985,
          33.774715,
          33.838771,
          34.027509,
          34.032103,
          34.000198,
          34.10084,
          34.146105,
          34.266902,
          34.41532,
          34.406912999999996,
          34.460446999999995,
          34.473405,
          34.442442,
          34.522953,
          34.560967,
          34.70464,
          34.755894999999995,
          34.85818,
          34.90254,
          35.061515,
          35.139616,
          35.206486999999996,
          35.255337,
          35.346776,
          35.430195999999995,
          35.46071,
          35.635399,
          35.665524,
          35.783106,
          35.888456999999995,
          36.000299,
          36.025155999999996,
          36.195146,
          36.306379,
          36.393603,
          36.518904,
          36.525172999999995,
          36.559934999999996,
          36.581488,
          36.636745999999995,
          36.611135999999995,
          36.682857999999996,
          36.803993999999996,
          36.931551999999996,
          36.97815,
          36.948271,
          36.967774,
          37.195791,
          37.359224999999995,
          37.492731,
          37.495340999999996,
          37.537302,
          37.644034999999995,
          37.780829,
          37.810828,
          37.790724,
          37.729504999999996,
          37.707530999999996,
          37.640193,
          37.615293,
          37.605592,
          37.507576,
          37.452267,
          37.454622,
          37.49523,
          37.500254,
          37.678503,
          37.724952,
          37.751779,
          37.781517,
          37.805558,
          37.828465,
          37.895793999999995,
          37.90911,
          37.963114999999995,
          37.978168,
          38.01253,
          38.022673999999995,
          38.0446,
          38.082889,
          38.143449,
          38.112013999999995,
          38.019402,
          37.984387,
          37.970523,
          37.942526,
          37.936414,
          37.880973999999995,
          37.861768999999995,
          37.893662,
          37.831927,
          37.814947,
          37.897507,
          37.902691,
          38.016717,
          38.031908,
          38.009119,
          37.989914,
          37.994878,
          38.15406,
          38.238626,
          38.232652,
          38.267902,
          38.310573,
          38.302178,
          38.450418,
          38.565542,
          38.699743999999995,
          38.919429,
          38.956227999999996,
          39.050795,
          39.348433,
          39.552803,
          39.832041,
          40.029773,
          40.103764999999996,
          40.257206,
          40.314634,
          40.443200999999995,
          null,
          null
         ]
        }
       ],
       "layout": {
        "annotations": [
         {
          "showarrow": false,
          "text": "<b>CO AQI</b>",
          "x": 1,
          "xanchor": "right",
          "xref": "paper",
          "y": 1.05,
          "yref": "paper"
         }
        ],
        "dragmode": "select",
        "height": 450,
        "hovermode": "closest",
        "legend": {
         "traceorder": "reversed",
         "x": 1,
         "xanchor": "right",
         "y": 1,
         "yanchor": "top"
        },
        "margin": {
         "b": 20,
         "l": 20,
         "r": 20,
         "t": 40
        },
        "title": {
         "text": "Mean CO AQI for County in 2015"
        },
        "width": 900,
        "xaxis": {
         "autorange": false,
         "fixedrange": true,
         "range": [
          -131.100286,
          -107.43952599999999
         ],
         "showgrid": false,
         "showticklabels": false,
         "zeroline": false
        },
        "yaxis": {
         "autorange": false,
         "fixedrange": true,
         "range": [
          32.534155999999996,
          41.99846
         ],
         "showgrid": false,
         "showticklabels": false,
         "zeroline": false
        }
       }
      },
      "text/html": [
       "<div>\n",
       "        \n",
       "        \n",
       "            <div id=\"672793b7-009c-4d72-8cfb-9c65370e5d0b\" class=\"plotly-graph-div\" style=\"height:450px; width:900px;\"></div>\n",
       "            <script type=\"text/javascript\">\n",
       "                require([\"plotly\"], function(Plotly) {\n",
       "                    window.PLOTLYENV=window.PLOTLYENV || {};\n",
       "                    \n",
       "                if (document.getElementById(\"672793b7-009c-4d72-8cfb-9c65370e5d0b\")) {\n",
       "                    Plotly.newPlot(\n",
       "                        '672793b7-009c-4d72-8cfb-9c65370e5d0b',\n",
       "                        [{\"fill\": \"toself\", \"fillcolor\": \"rgb(68, 1, 84)\", \"hoverinfo\": \"none\", \"line\": {\"color\": \"rgb(0, 0, 0)\", \"width\": 0}, \"mode\": \"lines\", \"name\": \"< 1\", \"type\": \"scatter\", \"x\": [], \"y\": []}, {\"fill\": \"toself\", \"fillcolor\": \"rgb(72, 24, 106)\", \"hoverinfo\": \"none\", \"line\": {\"color\": \"rgb(0, 0, 0)\", \"width\": 0}, \"mode\": \"lines\", \"name\": \"1 - 2\", \"type\": \"scatter\", \"x\": [], \"y\": []}, {\"fill\": \"toself\", \"fillcolor\": \"rgb(66, 64, 134)\", \"hoverinfo\": \"none\", \"line\": {\"color\": \"rgb(0, 0, 0)\", \"width\": 0}, \"mode\": \"lines\", \"name\": \"2 - 3\", \"type\": \"scatter\", \"x\": [-119.052774, -119.049684, -119.031145, -119.03233399999999, -119.052774, null, -119.929889, -119.759428, -119.637742, -119.584301, -119.52064, -119.560464, -119.818249, -119.873358, -119.876329, -119.929889, null, -120.249536, -120.043259, -120.046575, -119.980156, -119.968636, -120.11588499999999, -120.249536, null, -120.450064, -120.368278, -120.307219, -120.35793, -120.450064, null, -120.670835, -120.64933848246501, -120.496222, -120.301827, -120.323823, -120.209907, -120.143368, -120.082084, -119.535972, -119.442352, -119.44599099999999, -119.47863, -119.606513, -119.878199, -120.008077, -120.141165, -120.47137599999999, -120.511421, -120.64923999999999, -120.60045, -120.637415, -120.610266, -120.670835, null], \"y\": [33.46586, 33.483900999999996, 33.489649, 33.468834, 33.46586, null, 34.059734, 34.058835, 34.013177999999996, 34.053643, 34.034262, 33.995529999999995, 33.959858, 33.980374999999995, 34.032087, 34.059734, null, 34.002477, 34.035806, 34.000001999999995, 33.983653, 33.942878, 33.894360999999996, 34.002477, null, 34.034194, 34.076465, 34.022375, 34.015029, 34.034194, null, 34.904115, 34.9747100117234, 34.993155, 34.905571, 35.017314, 35.020582, 35.095563999999996, 35.114678, 34.89772, 34.901274, 34.404067, 34.373275, 34.420445, 34.406912999999996, 34.460446999999995, 34.473405, 34.447846, 34.522953, 34.576707, 34.70464, 34.755894999999995, 34.85818, 34.904115, null]}, {\"fill\": \"toself\", \"fillcolor\": \"rgb(51, 99, 141)\", \"hoverinfo\": \"none\", \"line\": {\"color\": \"rgb(0, 0, 0)\", \"width\": 0}, \"mode\": \"lines\", \"name\": \"3 - 4\", \"type\": \"scatter\", \"x\": [], \"y\": []}, {\"fill\": \"toself\", \"fillcolor\": \"rgb(38, 130, 142)\", \"hoverinfo\": \"none\", \"line\": {\"color\": \"rgb(0, 0, 0)\", \"width\": 0}, \"mode\": \"lines\", \"name\": \"4 - 5\", \"type\": \"scatter\", \"x\": [-124.408601, -124.137066, -124.111756, -124.153622, -124.165414, -124.106986, -124.065520896835, -123.770551, -123.770239, -123.474085, -123.455356, -123.40829099999999, -123.464006, -123.40603999999999, -123.481457, -123.560163, -123.623891, -123.563059, -123.543102, -123.54445799999999, -124.072509, -124.11054899999999, -124.360604, -124.347853, -124.408601, null, -118.11442, -118.058918, -117.976593, -117.97649799999999, -117.783287, -117.53644800000001, -117.533999, -117.413314, -117.51021, -117.508614, -117.57848, -117.596147232519, -118.11442, null, -121.86254199999999, -121.710888, -121.685586, -121.612102, -121.583954, -121.520777, -121.532696, -121.504139, -121.559167, -121.507241, -121.63019, -121.60289399999999, -121.118617, -121.027472, -121.027084, -121.34402399999999, -121.470958, -121.584074, -121.567184, -121.673065, -121.699765, -121.777485, -121.86254199999999, null, -117.802539, -117.76769, -117.730125, -117.646374, -117.667292, -117.632011, -117.63299599999999, -115.64802031181802, -114.633487, -114.634382, -114.470477, -114.436466, -114.380838, -114.386699, -114.176909, -114.131211, -114.435429, -115.316065, -115.31621200000001, -116.929558, -116.929537, -117.558312, -117.55837700000001, -117.610386, -117.610947, -117.655386, -117.673749, -117.802539, null, -117.596147232519, -117.57848, -117.508614, -117.509722, -117.364272, -117.241271, -116.085165, -116.10618141881301, -117.12486200000001, -117.168866, -117.246069, -117.28217000000001, -117.25447, -117.328359, -117.505919, -117.596147232519, null], \"y\": [40.443200999999995, 40.925731999999996, 41.026883, 41.05355, 41.129822, 41.229678, 41.464739464938205, 41.464193, 41.380776, 41.366192999999996, 41.236872999999996, 41.179944, 41.076347999999996, 41.012896999999995, 40.914957, 40.950257, 40.928674, 40.840416999999995, 40.734013999999995, 40.001923, 40.022656999999995, 40.103764999999996, 40.257206, 40.314634, 40.443200999999995, null, 33.745176, 33.846121, 33.902809999999995, 33.94605, 33.946411, 33.757664999999996, 33.710355, 33.659302, 33.533999, 33.469614, 33.453927, 33.3871676935322, 33.745176, null, 38.067949999999996, 38.086489, 38.159704999999995, 38.200068, 38.331652, 38.36212, 38.430788, 38.466563, 38.498007, 38.591150999999996, 38.677445, 38.735838, 38.717118, 38.508218, 38.300252, 38.22826, 38.259902, 38.120228, 38.097321, 38.093517999999996, 38.04522, 38.018916999999995, 38.067949999999996, null, 33.975550999999996, 34.023506, 34.021370999999995, 34.28917, 34.822525999999996, 34.822269999999996, 35.797250999999996, 35.8096294219517, 35.001857, 34.87289, 34.711368, 34.595400000000005, 34.529724, 34.457910999999996, 34.349306, 34.26273, 34.079727, 34.077843, 34.03411, 34.034113, 34.004914, 34.033451, 33.98842, 33.971613999999995, 33.925114, 33.925114, 33.870830999999995, 33.975550999999996, null, 33.3871676935322, 33.453927, 33.469614, 33.505019, 33.505024999999996, 33.431993, 33.425931999999996, 32.6186413746915, 32.534155999999996, 32.671952, 32.669351999999996, 32.839546999999996, 32.900146, 33.121842, 33.333253, 33.3871676935322, null]}, {\"fill\": \"toself\", \"fillcolor\": \"rgb(31, 160, 136)\", \"hoverinfo\": \"none\", \"line\": {\"color\": \"rgb(0, 0, 0)\", \"width\": 0}, \"mode\": \"lines\", \"name\": \"5 - 6\", \"type\": \"scatter\", \"x\": [-122.42976, -122.367582, -122.367909, -122.300823, -122.26966618816802, -122.146866, -121.862462, -121.78139, -121.699765, -121.673065, -121.604923, -121.557554, -121.57991, -121.556419, -121.578965, -121.534247, -121.555073, -121.96077, -122.045473, -122.185977, -122.263881, -122.390546, -122.42976, null, -120.909422, -120.65595, -120.590566, -120.598564, -120.541696, -120.450825, -120.454082, -120.371551, -120.290594, -120.079458, -119.81383199999999, -119.698075, -119.65160399999999, -119.620657, -119.604908, -119.561432, -119.537677, -119.568566, -119.559412, -119.506733, -119.474807, -119.432125, -119.361762, -119.32942800000001, -119.312186, -119.022363, -118.917158, -118.856049, -118.795839, -118.76328699999999, -118.78673599999999, -118.716016, -118.665332, -118.686424, -118.667447, -118.44128599999999, -118.36083099999999, -118.362169, -118.39372399999999, -118.360586, -118.982441, -118.984779, -119.304625, -119.305102, -119.46632199999999, -119.66692, -119.959227, -119.958916, -120.318719, -120.360402, -120.433053, -120.600607, -120.648784, -120.672105, -120.627055, -120.679741, -120.682723, -120.596562, -120.597155, -120.909422, null, -117.676286, -117.655386, -117.610947, -117.610386, -117.55837700000001, -117.558312, -116.929537, -116.929558, -115.31621200000001, -115.316065, -114.435429, -114.438266, -114.535478, -114.50792, -114.52805, -114.494197, -114.53152299999999, -114.524599, -114.627125, -117.241271, -117.364272, -117.509722, -117.413314, -117.533999, -117.53644800000001, -117.580136, -117.676286, null], \"y\": [37.965405, 37.978168, 38.01253, 38.010892999999996, 38.0603362895779, 38.031727, 38.06603, 38.018612, 38.04522, 38.093517999999996, 38.099878, 38.017036999999995, 38.007782999999996, 37.923302, 37.858497, 37.849891, 37.817442, 37.718629, 37.798125999999996, 37.820726, 37.903675, 37.90911, 37.965405, null, 36.747696, 36.952832, 36.952641, 36.99863, 37.044505, 36.913471, 36.860206, 36.785835999999996, 36.763047, 36.825345, 36.850207999999995, 37.008748, 37.042961, 37.027058, 37.071016, 37.065484999999995, 37.104019, 37.116689, 37.143619, 37.150554, 37.109963, 37.162571, 37.167998, 37.209997, 37.352725, 37.585737, 37.550336, 37.478395, 37.488372, 37.456537, 37.343379999999996, 37.328208, 37.261917, 37.227575, 37.155443, 37.063855, 36.887734, 36.844001999999996, 36.829668, 36.744772999999995, 36.741645999999996, 36.657146999999995, 36.660606, 36.573724999999996, 36.575238, 36.418728, 36.400974999999995, 36.181414, 35.906914, 35.964417999999995, 35.968933, 36.101586999999995, 36.10799, 36.163844, 36.203039, 36.246665, 36.294441, 36.328488, 36.488234999999996, 36.747696, null, 33.888815, 33.925114, 33.925114, 33.971613999999995, 33.98842, 34.033451, 34.004914, 34.034113, 34.03411, 34.077843, 34.079727, 34.022608999999996, 33.934650999999995, 33.903807, 33.814963, 33.707921999999996, 33.675108, 33.552231, 33.433554, 33.431993, 33.505024999999996, 33.505019, 33.659302, 33.710355, 33.757664999999996, 33.767987999999995, 33.888815, null]}, {\"fill\": \"toself\", \"fillcolor\": \"rgb(63, 188, 115)\", \"hoverinfo\": \"none\", \"line\": {\"color\": \"rgb(0, 0, 0)\", \"width\": 0}, \"mode\": \"lines\", \"name\": \"6 - 7\", \"type\": \"scatter\", \"x\": [-118.604415, -118.370323, -118.305084, -118.465368, -118.48875, -118.575394, -118.604415, null, -118.6105, -118.573897, -118.354185, -118.431809, -118.50620599999999, -118.6105, null, -118.944502, -118.940801, -118.788889, -118.66815199999999, -118.66771299999999, -118.632495, -118.894474, -117.667292, -117.646374, -117.730125, -117.785062, -117.783287, -117.97649799999999, -117.976593, -118.058918, -118.11541107728301, -118.18035, -118.183342, -118.269645, -118.411211, -118.42840699999999, -118.391103, -118.460611, -118.543115, -118.744952, -118.806367, -118.944502, null, -122.202653, -122.190506, -122.11516140516001, -122.058336, -121.865267, -121.47295199999999, -121.456651, -121.409075, -121.405753, -121.458051, -121.45575, -121.399019, -121.35955799999999, -121.23711, -121.217339, -121.245384, -121.208198, -121.248647, -121.246638, -121.215406, -121.48894899999999, -121.575402, -121.59035399999999, -121.738697, -121.718762, -121.75492, -122.026107, -122.193062, -122.202653, null, -122.403475, -122.19538, -122.205982, -122.061379, -122.126389, -122.09077500000001, -122.01337699999999, -121.940285, -121.712034, -121.693697, -121.593273, -121.614471, -121.685586, -121.710888, -121.79849, -122.061103, -122.156852, -122.26966618816802, -122.403475, null], \"y\": [33.478552, 33.409285, 33.310323, 33.326056, 33.419826, 33.440179, 33.478552, null, 33.032941, 33.03055, 32.820918999999996, 32.801462, 32.852985, 33.032941, null, 34.046563, 34.074967, 34.168214, 34.168195, 34.240404, 34.240426, 34.817972, 34.822525999999996, 34.28917, 34.021370999999995, 34.004809, 33.946411, 33.94605, 33.902809999999995, 33.846121, 33.7432945549888, 33.763413, 33.723186, 33.704029999999996, 33.741985, 33.774715, 33.838771, 33.969111, 34.038508, 34.032103, 34.000198, 34.046563, null, 37.363046, 37.430955999999995, 37.4662797321484, 37.446788, 37.484637, 37.482333, 37.395534999999995, 37.380672, 37.31099, 37.284138999999996, 37.24944, 37.150135, 37.184453, 37.157204, 37.123042, 37.089501, 37.061288999999995, 37.03368, 36.987048, 36.961248, 36.983148, 36.893032999999996, 36.926151, 36.989990999999996, 37.007557, 37.048449999999995, 37.16681, 37.318276999999995, 37.363046, null, 38.155465, 38.155017, 38.315712999999995, 38.327411, 38.428917999999996, 38.515996, 38.488721, 38.533384, 38.537962, 38.313732, 38.313089, 38.196473999999995, 38.159704999999995, 38.086489, 38.060111, 38.062137, 38.032945999999995, 38.0603362895779, 38.155465, null]}, {\"fill\": \"toself\", \"fillcolor\": \"rgb(132, 212, 75)\", \"hoverinfo\": \"none\", \"line\": {\"color\": \"rgb(0, 0, 0)\", \"width\": 0}, \"mode\": \"lines\", \"name\": \"7 - 8\", \"type\": \"scatter\", \"x\": [], \"y\": []}, {\"fill\": \"toself\", \"fillcolor\": \"rgb(216, 226, 25)\", \"hoverinfo\": \"none\", \"line\": {\"color\": \"rgb(0, 0, 0)\", \"width\": 0}, \"mode\": \"lines\", \"name\": \"8 - 9\", \"type\": \"scatter\", \"x\": [-122.342253, -122.296618, -122.326912, -122.27108, -122.185977, -122.045473, -121.96077, -121.55915999999999, -121.556655, -121.47106, -122.049837, -122.055541, -122.10942, -122.170648, -122.342253, null, -116.106166, -116.085165, -114.627125, -114.725535, -114.698035, -114.731223, -114.672088, -114.707819, -114.66506, -114.52013, -114.469039, -114.468971, -114.539224, -116.10618141881301, -116.106166, null], \"y\": [37.805558, 37.828465, 37.892492, 37.905823999999996, 37.820726, 37.798125999999996, 37.718629, 37.818926999999995, 37.542732, 37.483317, 37.466077999999996, 37.49523, 37.500254, 37.678503, 37.805558, null, 32.640201999999995, 33.425931999999996, 33.433554, 33.404056, 33.352441999999996, 33.302434, 33.258499, 33.091102, 33.033908, 33.029984, 32.972294999999995, 32.845155, 32.749812, 32.6186413746915, 32.640201999999995, null]}, {\"fill\": \"toself\", \"fillcolor\": \"rgb(253, 231, 37)\", \"hoverinfo\": \"none\", \"line\": {\"color\": \"rgb(0, 0, 0)\", \"width\": 0}, \"mode\": \"lines\", \"name\": \"> 9\", \"type\": \"scatter\", \"x\": [], \"y\": []}, {\"hoverinfo\": \"text\", \"legendgroup\": \"centroids\", \"marker\": {\"color\": \"white\", \"opacity\": 0}, \"mode\": \"markers\", \"name\": \"US Counties\", \"selected\": {\"marker\": {\"color\": \"white\", \"opacity\": 1, \"size\": 3}}, \"showlegend\": false, \"text\": [\"County: Santa Barbara<br>State: California<br>FIPS: 06083<br>Value: 2.5659494855004676\", \"County: Santa Barbara<br>State: California<br>FIPS: 06083<br>Value: 2.5659494855004676\", \"County: Santa Barbara<br>State: California<br>FIPS: 06083<br>Value: 2.5659494855004676\", \"County: Santa Barbara<br>State: California<br>FIPS: 06083<br>Value: 2.5659494855004676\", \"County: Santa Barbara<br>State: California<br>FIPS: 06083<br>Value: 2.5659494855004676\", \"County: Los Angeles<br>State: California<br>FIPS: 06037<br>Value: 6.924499229583976\", \"County: Los Angeles<br>State: California<br>FIPS: 06037<br>Value: 6.924499229583976\", \"County: Los Angeles<br>State: California<br>FIPS: 06037<br>Value: 6.924499229583976\", \"County: Alameda<br>State: California<br>FIPS: 06001<br>Value: 8.285714285714286\", \"County: Contra Costa<br>State: California<br>FIPS: 06013<br>Value: 5.272058823529412\", \"County: Fresno<br>State: California<br>FIPS: 06019<br>Value: 5.628242074927954\", \"County: Humboldt<br>State: California<br>FIPS: 06023<br>Value: 4.033245993772354\", \"County: Imperial<br>State: California<br>FIPS: 06025<br>Value: 8.127777777777778\", \"County: Orange<br>State: California<br>FIPS: 06059<br>Value: 4.736231884057971\", \"County: Riverside<br>State: California<br>FIPS: 06065<br>Value: 5.909217877094972\", \"County: Sacramento<br>State: California<br>FIPS: 06067<br>Value: 4.948424068767908\", \"County: San Bernardino<br>State: California<br>FIPS: 06071<br>Value: 4.884669479606188\", \"County: San Diego<br>State: California<br>FIPS: 06073<br>Value: 4.480938416422287\", \"County: Santa Clara<br>State: California<br>FIPS: 06085<br>Value: 6.013812154696133\", \"County: Solano<br>State: California<br>FIPS: 06095<br>Value: 6.512396694214876\"], \"type\": \"scatter\", \"unselected\": {\"marker\": {\"opacity\": 0}}, \"x\": [[-119.03939399090983], [-119.7453978812133], [-120.10521658197752], [-120.37266186767484], [-120.02227232553018], [-118.43439079091362], [-118.49014796829917], [-118.2170365255692], -121.88875421101815, -121.92792596327368, -119.64930558434699, -123.87562937160736, -115.36535115086141, -117.76107879941756, -115.99381567477099, -121.34424183488738, -116.17840761818748, -116.73529316484134, -121.69512828430553, -121.93285201165745], \"y\": [[33.47564188440025], [34.01403225168951], [33.966566358821716], [34.03801601018601], [34.72481353803675], [33.38251324242627], [32.90130583174091], [34.358917475517885], 37.64695480351439, 37.91916207724548, 36.75819639897621, 40.699297496044885, 33.03951207342643, 33.702973868568144, 33.743649292569536, 38.449313197289484, 34.84138099581411, 33.03413701794012, 37.23178985468803, 38.26997287512082]}, {\"hoverinfo\": \"text\", \"legendgroup\": \"States\", \"line\": {\"color\": \"rgb(240, 240, 240)\", \"width\": 1}, \"mode\": \"lines\", \"showlegend\": false, \"type\": \"scatter\", \"x\": [-118.604415, -118.370323, -118.305084, -118.465368, -118.48875, -118.575394, -118.604415, null, -118.6105, -118.573897, -118.354185, -118.431809, -118.50620599999999, -118.6105, null, -119.052774, -119.049684, -119.031145, -119.03233399999999, -119.052774, null, -119.441226, -119.396251, -119.373406, -119.357462, -119.441226, null, -119.577271, -119.528778, -119.434402, -119.546212, -119.577271, null, -119.929889, -119.759428, -119.637742, -119.584301, -119.52064, -119.560464, -119.818249, -119.873358, -119.876329, -119.929889, null, -120.249536, -120.043259, -120.046575, -119.980156, -119.968636, -120.11588499999999, -120.249536, null, -120.450064, -120.368278, -120.307219, -120.35793, -120.450064, null, -122.377679, -122.362911, -122.36229399999999, -122.372836, -122.377679, null, -122.446316, -122.424651, -122.41847, -122.441271, -122.446316, null, -123.013916, -123.003507, -122.99875399999999, -123.002794, -123.013916, null, -124.217495, -124.216181, -124.213021, -124.215001, -124.217495, null, -124.408601, -124.158322, -124.111756, -124.153622, -124.165414, -124.106986, -124.066057, -124.147412, -124.254954, -124.208439, -124.21160499999999, -119.999168, -120.001014, -117.500117, -114.633487, -114.634382, -114.470477, -114.436466, -114.380838, -114.386699, -114.176909, -114.131211, -114.434181, -114.438266, -114.535478, -114.50792, -114.52805, -114.494197, -114.53152299999999, -114.524599, -114.643302, -114.72528199999999, -114.698035, -114.731223, -114.672088, -114.706488, -114.66506, -114.52013, -114.469039, -114.468971, -114.530755, -114.526856, -114.618373, -114.701918, -114.719633, -117.12486200000001, -117.168866, -117.246069, -117.28217000000001, -117.25447, -117.328359, -117.46979400000001, -117.652692, -117.714617, -117.784888, -118.132698, -118.18035, -118.183342, -118.269645, -118.411211, -118.42840699999999, -118.391103, -118.519514, -118.744952, -118.806367, -119.129252, -119.216441, -119.278644, -119.563986, -119.878199, -120.008077, -120.141165, -120.452811, -120.511421, -120.63672199999999, -120.60045, -120.637415, -120.610266, -120.672269, -120.629931, -120.644311, -120.856047, -120.8996, -120.862684, -120.88475700000001, -121.003359, -121.166712, -121.28653, -121.332449, -121.46491, -121.503112, -121.574602, -121.717176, -121.902729, -121.903195, -121.95447300000001, -121.925937, -121.932508, -121.978714, -121.93643, -121.860604, -121.81446199999999, -121.78827799999999, -121.862266, -121.930069, -122.06642099999999, -122.135161, -122.405073, -122.40084999999999, -122.459577, -122.499289, -122.519533, -122.494085, -122.514483, -122.478083, -122.385323, -122.356784, -122.39319, -122.389313, -122.355627, -122.378545, -122.136422, -122.08874, -122.038599, -122.055541, -122.10942, -122.170648, -122.252172, -122.24394699999999, -122.33227, -122.342253, -122.296618, -122.311399, -122.390546, -122.430087, -122.367582, -122.367909, -122.283478, -122.262861, -122.282824, -122.393588, -122.489974, -122.497828, -122.447304, -122.495553, -122.479512, -122.50506, -122.438268, -122.457999, -122.501019, -122.472736, -122.527399, -122.641963, -122.72518099999999, -122.856573, -122.939711, -122.981776, -122.963544, -123.024066, -122.949074, -122.995631, -122.972101, -122.977082, -123.024333, -123.063671, -123.128825, -123.33189899999999, -123.441774, -123.727976, -123.74192099999999, -123.69124, -123.827716, -123.766475, -123.851714, -124.079983, -124.11054899999999, -124.360604, -124.347853, -124.408601, null, null], \"y\": [33.478552, 33.409285, 33.310323, 33.326056, 33.419826, 33.440179, 33.478552, null, 33.032941, 33.03055, 32.820918999999996, 32.801462, 32.852985, 33.032941, null, 33.46586, 33.483900999999996, 33.489649, 33.468834, 33.46586, null, 34.014075, 34.005918, 34.015440999999996, 34.015919, 34.014075, null, 33.278582, 33.285416999999995, 33.227021, 33.232561, 33.278582, null, 34.059734, 34.058835, 34.013177999999996, 34.053643, 34.034262, 33.995529999999995, 33.959858, 33.980374999999995, 34.032087, 34.059734, null, 34.002477, 34.035806, 34.000001999999995, 33.983653, 33.942878, 33.894360999999996, 34.002477, null, 34.034194, 34.076465, 34.022375, 34.015029, 34.034194, null, 37.830459999999995, 37.822696, 37.807016, 37.811068, 37.830459999999995, null, 37.861046, 37.870736, 37.852720999999995, 37.855142, 37.861046, null, 37.700355, 37.704395999999996, 37.697438, 37.692736, 37.700355, null, 41.95081, 41.952211999999996, 41.951023, 41.949734, 41.95081, null, 40.443200999999995, 40.876069, 41.026883, 41.05355, 41.129822, 41.229678, 41.470258, 41.717954999999996, 41.778169999999996, 41.888192, 41.99846, 41.99454, 38.999573999999996, 37.22038, 35.001857, 34.87289, 34.711368, 34.595400000000005, 34.529724, 34.457910999999996, 34.349306, 34.26273, 34.087379, 34.022608999999996, 33.934650999999995, 33.903807, 33.814963, 33.707921999999996, 33.675108, 33.552231, 33.416745, 33.405048, 33.352441999999996, 33.302434, 33.258499, 33.08816, 33.033908, 33.029984, 32.972294999999995, 32.845155, 32.793485, 32.757093999999995, 32.728245, 32.745548, 32.718762999999996, 32.534155999999996, 32.671952, 32.669351999999996, 32.839546999999996, 32.900146, 33.121842, 33.296417, 33.446154, 33.459914, 33.541525, 33.753217, 33.763413, 33.723186, 33.704029999999996, 33.741985, 33.774715, 33.838771, 34.027509, 34.032103, 34.000198, 34.10084, 34.146105, 34.266902, 34.41532, 34.406912999999996, 34.460446999999995, 34.473405, 34.442442, 34.522953, 34.560967, 34.70464, 34.755894999999995, 34.85818, 34.90254, 35.061515, 35.139616, 35.206486999999996, 35.255337, 35.346776, 35.430195999999995, 35.46071, 35.635399, 35.665524, 35.783106, 35.888456999999995, 36.000299, 36.025155999999996, 36.195146, 36.306379, 36.393603, 36.518904, 36.525172999999995, 36.559934999999996, 36.581488, 36.636745999999995, 36.611135999999995, 36.682857999999996, 36.803993999999996, 36.931551999999996, 36.97815, 36.948271, 36.967774, 37.195791, 37.359224999999995, 37.492731, 37.495340999999996, 37.537302, 37.644034999999995, 37.780829, 37.810828, 37.790724, 37.729504999999996, 37.707530999999996, 37.640193, 37.615293, 37.605592, 37.507576, 37.452267, 37.454622, 37.49523, 37.500254, 37.678503, 37.724952, 37.751779, 37.781517, 37.805558, 37.828465, 37.895793999999995, 37.90911, 37.963114999999995, 37.978168, 38.01253, 38.022673999999995, 38.0446, 38.082889, 38.143449, 38.112013999999995, 38.019402, 37.984387, 37.970523, 37.942526, 37.936414, 37.880973999999995, 37.861768999999995, 37.893662, 37.831927, 37.814947, 37.897507, 37.902691, 38.016717, 38.031908, 38.009119, 37.989914, 37.994878, 38.15406, 38.238626, 38.232652, 38.267902, 38.310573, 38.302178, 38.450418, 38.565542, 38.699743999999995, 38.919429, 38.956227999999996, 39.050795, 39.348433, 39.552803, 39.832041, 40.029773, 40.103764999999996, 40.257206, 40.314634, 40.443200999999995, null, null]}],\n",
       "                        {\"annotations\": [{\"showarrow\": false, \"text\": \"<b>CO AQI</b>\", \"x\": 1, \"xanchor\": \"right\", \"xref\": \"paper\", \"y\": 1.05, \"yref\": \"paper\"}], \"dragmode\": \"select\", \"height\": 450, \"hovermode\": \"closest\", \"legend\": {\"traceorder\": \"reversed\", \"x\": 1, \"xanchor\": \"right\", \"y\": 1, \"yanchor\": \"top\"}, \"margin\": {\"b\": 20, \"l\": 20, \"r\": 20, \"t\": 40}, \"title\": {\"text\": \"Mean CO AQI for County in 2015\"}, \"width\": 900, \"xaxis\": {\"autorange\": false, \"fixedrange\": true, \"range\": [-131.100286, -107.43952599999999], \"showgrid\": false, \"showticklabels\": false, \"zeroline\": false}, \"yaxis\": {\"autorange\": false, \"fixedrange\": true, \"range\": [32.534155999999996, 41.99846], \"showgrid\": false, \"showticklabels\": false, \"zeroline\": false}},\n",
       "                        {\"responsive\": true}\n",
       "                    ).then(function(){\n",
       "                            \n",
       "var gd = document.getElementById('672793b7-009c-4d72-8cfb-9c65370e5d0b');\n",
       "var x = new MutationObserver(function (mutations, observer) {{\n",
       "        var display = window.getComputedStyle(gd).display;\n",
       "        if (!display || display === 'none') {{\n",
       "            console.log([gd, 'removed!']);\n",
       "            Plotly.purge(gd);\n",
       "            observer.disconnect();\n",
       "        }}\n",
       "}});\n",
       "\n",
       "// Listen for the removal of the full notebook cells\n",
       "var notebookContainer = gd.closest('#notebook-container');\n",
       "if (notebookContainer) {{\n",
       "    x.observe(notebookContainer, {childList: true});\n",
       "}}\n",
       "\n",
       "// Listen for the clearing of the current output cell\n",
       "var outputEl = gd.closest('.output');\n",
       "if (outputEl) {{\n",
       "    x.observe(outputEl, {childList: true});\n",
       "}}\n",
       "\n",
       "                        })\n",
       "                };\n",
       "                });\n",
       "            </script>\n",
       "        </div>"
      ]
     },
     "metadata": {},
     "output_type": "display_data"
    }
   ],
   "source": [
    "aqi_2015_fig.show()"
   ]
  },
  {
   "cell_type": "markdown",
   "metadata": {
    "slideshow": {
     "slide_type": "slide"
    }
   },
   "source": [
    "# Conclusion"
   ]
  },
  {
   "cell_type": "markdown",
   "metadata": {
    "slideshow": {
     "slide_type": "slide"
    }
   },
   "source": [
    "## Future Plans\n",
    "\n",
    "talk about or future plans"
   ]
  },
  {
   "cell_type": "markdown",
   "metadata": {
    "slideshow": {
     "slide_type": "slide"
    }
   },
   "source": [
    "# Acknowledegments\n",
    "\n",
    "We would like to thank Ahan Mukhopdhyay for his continuous support and guidance throughout this project."
   ]
  },
  {
   "cell_type": "markdown",
   "metadata": {
    "slideshow": {
     "slide_type": "slide"
    }
   },
   "source": [
    "# References\n",
    "\n",
    "https://plot.ly/python/choropleth-maps/\n",
    "https://plot.ly/python/county-choropleth/"
   ]
  },
  {
   "cell_type": "code",
   "execution_count": null,
   "metadata": {},
   "outputs": [],
   "source": []
  }
 ],
 "metadata": {
  "celltoolbar": "Slideshow",
  "kernelspec": {
   "display_name": "Python 3",
   "language": "python",
   "name": "python3"
  },
  "language_info": {
   "codemirror_mode": {
    "name": "ipython",
    "version": 3
   },
   "file_extension": ".py",
   "mimetype": "text/x-python",
   "name": "python",
   "nbconvert_exporter": "python",
   "pygments_lexer": "ipython3",
   "version": "3.7.4"
  },
  "livereveal": {
   "scroll": true,
   "transition": "none"
  }
 },
 "nbformat": 4,
 "nbformat_minor": 2
}
