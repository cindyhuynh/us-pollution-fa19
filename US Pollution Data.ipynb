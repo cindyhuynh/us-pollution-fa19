{
 "cells": [
  {
   "cell_type": "code",
   "execution_count": 1,
   "metadata": {},
   "outputs": [],
   "source": [
    "import pandas as pd\n",
    "import numpy as np\n",
    "import seaborn as sns\n",
    "import matplotlib.pyplot as plt"
   ]
  },
  {
   "cell_type": "code",
   "execution_count": 2,
   "metadata": {},
   "outputs": [],
   "source": [
    "raw_data = pd.read_csv('pollution_us_2000_2016.csv')"
   ]
  },
  {
   "cell_type": "code",
   "execution_count": 3,
   "metadata": {},
   "outputs": [],
   "source": [
    "raw_data_copy = raw_data.copy() # just so I don't mess up the real data"
   ]
  },
  {
   "cell_type": "markdown",
   "metadata": {},
   "source": [
    "---\n",
    "# Exploratory Data Analysis\n"
   ]
  },
  {
   "cell_type": "code",
   "execution_count": 4,
   "metadata": {},
   "outputs": [
    {
     "data": {
      "text/plain": [
       "(1746661, 29)"
      ]
     },
     "execution_count": 4,
     "metadata": {},
     "output_type": "execute_result"
    }
   ],
   "source": [
    "raw_data_copy.shape"
   ]
  },
  {
   "cell_type": "code",
   "execution_count": 5,
   "metadata": {},
   "outputs": [
    {
     "data": {
      "text/plain": [
       "Unnamed: 0                                  65010\n",
       "State Code                                     36\n",
       "County Code                                    81\n",
       "Site Num                                       97\n",
       "Address              56TH AVE AT SPRINGFIELD BLVD\n",
       "State                                    New York\n",
       "County                                     Queens\n",
       "City                                     New York\n",
       "Date Local                             2001-08-14\n",
       "NO2 Units                       Parts per billion\n",
       "NO2 Mean                                    16.75\n",
       "NO2 1st Max Value                              48\n",
       "NO2 1st Max Hour                               21\n",
       "NO2 AQI                                        45\n",
       "O3 Units                        Parts per million\n",
       "O3 Mean                                  0.037625\n",
       "O3 1st Max Value                            0.068\n",
       "O3 1st Max Hour                                12\n",
       "O3 AQI                                         77\n",
       "SO2 Units                       Parts per billion\n",
       "SO2 Mean                                  2.41667\n",
       "SO2 1st Max Value                               7\n",
       "SO2 1st Max Hour                                5\n",
       "SO2 AQI                                        10\n",
       "CO Units                        Parts per million\n",
       "CO Mean                                       0.5\n",
       "CO 1st Max Value                              0.7\n",
       "CO 1st Max Hour                                 0\n",
       "CO AQI                                          8\n",
       "Name: 156656, dtype: object"
      ]
     },
     "execution_count": 5,
     "metadata": {},
     "output_type": "execute_result"
    }
   ],
   "source": [
    "raw_data_copy.iloc[156656]"
   ]
  },
  {
   "cell_type": "code",
   "execution_count": 7,
   "metadata": {},
   "outputs": [
    {
     "data": {
      "text/plain": [
       "Unnamed: 0            0.000000\n",
       "State Code            0.000000\n",
       "County Code           0.000000\n",
       "Site Num              0.000000\n",
       "Address               0.000000\n",
       "State                 0.000000\n",
       "County                0.000000\n",
       "City                  0.000000\n",
       "Date Local            0.000000\n",
       "NO2 Units             0.000000\n",
       "NO2 Mean              0.000000\n",
       "NO2 1st Max Value     0.000000\n",
       "NO2 1st Max Hour      0.000000\n",
       "NO2 AQI               0.000000\n",
       "O3 Units              0.000000\n",
       "O3 Mean               0.000000\n",
       "O3 1st Max Value      0.000000\n",
       "O3 1st Max Hour       0.000000\n",
       "O3 AQI                0.000000\n",
       "SO2 Units             0.000000\n",
       "SO2 Mean              0.000000\n",
       "SO2 1st Max Value     0.000000\n",
       "SO2 1st Max Hour      0.000000\n",
       "SO2 AQI              49.975754\n",
       "CO Units              0.000000\n",
       "CO Mean               0.000000\n",
       "CO 1st Max Value      0.000000\n",
       "CO 1st Max Hour       0.000000\n",
       "CO AQI               49.999571\n",
       "dtype: float64"
      ]
     },
     "execution_count": 7,
     "metadata": {},
     "output_type": "execute_result"
    }
   ],
   "source": [
    "(raw_data_copy.isnull().sum()/len(raw_data_copy)*100) # %age of NA values in each column"
   ]
  },
  {
   "cell_type": "code",
   "execution_count": 8,
   "metadata": {},
   "outputs": [
    {
     "data": {
      "text/plain": [
       "[1, 2, 3, 4, 5, 6, 7, 8, 23, 28]"
      ]
     },
     "execution_count": 8,
     "metadata": {},
     "output_type": "execute_result"
    }
   ],
   "source": [
    "# select relevant columns\n",
    "columns_to_observe = list(range(1, 9))+[23, 28]\n",
    "columns_to_observe"
   ]
  },
  {
   "cell_type": "code",
   "execution_count": 9,
   "metadata": {},
   "outputs": [
    {
     "data": {
      "text/html": [
       "<div>\n",
       "<table border=\"1\" class=\"dataframe\">\n",
       "  <thead>\n",
       "    <tr style=\"text-align: right;\">\n",
       "      <th></th>\n",
       "      <th>State Code</th>\n",
       "      <th>County Code</th>\n",
       "      <th>Site Num</th>\n",
       "      <th>Address</th>\n",
       "      <th>State</th>\n",
       "      <th>County</th>\n",
       "      <th>City</th>\n",
       "      <th>Date Local</th>\n",
       "      <th>SO2 AQI</th>\n",
       "      <th>CO AQI</th>\n",
       "    </tr>\n",
       "  </thead>\n",
       "  <tbody>\n",
       "    <tr>\n",
       "      <th>0</th>\n",
       "      <td>4</td>\n",
       "      <td>13</td>\n",
       "      <td>3002</td>\n",
       "      <td>1645 E ROOSEVELT ST-CENTRAL PHOENIX STN</td>\n",
       "      <td>Arizona</td>\n",
       "      <td>Maricopa</td>\n",
       "      <td>Phoenix</td>\n",
       "      <td>2000-01-01</td>\n",
       "      <td>13.0</td>\n",
       "      <td>NaN</td>\n",
       "    </tr>\n",
       "    <tr>\n",
       "      <th>1</th>\n",
       "      <td>4</td>\n",
       "      <td>13</td>\n",
       "      <td>3002</td>\n",
       "      <td>1645 E ROOSEVELT ST-CENTRAL PHOENIX STN</td>\n",
       "      <td>Arizona</td>\n",
       "      <td>Maricopa</td>\n",
       "      <td>Phoenix</td>\n",
       "      <td>2000-01-01</td>\n",
       "      <td>13.0</td>\n",
       "      <td>25.0</td>\n",
       "    </tr>\n",
       "    <tr>\n",
       "      <th>2</th>\n",
       "      <td>4</td>\n",
       "      <td>13</td>\n",
       "      <td>3002</td>\n",
       "      <td>1645 E ROOSEVELT ST-CENTRAL PHOENIX STN</td>\n",
       "      <td>Arizona</td>\n",
       "      <td>Maricopa</td>\n",
       "      <td>Phoenix</td>\n",
       "      <td>2000-01-01</td>\n",
       "      <td>NaN</td>\n",
       "      <td>NaN</td>\n",
       "    </tr>\n",
       "    <tr>\n",
       "      <th>3</th>\n",
       "      <td>4</td>\n",
       "      <td>13</td>\n",
       "      <td>3002</td>\n",
       "      <td>1645 E ROOSEVELT ST-CENTRAL PHOENIX STN</td>\n",
       "      <td>Arizona</td>\n",
       "      <td>Maricopa</td>\n",
       "      <td>Phoenix</td>\n",
       "      <td>2000-01-01</td>\n",
       "      <td>NaN</td>\n",
       "      <td>25.0</td>\n",
       "    </tr>\n",
       "    <tr>\n",
       "      <th>4</th>\n",
       "      <td>4</td>\n",
       "      <td>13</td>\n",
       "      <td>3002</td>\n",
       "      <td>1645 E ROOSEVELT ST-CENTRAL PHOENIX STN</td>\n",
       "      <td>Arizona</td>\n",
       "      <td>Maricopa</td>\n",
       "      <td>Phoenix</td>\n",
       "      <td>2000-01-02</td>\n",
       "      <td>4.0</td>\n",
       "      <td>NaN</td>\n",
       "    </tr>\n",
       "    <tr>\n",
       "      <th>5</th>\n",
       "      <td>4</td>\n",
       "      <td>13</td>\n",
       "      <td>3002</td>\n",
       "      <td>1645 E ROOSEVELT ST-CENTRAL PHOENIX STN</td>\n",
       "      <td>Arizona</td>\n",
       "      <td>Maricopa</td>\n",
       "      <td>Phoenix</td>\n",
       "      <td>2000-01-02</td>\n",
       "      <td>4.0</td>\n",
       "      <td>26.0</td>\n",
       "    </tr>\n",
       "    <tr>\n",
       "      <th>6</th>\n",
       "      <td>4</td>\n",
       "      <td>13</td>\n",
       "      <td>3002</td>\n",
       "      <td>1645 E ROOSEVELT ST-CENTRAL PHOENIX STN</td>\n",
       "      <td>Arizona</td>\n",
       "      <td>Maricopa</td>\n",
       "      <td>Phoenix</td>\n",
       "      <td>2000-01-02</td>\n",
       "      <td>NaN</td>\n",
       "      <td>NaN</td>\n",
       "    </tr>\n",
       "    <tr>\n",
       "      <th>7</th>\n",
       "      <td>4</td>\n",
       "      <td>13</td>\n",
       "      <td>3002</td>\n",
       "      <td>1645 E ROOSEVELT ST-CENTRAL PHOENIX STN</td>\n",
       "      <td>Arizona</td>\n",
       "      <td>Maricopa</td>\n",
       "      <td>Phoenix</td>\n",
       "      <td>2000-01-02</td>\n",
       "      <td>NaN</td>\n",
       "      <td>26.0</td>\n",
       "    </tr>\n",
       "    <tr>\n",
       "      <th>8</th>\n",
       "      <td>4</td>\n",
       "      <td>13</td>\n",
       "      <td>3002</td>\n",
       "      <td>1645 E ROOSEVELT ST-CENTRAL PHOENIX STN</td>\n",
       "      <td>Arizona</td>\n",
       "      <td>Maricopa</td>\n",
       "      <td>Phoenix</td>\n",
       "      <td>2000-01-03</td>\n",
       "      <td>16.0</td>\n",
       "      <td>NaN</td>\n",
       "    </tr>\n",
       "    <tr>\n",
       "      <th>9</th>\n",
       "      <td>4</td>\n",
       "      <td>13</td>\n",
       "      <td>3002</td>\n",
       "      <td>1645 E ROOSEVELT ST-CENTRAL PHOENIX STN</td>\n",
       "      <td>Arizona</td>\n",
       "      <td>Maricopa</td>\n",
       "      <td>Phoenix</td>\n",
       "      <td>2000-01-03</td>\n",
       "      <td>16.0</td>\n",
       "      <td>28.0</td>\n",
       "    </tr>\n",
       "  </tbody>\n",
       "</table>\n",
       "</div>"
      ],
      "text/plain": [
       "   State Code  County Code  Site Num                                  Address  \\\n",
       "0           4           13      3002  1645 E ROOSEVELT ST-CENTRAL PHOENIX STN   \n",
       "1           4           13      3002  1645 E ROOSEVELT ST-CENTRAL PHOENIX STN   \n",
       "2           4           13      3002  1645 E ROOSEVELT ST-CENTRAL PHOENIX STN   \n",
       "3           4           13      3002  1645 E ROOSEVELT ST-CENTRAL PHOENIX STN   \n",
       "4           4           13      3002  1645 E ROOSEVELT ST-CENTRAL PHOENIX STN   \n",
       "5           4           13      3002  1645 E ROOSEVELT ST-CENTRAL PHOENIX STN   \n",
       "6           4           13      3002  1645 E ROOSEVELT ST-CENTRAL PHOENIX STN   \n",
       "7           4           13      3002  1645 E ROOSEVELT ST-CENTRAL PHOENIX STN   \n",
       "8           4           13      3002  1645 E ROOSEVELT ST-CENTRAL PHOENIX STN   \n",
       "9           4           13      3002  1645 E ROOSEVELT ST-CENTRAL PHOENIX STN   \n",
       "\n",
       "     State    County     City  Date Local  SO2 AQI  CO AQI  \n",
       "0  Arizona  Maricopa  Phoenix  2000-01-01     13.0     NaN  \n",
       "1  Arizona  Maricopa  Phoenix  2000-01-01     13.0    25.0  \n",
       "2  Arizona  Maricopa  Phoenix  2000-01-01      NaN     NaN  \n",
       "3  Arizona  Maricopa  Phoenix  2000-01-01      NaN    25.0  \n",
       "4  Arizona  Maricopa  Phoenix  2000-01-02      4.0     NaN  \n",
       "5  Arizona  Maricopa  Phoenix  2000-01-02      4.0    26.0  \n",
       "6  Arizona  Maricopa  Phoenix  2000-01-02      NaN     NaN  \n",
       "7  Arizona  Maricopa  Phoenix  2000-01-02      NaN    26.0  \n",
       "8  Arizona  Maricopa  Phoenix  2000-01-03     16.0     NaN  \n",
       "9  Arizona  Maricopa  Phoenix  2000-01-03     16.0    28.0  "
      ]
     },
     "execution_count": 9,
     "metadata": {},
     "output_type": "execute_result"
    }
   ],
   "source": [
    "raw_data_copy.iloc[:, columns_to_observe].head(10) "
   ]
  },
  {
   "cell_type": "code",
   "execution_count": 10,
   "metadata": {},
   "outputs": [
    {
     "data": {
      "text/plain": [
       "PIKE AVE AT RIVER ROAD          35332\n",
       "1130 EASTWAY DRIVE              32012\n",
       "5888 MISSION BLVD., RUBIDOUX    30178\n",
       "1630 N MAIN ST, LOS ANGELES     25225\n",
       "2956-A TREAT BOULEVARD          23686\n",
       "Name: Address, dtype: int64"
      ]
     },
     "execution_count": 10,
     "metadata": {},
     "output_type": "execute_result"
    }
   ],
   "source": [
    "raw_data_copy.Address.value_counts().head() # number of instances of each address"
   ]
  },
  {
   "cell_type": "code",
   "execution_count": 11,
   "metadata": {},
   "outputs": [
    {
     "data": {
      "text/plain": [
       "1645 E ROOSEVELT ST-CENTRAL PHOENIX STN    22568\n",
       "1167 NORTH DOVER ROAD                       2572\n",
       "Name: Address, dtype: int64"
      ]
     },
     "execution_count": 11,
     "metadata": {},
     "output_type": "execute_result"
    }
   ],
   "source": [
    "raw_data_copy[raw_data_copy['Site Num'] == 3002].Address.value_counts() #Same site num has 2 address values"
   ]
  },
  {
   "cell_type": "code",
   "execution_count": 44,
   "metadata": {},
   "outputs": [],
   "source": [
    "# slice part of our dataset to work with\n",
    "df = raw_data_copy.copy()\n",
    "df = df[[\"NO2 AQI\", \"O3 AQI\", \"SO2 AQI\", \"CO AQI\", \"Date Local\"]]\n",
    "\n",
    "# combine all the state-county-sitecode for easier querying\n",
    "df['State County Site Code'] = raw_data_copy['State Code'].astype(str) + '-' + raw_data_copy['County Code'].astype(str) + '-' + raw_data_copy['Site Num'].astype(str)\n",
    "\n",
    "# get a list of all pollutants with AQI in the name \n",
    "AQI_names = [i for i in df if 'AQI' in i]\n",
    "\n",
    "# Filling NA values with the mean AQI of respective pollutant\n",
    "for i in range(len(AQI_names)):\n",
    "    to_fill = df.groupby(['State County Site Code', 'Date Local'])[AQI_names[i]].transform('mean')\n",
    "    df[AQI_names[i]] = raw_data_copy[AQI_names[i]].fillna(to_fill)\n"
   ]
  },
  {
   "cell_type": "code",
   "execution_count": 36,
   "metadata": {},
   "outputs": [
    {
     "data": {
      "text/html": [
       "<div>\n",
       "<table border=\"1\" class=\"dataframe\">\n",
       "  <thead>\n",
       "    <tr style=\"text-align: right;\">\n",
       "      <th></th>\n",
       "      <th>NO2 AQI</th>\n",
       "      <th>O3 AQI</th>\n",
       "      <th>SO2 AQI</th>\n",
       "      <th>CO AQI</th>\n",
       "      <th>Date Local</th>\n",
       "      <th>State County Site Code</th>\n",
       "    </tr>\n",
       "  </thead>\n",
       "  <tbody>\n",
       "    <tr>\n",
       "      <th>0</th>\n",
       "      <td>46</td>\n",
       "      <td>34</td>\n",
       "      <td>13.0</td>\n",
       "      <td>25.0</td>\n",
       "      <td>2000-01-01</td>\n",
       "      <td>4-13-3002</td>\n",
       "    </tr>\n",
       "    <tr>\n",
       "      <th>1</th>\n",
       "      <td>46</td>\n",
       "      <td>34</td>\n",
       "      <td>13.0</td>\n",
       "      <td>25.0</td>\n",
       "      <td>2000-01-01</td>\n",
       "      <td>4-13-3002</td>\n",
       "    </tr>\n",
       "    <tr>\n",
       "      <th>2</th>\n",
       "      <td>46</td>\n",
       "      <td>34</td>\n",
       "      <td>13.0</td>\n",
       "      <td>25.0</td>\n",
       "      <td>2000-01-01</td>\n",
       "      <td>4-13-3002</td>\n",
       "    </tr>\n",
       "    <tr>\n",
       "      <th>3</th>\n",
       "      <td>46</td>\n",
       "      <td>34</td>\n",
       "      <td>13.0</td>\n",
       "      <td>25.0</td>\n",
       "      <td>2000-01-01</td>\n",
       "      <td>4-13-3002</td>\n",
       "    </tr>\n",
       "    <tr>\n",
       "      <th>4</th>\n",
       "      <td>34</td>\n",
       "      <td>27</td>\n",
       "      <td>4.0</td>\n",
       "      <td>26.0</td>\n",
       "      <td>2000-01-02</td>\n",
       "      <td>4-13-3002</td>\n",
       "    </tr>\n",
       "  </tbody>\n",
       "</table>\n",
       "</div>"
      ],
      "text/plain": [
       "   NO2 AQI  O3 AQI  SO2 AQI  CO AQI  Date Local State County Site Code\n",
       "0       46      34     13.0    25.0  2000-01-01              4-13-3002\n",
       "1       46      34     13.0    25.0  2000-01-01              4-13-3002\n",
       "2       46      34     13.0    25.0  2000-01-01              4-13-3002\n",
       "3       46      34     13.0    25.0  2000-01-01              4-13-3002\n",
       "4       34      27      4.0    26.0  2000-01-02              4-13-3002"
      ]
     },
     "metadata": {},
     "output_type": "display_data"
    }
   ],
   "source": [
    "display(df.head())"
   ]
  },
  {
   "cell_type": "code",
   "execution_count": 39,
   "metadata": {},
   "outputs": [
    {
     "data": {
      "text/plain": [
       "5-119-7      35332\n",
       "37-119-41    32012\n",
       "6-65-8001    30178\n",
       "6-37-1103    25225\n",
       "6-13-2       23686\n",
       "Name: State County Site Code, dtype: int64"
      ]
     },
     "execution_count": 39,
     "metadata": {},
     "output_type": "execute_result"
    }
   ],
   "source": [
    "# count the amount of rows for each location\n",
    "df['State County Site Code'].value_counts().head()"
   ]
  },
  {
   "cell_type": "code",
   "execution_count": 40,
   "metadata": {
    "scrolled": true
   },
   "outputs": [
    {
     "data": {
      "text/plain": [
       "<matplotlib.axes._subplots.AxesSubplot at 0x7fc64683e8d0>"
      ]
     },
     "execution_count": 40,
     "metadata": {},
     "output_type": "execute_result"
    },
    {
     "data": {
      "image/png": "[encoded data removed]",
      "text/plain": [
       "<Figure size 432x288 with 1 Axes>"
      ]
     },
     "metadata": {
      "needs_background": "light"
     },
     "output_type": "display_data"
    }
   ],
   "source": [
    "# initial look at the graphs for just one location for all of the pollutants AQI\n",
    "df[df['State County Site Code'] == '4-13-3002'].plot(x = 'Date Local', y = 'CO AQI')"
   ]
  },
  {
   "cell_type": "code",
   "execution_count": 41,
   "metadata": {},
   "outputs": [
    {
     "data": {
      "text/plain": [
       "<matplotlib.axes._subplots.AxesSubplot at 0x7fc597fb4390>"
      ]
     },
     "execution_count": 41,
     "metadata": {},
     "output_type": "execute_result"
    },
    {
     "data": {
      "image/png": "[encoded data removed]",
      "text/plain": [
       "<Figure size 432x288 with 1 Axes>"
      ]
     },
     "metadata": {
      "needs_background": "light"
     },
     "output_type": "display_data"
    }
   ],
   "source": [
    "df[df['State County Site Code'] == '4-13-3002'].plot(x = 'Date Local', y = 'O3 AQI')"
   ]
  },
  {
   "cell_type": "code",
   "execution_count": 42,
   "metadata": {},
   "outputs": [
    {
     "data": {
      "text/plain": [
       "<matplotlib.axes._subplots.AxesSubplot at 0x7fc64677e1d0>"
      ]
     },
     "execution_count": 42,
     "metadata": {},
     "output_type": "execute_result"
    },
    {
     "data": {
      "image/png": "[encoded data removed]",
      "text/plain": [
       "<Figure size 432x288 with 1 Axes>"
      ]
     },
     "metadata": {
      "needs_background": "light"
     },
     "output_type": "display_data"
    }
   ],
   "source": [
    "df[df['State County Site Code'] == '4-13-3002'].plot(x = 'Date Local', y = 'NO2 AQI')"
   ]
  },
  {
   "cell_type": "code",
   "execution_count": 43,
   "metadata": {},
   "outputs": [
    {
     "data": {
      "text/plain": [
       "<matplotlib.axes._subplots.AxesSubplot at 0x7fc64671ab38>"
      ]
     },
     "execution_count": 43,
     "metadata": {},
     "output_type": "execute_result"
    },
    {
     "data": {
      "image/png": "[encoded data removed]",
      "text/plain": [
       "<Figure size 432x288 with 1 Axes>"
      ]
     },
     "metadata": {
      "needs_background": "light"
     },
     "output_type": "display_data"
    }
   ],
   "source": [
    "df[df['State County Site Code'] == '4-13-3002'].plot(x = 'Date Local', y = 'SO2 AQI')"
   ]
  },
  {
   "cell_type": "markdown",
   "metadata": {},
   "source": [
    "**Some questions we can try to explore and answer:**\n",
    "\n",
    "* Where and when do major pollutants originate from?\n",
    "* What are the characteristics of AQIs with higher severity? Variables to consider include location, time, climate, land-use characteristics, economic characteristics, etc. What are risk factors that cause high AQI?\n",
    "* What characteristics are associated with each category of cause?\n",
    "* How have characteristics of pollutants changed over time? Is there a clear trend?\n",
    "\n",
    "We should use Folium? https://python-visualization.github.io/folium/"
   ]
  },
  {
   "cell_type": "code",
   "execution_count": null,
   "metadata": {},
   "outputs": [],
   "source": []
  }
 ],
 "metadata": {
  "kernelspec": {
   "display_name": "Python 3",
   "language": "python",
   "name": "python3"
  },
  "language_info": {
   "codemirror_mode": {
    "name": "ipython",
    "version": 3
   },
   "file_extension": ".py",
   "mimetype": "text/x-python",
   "name": "python",
   "nbconvert_exporter": "python",
   "pygments_lexer": "ipython3",
   "version": "3.6.7"
  }
 },
 "nbformat": 4,
 "nbformat_minor": 2
}
